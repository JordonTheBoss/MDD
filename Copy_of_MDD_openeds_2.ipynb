{
  "nbformat": 4,
  "nbformat_minor": 0,
  "metadata": {
    "colab": {
      "provenance": [],
      "toc_visible": true,
      "include_colab_link": true
    },
    "kernelspec": {
      "name": "python3",
      "display_name": "Python 3"
    },
    "language_info": {
      "name": "python"
    }
  },
  "cells": [
    {
      "cell_type": "markdown",
      "metadata": {
        "id": "view-in-github",
        "colab_type": "text"
      },
      "source": [
        "<a href=\"https://colab.research.google.com/github/JordonTheBoss/MDD/blob/main/Copy_of_MDD_openeds_2.ipynb\" target=\"_parent\"><img src=\"https://colab.research.google.com/assets/colab-badge.svg\" alt=\"Open In Colab\"/></a>"
      ]
    },
    {
      "cell_type": "markdown",
      "source": [
        "**OpenEDS - Feature Extraction:  gaze direction, blinking, and size for preictal stage**\n",
        "\n",
        "- basically, we are identifying what's normal based on threshold values, then when we simulate our own prototype data we can create and determine abnormal values to suggest photosensitive epileptic seizures\n",
        "\n",
        "- we assume that anything that doesn't fall within the normal values or ranges, it's abnormal, and suggests seizure as proof-of-concept"
      ],
      "metadata": {
        "id": "zn4Qw_zkDR7x"
      }
    },
    {
      "cell_type": "code",
      "source": [
        "!pip install -q kaggle\n",
        "\n",
        "from google.colab import files\n",
        "files.upload()"
      ],
      "metadata": {
        "colab": {
          "base_uri": "https://localhost:8080/",
          "height": 108
        },
        "id": "dD2drteSWiH8",
        "outputId": "e2cddf33-615c-4eb0-9528-6a531158780e"
      },
      "execution_count": 67,
      "outputs": [
        {
          "output_type": "display_data",
          "data": {
            "text/plain": [
              "<IPython.core.display.HTML object>"
            ],
            "text/html": [
              "\n",
              "     <input type=\"file\" id=\"files-8d2e7634-fc9a-455f-ac3a-a9fe3fdc7424\" name=\"files[]\" multiple disabled\n",
              "        style=\"border:none\" />\n",
              "     <output id=\"result-8d2e7634-fc9a-455f-ac3a-a9fe3fdc7424\">\n",
              "      Upload widget is only available when the cell has been executed in the\n",
              "      current browser session. Please rerun this cell to enable.\n",
              "      </output>\n",
              "      <script>// Copyright 2017 Google LLC\n",
              "//\n",
              "// Licensed under the Apache License, Version 2.0 (the \"License\");\n",
              "// you may not use this file except in compliance with the License.\n",
              "// You may obtain a copy of the License at\n",
              "//\n",
              "//      http://www.apache.org/licenses/LICENSE-2.0\n",
              "//\n",
              "// Unless required by applicable law or agreed to in writing, software\n",
              "// distributed under the License is distributed on an \"AS IS\" BASIS,\n",
              "// WITHOUT WARRANTIES OR CONDITIONS OF ANY KIND, either express or implied.\n",
              "// See the License for the specific language governing permissions and\n",
              "// limitations under the License.\n",
              "\n",
              "/**\n",
              " * @fileoverview Helpers for google.colab Python module.\n",
              " */\n",
              "(function(scope) {\n",
              "function span(text, styleAttributes = {}) {\n",
              "  const element = document.createElement('span');\n",
              "  element.textContent = text;\n",
              "  for (const key of Object.keys(styleAttributes)) {\n",
              "    element.style[key] = styleAttributes[key];\n",
              "  }\n",
              "  return element;\n",
              "}\n",
              "\n",
              "// Max number of bytes which will be uploaded at a time.\n",
              "const MAX_PAYLOAD_SIZE = 100 * 1024;\n",
              "\n",
              "function _uploadFiles(inputId, outputId) {\n",
              "  const steps = uploadFilesStep(inputId, outputId);\n",
              "  const outputElement = document.getElementById(outputId);\n",
              "  // Cache steps on the outputElement to make it available for the next call\n",
              "  // to uploadFilesContinue from Python.\n",
              "  outputElement.steps = steps;\n",
              "\n",
              "  return _uploadFilesContinue(outputId);\n",
              "}\n",
              "\n",
              "// This is roughly an async generator (not supported in the browser yet),\n",
              "// where there are multiple asynchronous steps and the Python side is going\n",
              "// to poll for completion of each step.\n",
              "// This uses a Promise to block the python side on completion of each step,\n",
              "// then passes the result of the previous step as the input to the next step.\n",
              "function _uploadFilesContinue(outputId) {\n",
              "  const outputElement = document.getElementById(outputId);\n",
              "  const steps = outputElement.steps;\n",
              "\n",
              "  const next = steps.next(outputElement.lastPromiseValue);\n",
              "  return Promise.resolve(next.value.promise).then((value) => {\n",
              "    // Cache the last promise value to make it available to the next\n",
              "    // step of the generator.\n",
              "    outputElement.lastPromiseValue = value;\n",
              "    return next.value.response;\n",
              "  });\n",
              "}\n",
              "\n",
              "/**\n",
              " * Generator function which is called between each async step of the upload\n",
              " * process.\n",
              " * @param {string} inputId Element ID of the input file picker element.\n",
              " * @param {string} outputId Element ID of the output display.\n",
              " * @return {!Iterable<!Object>} Iterable of next steps.\n",
              " */\n",
              "function* uploadFilesStep(inputId, outputId) {\n",
              "  const inputElement = document.getElementById(inputId);\n",
              "  inputElement.disabled = false;\n",
              "\n",
              "  const outputElement = document.getElementById(outputId);\n",
              "  outputElement.innerHTML = '';\n",
              "\n",
              "  const pickedPromise = new Promise((resolve) => {\n",
              "    inputElement.addEventListener('change', (e) => {\n",
              "      resolve(e.target.files);\n",
              "    });\n",
              "  });\n",
              "\n",
              "  const cancel = document.createElement('button');\n",
              "  inputElement.parentElement.appendChild(cancel);\n",
              "  cancel.textContent = 'Cancel upload';\n",
              "  const cancelPromise = new Promise((resolve) => {\n",
              "    cancel.onclick = () => {\n",
              "      resolve(null);\n",
              "    };\n",
              "  });\n",
              "\n",
              "  // Wait for the user to pick the files.\n",
              "  const files = yield {\n",
              "    promise: Promise.race([pickedPromise, cancelPromise]),\n",
              "    response: {\n",
              "      action: 'starting',\n",
              "    }\n",
              "  };\n",
              "\n",
              "  cancel.remove();\n",
              "\n",
              "  // Disable the input element since further picks are not allowed.\n",
              "  inputElement.disabled = true;\n",
              "\n",
              "  if (!files) {\n",
              "    return {\n",
              "      response: {\n",
              "        action: 'complete',\n",
              "      }\n",
              "    };\n",
              "  }\n",
              "\n",
              "  for (const file of files) {\n",
              "    const li = document.createElement('li');\n",
              "    li.append(span(file.name, {fontWeight: 'bold'}));\n",
              "    li.append(span(\n",
              "        `(${file.type || 'n/a'}) - ${file.size} bytes, ` +\n",
              "        `last modified: ${\n",
              "            file.lastModifiedDate ? file.lastModifiedDate.toLocaleDateString() :\n",
              "                                    'n/a'} - `));\n",
              "    const percent = span('0% done');\n",
              "    li.appendChild(percent);\n",
              "\n",
              "    outputElement.appendChild(li);\n",
              "\n",
              "    const fileDataPromise = new Promise((resolve) => {\n",
              "      const reader = new FileReader();\n",
              "      reader.onload = (e) => {\n",
              "        resolve(e.target.result);\n",
              "      };\n",
              "      reader.readAsArrayBuffer(file);\n",
              "    });\n",
              "    // Wait for the data to be ready.\n",
              "    let fileData = yield {\n",
              "      promise: fileDataPromise,\n",
              "      response: {\n",
              "        action: 'continue',\n",
              "      }\n",
              "    };\n",
              "\n",
              "    // Use a chunked sending to avoid message size limits. See b/62115660.\n",
              "    let position = 0;\n",
              "    do {\n",
              "      const length = Math.min(fileData.byteLength - position, MAX_PAYLOAD_SIZE);\n",
              "      const chunk = new Uint8Array(fileData, position, length);\n",
              "      position += length;\n",
              "\n",
              "      const base64 = btoa(String.fromCharCode.apply(null, chunk));\n",
              "      yield {\n",
              "        response: {\n",
              "          action: 'append',\n",
              "          file: file.name,\n",
              "          data: base64,\n",
              "        },\n",
              "      };\n",
              "\n",
              "      let percentDone = fileData.byteLength === 0 ?\n",
              "          100 :\n",
              "          Math.round((position / fileData.byteLength) * 100);\n",
              "      percent.textContent = `${percentDone}% done`;\n",
              "\n",
              "    } while (position < fileData.byteLength);\n",
              "  }\n",
              "\n",
              "  // All done.\n",
              "  yield {\n",
              "    response: {\n",
              "      action: 'complete',\n",
              "    }\n",
              "  };\n",
              "}\n",
              "\n",
              "scope.google = scope.google || {};\n",
              "scope.google.colab = scope.google.colab || {};\n",
              "scope.google.colab._files = {\n",
              "  _uploadFiles,\n",
              "  _uploadFilesContinue,\n",
              "};\n",
              "})(self);\n",
              "</script> "
            ]
          },
          "metadata": {}
        },
        {
          "output_type": "stream",
          "name": "stdout",
          "text": [
            "Saving kaggle.json to kaggle (4).json\n"
          ]
        },
        {
          "output_type": "execute_result",
          "data": {
            "text/plain": [
              "{'kaggle (4).json': b'{\"username\":\"jordoggon\",\"key\":\"ca899e946bb5089dabc1e6e17d45770e\"}'}"
            ]
          },
          "metadata": {},
          "execution_count": 67
        }
      ]
    },
    {
      "cell_type": "code",
      "source": [
        "!mkdir ~/.kaggle\n",
        "!cp kaggle.json ~/.kaggle/\n",
        "!chmod 600 ~/.kaggle/kaggle.json"
      ],
      "metadata": {
        "id": "I4jmFPpTWiR2",
        "colab": {
          "base_uri": "https://localhost:8080/"
        },
        "outputId": "b1f9a79d-e5e9-463b-ab0c-840406daa244"
      },
      "execution_count": 68,
      "outputs": [
        {
          "output_type": "stream",
          "name": "stdout",
          "text": [
            "mkdir: cannot create directory ‘/root/.kaggle’: File exists\n"
          ]
        }
      ]
    },
    {
      "cell_type": "code",
      "source": [
        "import kagglehub\n",
        "\n",
        "# Download latest version\n",
        "path = kagglehub.dataset_download(\"soumicksarker/openeds-dataset\")\n",
        "\n",
        "print(\"Path to dataset files:\", path)"
      ],
      "metadata": {
        "colab": {
          "base_uri": "https://localhost:8080/"
        },
        "id": "BeLywTRmWfYs",
        "outputId": "083277c2-4d22-4642-f141-532f2b85f4f5"
      },
      "execution_count": 69,
      "outputs": [
        {
          "output_type": "stream",
          "name": "stdout",
          "text": [
            "Using Colab cache for faster access to the 'openeds-dataset' dataset.\n",
            "Path to dataset files: /kaggle/input/openeds-dataset\n"
          ]
        }
      ]
    },
    {
      "cell_type": "code",
      "metadata": {
        "colab": {
          "base_uri": "https://localhost:8080/"
        },
        "id": "wqEv3LLCvddM",
        "outputId": "5eb860a4-c625-4057-c35c-f2ba7c38a7c8"
      },
      "source": [
        "import os\n",
        "import numpy as np\n",
        "import cv2\n",
        "from tqdm import tqdm\n",
        "from PIL import Image\n",
        "from sklearn.model_selection import train_test_split\n",
        "from sklearn.preprocessing import StandardScaler\n",
        "from sklearn.svm import SVC\n",
        "from sklearn.metrics import accuracy_score, classification_report\n",
        "\n",
        "# The correct base path is now confirmed to be the path provided by kagglehub\n",
        "# base_path = \"/root/.cache/kagglehub/datasets/soumicksarker/openeds-dataset/versions/2/openEDS/openEDS/train\" # Previous incorrect path\n",
        "base_path = \"/kaggle/input/openeds-dataset\"\n",
        "images_dir = os.path.join(base_path, \"images\")\n",
        "masks_dir = os.path.join(base_path, \"masks\")\n",
        "labels_dir = os.path.join(base_path, \"labels\")\n",
        "\n",
        "# Load all files\n",
        "# Need to adjust paths to match the structure within the kagglehub download\n",
        "# Based on previous successful cells, the structure is likely openeds-dataset/openEDS/openEDS/train\n",
        "images_dir = os.path.join(base_path, \"openEDS\", \"openEDS\", \"train\", \"images\")\n",
        "masks_dir = os.path.join(base_path, \"openEDS\", \"openEDS\", \"train\", \"masks\")\n",
        "labels_dir = os.path.join(base_path, \"openEDS\", \"openEDS\", \"train\", \"labels\")\n",
        "\n",
        "\n",
        "image_files = sorted(os.listdir(images_dir))\n",
        "mask_files = sorted(os.listdir(masks_dir))\n",
        "\n",
        "print(f\"Attempting to process {len(image_files)} images and {len(mask_files)} masks.\")"
      ],
      "execution_count": 70,
      "outputs": [
        {
          "output_type": "stream",
          "name": "stdout",
          "text": [
            "Attempting to process 27431 images and 27431 masks.\n"
          ]
        }
      ]
    },
    {
      "cell_type": "code",
      "source": [
        "import os\n",
        "\n",
        "# The correct base path is the one provided by kagglehub\n",
        "base_path = \"/kaggle/input/openeds-dataset\"\n",
        "for folder in os.listdir(base_path):\n",
        "    print(folder)"
      ],
      "metadata": {
        "colab": {
          "base_uri": "https://localhost:8080/"
        },
        "id": "BSCd5gYIYbl5",
        "outputId": "400fe528-ea53-48f7-f559-445b9066fe44"
      },
      "execution_count": 71,
      "outputs": [
        {
          "output_type": "stream",
          "name": "stdout",
          "text": [
            "openEDS_events\n",
            "bbox\n",
            "openEDS\n"
          ]
        }
      ]
    },
    {
      "cell_type": "code",
      "metadata": {
        "colab": {
          "base_uri": "https://localhost:8080/"
        },
        "id": "1443f026",
        "outputId": "7bae3f3d-2bdd-4e07-f46b-f035b7bd4da5"
      },
      "source": [
        "openeds_path = os.path.join(base_path, \"openEDS\")\n",
        "print(os.listdir(openeds_path))"
      ],
      "execution_count": 72,
      "outputs": [
        {
          "output_type": "stream",
          "name": "stdout",
          "text": [
            "['openEDS']\n"
          ]
        }
      ]
    },
    {
      "cell_type": "code",
      "source": [
        "train_path = os.path.join(base_path, \"openEDS\", \"openEDS\", \"train\")\n",
        "print(os.listdir(train_path))"
      ],
      "metadata": {
        "colab": {
          "base_uri": "https://localhost:8080/"
        },
        "id": "d2T8swiyY38t",
        "outputId": "3f11cb22-90e2-4fcb-8dfe-9f828653e857"
      },
      "execution_count": 73,
      "outputs": [
        {
          "output_type": "stream",
          "name": "stdout",
          "text": [
            "['labels', 'images', 'masks']\n"
          ]
        }
      ]
    },
    {
      "cell_type": "code",
      "source": [
        "!pip install tqdm opencv-python numpy pillow scikit-learn\n"
      ],
      "metadata": {
        "colab": {
          "base_uri": "https://localhost:8080/"
        },
        "id": "0iwZ3FTPY4Dt",
        "outputId": "23ba244c-c9db-4af7-871a-60fc64c6a961"
      },
      "execution_count": 74,
      "outputs": [
        {
          "output_type": "stream",
          "name": "stdout",
          "text": [
            "Requirement already satisfied: tqdm in /usr/local/lib/python3.12/dist-packages (4.67.1)\n",
            "Requirement already satisfied: opencv-python in /usr/local/lib/python3.12/dist-packages (4.12.0.88)\n",
            "Requirement already satisfied: numpy in /usr/local/lib/python3.12/dist-packages (2.0.2)\n",
            "Requirement already satisfied: pillow in /usr/local/lib/python3.12/dist-packages (11.3.0)\n",
            "Requirement already satisfied: scikit-learn in /usr/local/lib/python3.12/dist-packages (1.6.1)\n",
            "Requirement already satisfied: scipy>=1.6.0 in /usr/local/lib/python3.12/dist-packages (from scikit-learn) (1.16.3)\n",
            "Requirement already satisfied: joblib>=1.2.0 in /usr/local/lib/python3.12/dist-packages (from scikit-learn) (1.5.2)\n",
            "Requirement already satisfied: threadpoolctl>=3.1.0 in /usr/local/lib/python3.12/dist-packages (from scikit-learn) (3.6.0)\n"
          ]
        }
      ]
    },
    {
      "cell_type": "code",
      "source": [
        "import os\n",
        "import numpy as np\n",
        "import cv2\n",
        "from tqdm import tqdm\n",
        "from PIL import Image\n",
        "from sklearn.model_selection import train_test_split\n",
        "from sklearn.preprocessing import StandardScaler\n",
        "from sklearn.svm import SVC\n",
        "from sklearn.metrics import accuracy_score, classification_report\n"
      ],
      "metadata": {
        "id": "kPnRY5JZY4OZ"
      },
      "execution_count": 75,
      "outputs": []
    },
    {
      "cell_type": "code",
      "source": [
        "import os\n",
        "\n",
        "# The correct base path is the one provided by kagglehub\n",
        "base_path = \"/kaggle/input/openeds-dataset\"\n",
        "images_dir = os.path.join(base_path, \"openEDS\", \"openEDS\", \"train\", \"images\")\n",
        "masks_dir = os.path.join(base_path, \"openEDS\", \"openEDS\", \"train\", \"masks\")\n",
        "labels_dir = os.path.join(base_path, \"openEDS\", \"openEDS\", \"train\", \"labels\")\n",
        "\n",
        "\n",
        "print(\"✅ Found folders:\")\n",
        "print(\"Images:\", len(os.listdir(images_dir)))\n",
        "print(\"Masks:\", len(os.listdir(masks_dir)))\n",
        "print(\"Labels:\", len(os.listdir(labels_dir)))"
      ],
      "metadata": {
        "colab": {
          "base_uri": "https://localhost:8080/"
        },
        "id": "B7WrCOjcaPvy",
        "outputId": "f1eafa73-3762-417e-fb69-332afbb2916b"
      },
      "execution_count": 76,
      "outputs": [
        {
          "output_type": "stream",
          "name": "stdout",
          "text": [
            "✅ Found folders:\n",
            "Images: 27431\n",
            "Masks: 27431\n",
            "Labels: 27431\n"
          ]
        }
      ]
    },
    {
      "cell_type": "markdown",
      "source": [
        "# Testing sample subset for training"
      ],
      "metadata": {
        "id": "rV8VsNexiN_W"
      }
    },
    {
      "cell_type": "code",
      "source": [
        "#Subset loading (for training)\n",
        "num_samples = 1000  # adjust if you have more GPU memory\n",
        "image_files = sorted(os.listdir(images_dir))[:num_samples]\n",
        "mask_files = sorted(os.listdir(masks_dir))[:num_samples]\n"
      ],
      "metadata": {
        "id": "tTGBnoKsaZyw"
      },
      "execution_count": 77,
      "outputs": []
    },
    {
      "cell_type": "code",
      "source": [
        "features = []\n",
        "\n",
        "for i, mask_name in enumerate(tqdm(mask_files, desc=\"Extracting features\")):\n",
        "    mask_path = os.path.join(masks_dir, mask_name)\n",
        "    mask = cv2.imread(mask_path, cv2.IMREAD_GRAYSCALE)\n",
        "    if mask is None:\n",
        "        continue\n",
        "\n",
        "    # Resize for consistency\n",
        "    mask = cv2.resize(mask, (128, 128))\n",
        "    mask = mask / 255.0\n",
        "\n",
        "    # Calculate pupil features\n",
        "    pupil_pixels = np.argwhere(mask > 0)\n",
        "    if pupil_pixels.size == 0:\n",
        "        features.append([0, 0, 0])\n",
        "        continue\n",
        "\n",
        "    y_center, x_center = pupil_pixels.mean(axis=0)\n",
        "    pupil_area = len(pupil_pixels)\n",
        "    features.append([x_center, y_center, pupil_area])\n",
        "\n",
        "features = np.array(features)\n",
        "print(\"✅ Features shape:\", features.shape)"
      ],
      "metadata": {
        "colab": {
          "base_uri": "https://localhost:8080/"
        },
        "id": "zw-CWE9GadNG",
        "outputId": "0ff7537e-3e25-4692-e40e-8ceca799409f"
      },
      "execution_count": 78,
      "outputs": [
        {
          "output_type": "stream",
          "name": "stderr",
          "text": [
            "Extracting features: 100%|██████████| 1000/1000 [00:07<00:00, 130.11it/s]"
          ]
        },
        {
          "output_type": "stream",
          "name": "stdout",
          "text": [
            "✅ Features shape: (1000, 3)\n"
          ]
        },
        {
          "output_type": "stream",
          "name": "stderr",
          "text": [
            "\n"
          ]
        }
      ]
    },
    {
      "cell_type": "code",
      "source": [
        "# Generate dummy binary labels (you can later replace with true label meanings)\n",
        "threshold = np.median(features[:, 2])\n",
        "labels = (features[:, 2] > threshold).astype(int)\n",
        "\n",
        "# Split into train/test\n",
        "X_train, X_test, y_train, y_test = train_test_split(features, labels, test_size=0.2, random_state=42)\n",
        "\n",
        "# Normalize\n",
        "scaler = StandardScaler()\n",
        "X_train_scaled = scaler.fit_transform(X_train)\n",
        "X_test_scaled = scaler.transform(X_test)\n",
        "\n",
        "# Train lightweight SVM\n",
        "model = SVC(kernel='rbf')\n",
        "model.fit(X_train_scaled, y_train)\n",
        "\n",
        "# Evaluate\n",
        "y_pred = model.predict(X_test_scaled)\n",
        "print(\"✅ Accuracy:\", accuracy_score(y_test, y_pred))\n",
        "print(\"\\nClassification Report:\\n\", classification_report(y_test, y_pred))"
      ],
      "metadata": {
        "colab": {
          "base_uri": "https://localhost:8080/"
        },
        "id": "0Djt-9ZVanCs",
        "outputId": "176dff53-bb2f-4d4e-a430-118e66d920b2"
      },
      "execution_count": 79,
      "outputs": [
        {
          "output_type": "stream",
          "name": "stdout",
          "text": [
            "✅ Accuracy: 0.985\n",
            "\n",
            "Classification Report:\n",
            "               precision    recall  f1-score   support\n",
            "\n",
            "           0       0.99      0.98      0.98        97\n",
            "           1       0.98      0.99      0.99       103\n",
            "\n",
            "    accuracy                           0.98       200\n",
            "   macro avg       0.99      0.98      0.98       200\n",
            "weighted avg       0.99      0.98      0.98       200\n",
            "\n"
          ]
        }
      ]
    },
    {
      "cell_type": "code",
      "source": [
        "import matplotlib.pyplot as plt\n",
        "\n",
        "plt.scatter(features[:, 0], features[:, 1], c=labels, cmap='coolwarm', alpha=0.6)\n",
        "plt.title(\"Pupil Center vs Label (open/closed simulation) - Full Dataset\")\n",
        "plt.xlabel(\"X center\")\n",
        "plt.ylabel(\"Y center\")\n",
        "plt.show()"
      ],
      "metadata": {
        "colab": {
          "base_uri": "https://localhost:8080/",
          "height": 472
        },
        "id": "TYS4qF3yaq6E",
        "outputId": "c37783a1-1b87-4516-e135-bda5ebbffb7a"
      },
      "execution_count": 80,
      "outputs": [
        {
          "output_type": "display_data",
          "data": {
            "text/plain": [
              "<Figure size 640x480 with 1 Axes>"
            ],
            "image/png": "[encoded data removed]"
          },
          "metadata": {}
        }
      ]
    },
    {
      "cell_type": "markdown",
      "source": [
        "In the scatter plot, the blue and red data points represent the two different classes that the model is trying to distinguish. Based on the code, these classes are determined by whether the pupil area is above or below the calculated median threshold.\n",
        "\n",
        "Blue points: Represent images where the pupil area is below the median threshold, which in this simulated scenario corresponds to one class (e.g., potentially \"closed\" or smaller pupils).\n",
        "Red points: Represent images where the pupil area is above the median threshold, corresponding to the other class (e.g., potentially \"open\" or larger pupils).\n",
        "The plot shows how these two classes are distributed based on the pupil's X and Y center coordinates."
      ],
      "metadata": {
        "id": "t8isdgPJuup9"
      }
    },
    {
      "cell_type": "markdown",
      "metadata": {
        "id": "c4281427"
      },
      "source": [
        "# Task\n",
        "Process the entire dataset located in the \"source_folder/base_path\" directory, which contains \"images\", \"labels\", and \"masks\" subfolders. Incorporate the label data from the \"labels\" folder into the analysis. Extract additional relevant features from the images and masks. Train a more complex model than a simple SVM using the processed data and extracted features. Evaluate the model's performance using appropriate metrics and visualize the results. Summarize the findings."
      ]
    },
    {
      "cell_type": "markdown",
      "metadata": {
        "id": "04361dbf"
      },
      "source": [
        "## Process more data\n",
        "\n",
        "### Subtask:\n",
        "Modify the code to process a larger subset of images or the entire dataset if your resources allow.\n"
      ]
    },
    {
      "cell_type": "markdown",
      "metadata": {
        "id": "e54a609e"
      },
      "source": [
        "**Reasoning**:\n",
        "I need to modify the `num_samples` variable to process a larger portion of the dataset. The current value is 1000, and I will increase it to a larger number to include more images.\n",
        "\n"
      ]
    },
    {
      "cell_type": "code",
      "metadata": {
        "colab": {
          "base_uri": "https://localhost:8080/"
        },
        "id": "bfce07d6",
        "outputId": "8019246e-7874-437a-e1f3-3a8573c20eac"
      },
      "source": [
        "import os\n",
        "\n",
        "# The correct base path is the one provided by kagglehub\n",
        "base_path = \"/kaggle/input/openeds-dataset\"\n",
        "labels_dir = os.path.join(base_path, \"openEDS\", \"openEDS\", \"train\", \"labels\")\n",
        "\n",
        "\n",
        "if os.path.exists(labels_dir):\n",
        "    print(f\"✅ Labels directory found at: {labels_dir}\")\n",
        "    # List a few files in the directory to confirm content\n",
        "    try:\n",
        "        label_files_in_dir = sorted(os.listdir(labels_dir))\n",
        "        print(f\"Sample files in labels directory: {label_files_in_dir[:10]}\")\n",
        "        print(f\"Total files in labels directory: {len(label_files_in_dir)}\")\n",
        "    except Exception as e:\n",
        "        print(f\"Error listing files in {labels_dir}: {e}\")\n",
        "else:\n",
        "    print(f\"❌ Labels directory not found at: {labels_dir}\")"
      ],
      "execution_count": 81,
      "outputs": [
        {
          "output_type": "stream",
          "name": "stdout",
          "text": [
            "✅ Labels directory found at: /kaggle/input/openeds-dataset/openEDS/openEDS/train/labels\n",
            "Sample files in labels directory: ['000000.npy', '000001.npy', '000002.npy', '000003.npy', '000004.npy', '000005.npy', '000006.npy', '000007.npy', '000008.npy', '000009.npy']\n",
            "Total files in labels directory: 27431\n"
          ]
        }
      ]
    },
    {
      "cell_type": "markdown",
      "metadata": {
        "id": "2cdc7559"
      },
      "source": [
        "### Explore Label Data\n",
        "Let's start by listing a few files in the `labels` directory and reading a sample label file to understand its structure."
      ]
    },
    {
      "cell_type": "code",
      "metadata": {
        "colab": {
          "base_uri": "https://localhost:8080/"
        },
        "id": "0594e790",
        "outputId": "6341e3d5-6cfa-4908-827d-19de20029fd4"
      },
      "source": [
        "import os\n",
        "import numpy as np # Import numpy to load .npy files\n",
        "\n",
        "# List a few label files\n",
        "# Correct the path to the labels directory\n",
        "base_path = \"/kaggle/input/openeds-dataset\"\n",
        "labels_dir = os.path.join(base_path, \"openEDS\", \"openEDS\", \"train\", \"labels\")\n",
        "\n",
        "label_files = sorted(os.listdir(labels_dir))\n",
        "print(\"Sample label files:\", label_files[:10])\n",
        "\n",
        "# Read a sample label file (assuming they are .npy files based on the listing)\n",
        "if label_files:\n",
        "    sample_label_path = os.path.join(labels_dir, label_files[0])\n",
        "    try:\n",
        "        # Use np.load to read the .npy file\n",
        "        sample_label_content = np.load(sample_label_path)\n",
        "        print(f\"\\nContent of a sample label file ({label_files[0]}):\\n{sample_label_content}\")\n",
        "        print(f\"\\nShape of the sample label data: {sample_label_content.shape}\")\n",
        "        print(f\"\\nData type of the sample label data: {sample_label_content.dtype}\")\n",
        "\n",
        "    except Exception as e:\n",
        "        print(f\"Could not read sample label file {label_files[0]} using np.load: {e}\")"
      ],
      "execution_count": 82,
      "outputs": [
        {
          "output_type": "stream",
          "name": "stdout",
          "text": [
            "Sample label files: ['000000.npy', '000001.npy', '000002.npy', '000003.npy', '000004.npy', '000005.npy', '000006.npy', '000007.npy', '000008.npy', '000009.npy']\n",
            "\n",
            "Content of a sample label file (000000.npy):\n",
            "[[0 0 0 ... 0 0 0]\n",
            " [0 0 0 ... 0 0 0]\n",
            " [0 0 0 ... 0 0 0]\n",
            " ...\n",
            " [0 0 0 ... 0 0 0]\n",
            " [0 0 0 ... 0 0 0]\n",
            " [0 0 0 ... 0 0 0]]\n",
            "\n",
            "Shape of the sample label data: (400, 640)\n",
            "\n",
            "Data type of the sample label data: uint8\n"
          ]
        }
      ]
    },
    {
      "cell_type": "markdown",
      "metadata": {
        "id": "39be3a99"
      },
      "source": [
        "### Incorporate Label Data and Extract More Features\n",
        "Based on the structure of the label data, you'll modify the processing loop. Here's a conceptual example of how you might incorporate label data and add a placeholder for extracting more features. You'll need to adapt this based on the actual label format and the features you want to extract."
      ]
    },
    {
      "cell_type": "code",
      "metadata": {
        "colab": {
          "base_uri": "https://localhost:8080/"
        },
        "id": "612a6181",
        "outputId": "f1d7583e-beda-4536-bc8e-50ff83e02deb"
      },
      "source": [
        "import os\n",
        "import numpy as np\n",
        "import cv2\n",
        "from tqdm import tqdm\n",
        "\n",
        "features_and_labels = []\n",
        "\n",
        "# Assuming image_files and mask_files are already loaded with full dataset paths\n",
        "# Correct the base path to the one provided by kagglehub\n",
        "base_path = \"/kaggle/input/openeds-dataset\" # Corrected base path\n",
        "images_dir = os.path.join(base_path, \"openEDS\", \"openEDS\", \"train\", \"images\") # Corrected path\n",
        "masks_dir = os.path.join(base_path, \"openEDS\", \"openEDS\", \"train\", \"masks\")   # Corrected path\n",
        "labels_dir = os.path.join(base_path, \"openEDS\", \"openEDS\", \"train\", \"labels\") # Corrected path\n",
        "\n",
        "# Re-load file lists with corrected paths, assuming they were processed sequentially\n",
        "# In a real scenario, you might want to load these once after correcting paths\n",
        "# image_files = sorted(os.listdir(images_dir)) # Assuming these are loaded elsewhere or can be loaded here\n",
        "# mask_files = sorted(os.listdir(masks_dir))   # Assuming these are loaded elsewhere or can be loaded here\n",
        "# label_files = sorted(os.listdir(labels_dir)) # Assuming these are loaded elsewhere or can be loaded here\n",
        "\n",
        "# For this modification, let's assume image_files, mask_files, and label_files\n",
        "# are already loaded from previous cells with the correct paths or load them here for clarity.\n",
        "# Let's load them here to be sure, using the corrected paths.\n",
        "try:\n",
        "    image_files = sorted(os.listdir(images_dir))\n",
        "    mask_files = sorted(os.listdir(masks_dir))\n",
        "    label_files = sorted(os.listdir(labels_dir))\n",
        "except FileNotFoundError as e:\n",
        "    print(f\"Error loading file lists: {e}. Ensure the paths are correct and directories exist.\")\n",
        "    image_files = [] # Set to empty to prevent errors in the loop\n",
        "    mask_files = []\n",
        "    label_files = []\n",
        "\n",
        "\n",
        "# Define the target size for resizing (must be consistent)\n",
        "target_size = (128, 128)\n",
        "\n",
        "# Ensure all file lists have the same length before processing\n",
        "if not (len(image_files) == len(mask_files) == len(label_files)):\n",
        "    print(f\"Warning: Number of image, mask, and label files do not match. Images: {len(image_files)}, Masks: {len(mask_files)}, Labels: {len(label_files)}. Processing will be limited to the minimum length.\")\n",
        "    min_len = min(len(image_files), len(mask_files), len(label_files))\n",
        "    image_files = image_files[:min_len]\n",
        "    mask_files = mask_files[:min_len]\n",
        "    label_files = label_files[:min_len]\n",
        "\n",
        "\n",
        "for i in tqdm(range(len(image_files)), desc=\"Processing images and extracting features\"):\n",
        "    img_name = image_files[i]\n",
        "    mask_name = mask_files[i]\n",
        "    label_name = label_files[i] # Assuming file names match\n",
        "\n",
        "    img_path = os.path.join(images_dir, img_name)\n",
        "    mask_path = os.path.join(masks_dir, mask_name)\n",
        "    label_path = os.path.join(labels_dir, label_name)\n",
        "\n",
        "    # Load the label data first, as it's key for region identification\n",
        "    try:\n",
        "        label_data = np.load(label_path)\n",
        "    except Exception as e:\n",
        "        # print(f\"Warning: Could not load label file {label_name}: {e}. Skipping.\")\n",
        "        continue # Skip if label data cannot be loaded\n",
        "\n",
        "\n",
        "    # Load image and mask (mask might be useful for other things, but labels are primary for regions)\n",
        "    img = cv2.imread(img_path)\n",
        "    mask = cv2.imread(mask_path, cv2.IMREAD_GRAYSCALE) # Load mask\n",
        "\n",
        "    if img is None or mask is None: # Check if image or mask could not be read\n",
        "        # print(f\"Warning: Could not read image or mask for {img_name}. Skipping.\")\n",
        "        continue\n",
        "\n",
        "\n",
        "    # --- Preprocessing ---\n",
        "    # Resize image, mask, and label data for consistency\n",
        "    img_resized = cv2.resize(img, target_size)\n",
        "    mask_resized = cv2.resize(mask, target_size)\n",
        "    # Use nearest neighbor for label masks to preserve distinct region values\n",
        "    label_resized = cv2.resize(label_data, target_size, interpolation=cv2.INTER_NEAREST)\n",
        "\n",
        "\n",
        "    # --- Feature Extraction based on Label Data ---\n",
        "\n",
        "    # Features from Pupil (label value 1)\n",
        "    pupil_pixels = np.argwhere(label_resized == 1)\n",
        "    if pupil_pixels.size == 0:\n",
        "        pupil_features = [0, 0, 0] # x_center, y_center, pupil_area\n",
        "    else:\n",
        "        # Mean gives the centroid (y, x)\n",
        "        y_center, x_center = pupil_pixels.mean(axis=0)\n",
        "        pupil_area = len(pupil_pixels) # Number of pixels with label 1\n",
        "        pupil_features = [x_center, y_center, pupil_area]\n",
        "\n",
        "    # Features from Iris (label value 2)\n",
        "    iris_pixels = np.argwhere(label_resized == 2)\n",
        "    if iris_pixels.size == 0:\n",
        "        iris_features = [0, 0, 0] # iris_x_center, iris_y_center, iris_area\n",
        "    else:\n",
        "        # Mean gives the centroid (y, x)\n",
        "        iris_y_center, iris_x_center = iris_pixels.mean(axis=0)\n",
        "        iris_area = len(iris_pixels) # Number of pixels with label 2\n",
        "        iris_features = [iris_x_center, iris_y_center, iris_area]\n",
        "\n",
        "    # Features from Eyelid (label value 3) - Quantify eyelid closure\n",
        "    eyelid_pixels = np.argwhere(label_resized == 3)\n",
        "    if eyelid_pixels.size == 0 or pupil_pixels.size == 0:\n",
        "        # If no eyelid or no pupil detected, closure feature is 0\n",
        "        eyelid_closure_feature = 0\n",
        "    else:\n",
        "        # A more robust approach to eyelid closure:\n",
        "        # Find the minimum Y-coordinate of the eyelid above the pupil\n",
        "        # and compare it to the maximum Y-coordinate of the pupil.\n",
        "        # Lower eyelid_min_y indicates more closure.\n",
        "        eyelid_y_min = eyelid_pixels[:, 0].min()\n",
        "        pupil_y_max = pupil_pixels[:, 0].max()\n",
        "\n",
        "        # Calculate a simple closure measure: difference in y-coordinates\n",
        "        # Larger positive values indicate more overlap (closure)\n",
        "        # We can normalize this by the pupil height or image height later if needed\n",
        "        # For now, let's use the difference\n",
        "        eyelid_closure_feature = pupil_y_max - eyelid_y_min\n",
        "\n",
        "        # Ensure the closure feature is not negative (if eyelid is completely above pupil)\n",
        "        if eyelid_closure_feature < 0:\n",
        "             eyelid_closure_feature = 0\n",
        "\n",
        "    # Combine all extracted features\n",
        "    # Order: pupil_x, pupil_y, pupil_area, iris_x, iris_y, iris_area, eyelid_closure\n",
        "    all_features = pupil_features + iris_features + [eyelid_closure_feature]\n",
        "\n",
        "\n",
        "    # --- Store Features ---\n",
        "    features_and_labels.append(all_features) # We are storing features here, labels will be derived later\n",
        "\n",
        "\n",
        "# Convert the list to a numpy array\n",
        "features_array = np.array(features_and_labels)\n",
        "\n",
        "\n",
        "print(\"✅ Finished processing. Shape of extracted features:\", features_array.shape)"
      ],
      "execution_count": 83,
      "outputs": [
        {
          "output_type": "stream",
          "name": "stderr",
          "text": [
            "Processing images and extracting features: 100%|██████████| 27431/27431 [09:08<00:00, 50.00it/s]"
          ]
        },
        {
          "output_type": "stream",
          "name": "stdout",
          "text": [
            "✅ Finished processing. Shape of extracted features: (27431, 7)\n"
          ]
        },
        {
          "output_type": "stream",
          "name": "stderr",
          "text": [
            "\n"
          ]
        }
      ]
    },
    {
      "cell_type": "markdown",
      "metadata": {
        "id": "cc9ae0ff"
      },
      "source": [
        "### Visualize Sample Label Mask\n",
        "Let's visualize a sample label mask to see what the pixel values represent."
      ]
    },
    {
      "cell_type": "code",
      "metadata": {
        "colab": {
          "base_uri": "https://localhost:8080/",
          "height": 484
        },
        "id": "d77300fa",
        "outputId": "c1afe44a-ac7b-40c6-da73-5ef094066030"
      },
      "source": [
        "import matplotlib.pyplot as plt\n",
        "import numpy as np\n",
        "import os\n",
        "\n",
        "# Assuming label_files and labels_dir are already defined from previous cells\n",
        "# Correct the path to the labels directory\n",
        "base_path = \"/kaggle/input/openeds-dataset\"\n",
        "labels_dir = os.path.join(base_path, \"openEDS\", \"openEDS\", \"train\", \"labels\")\n",
        "\n",
        "label_files = sorted(os.listdir(labels_dir))\n",
        "\n",
        "if label_files:\n",
        "    sample_label_path = os.path.join(labels_dir, label_files[0])\n",
        "    try:\n",
        "        sample_label_data = np.load(sample_label_path)\n",
        "\n",
        "        plt.figure(figsize=(8, 6))\n",
        "        plt.imshow(sample_label_data, cmap='gray') # Use grayscale colormap for uint8 data\n",
        "        plt.title(f\"Sample Label Mask: {label_files[0]}\")\n",
        "        plt.colorbar(label=\"Pixel Value\")\n",
        "        plt.show()\n",
        "\n",
        "        print(f\"Unique values in sample label mask: {np.unique(sample_label_data)}\")\n",
        "\n",
        "    except Exception as e:\n",
        "        print(f\"Could not load or visualize sample label file {label_files[0]}: {e}\")\n",
        "else:\n",
        "    print(\"No label files found to visualize.\")"
      ],
      "execution_count": 86,
      "outputs": [
        {
          "output_type": "display_data",
          "data": {
            "text/plain": [
              "<Figure size 800x600 with 2 Axes>"
            ],
            "image/png": "[encoded data removed]"
          },
          "metadata": {}
        },
        {
          "output_type": "stream",
          "name": "stdout",
          "text": [
            "Unique values in sample label mask: [0 1 2 3]\n"
          ]
        }
      ]
    },
    {
      "cell_type": "markdown",
      "metadata": {
        "id": "3b7998be"
      },
      "source": [
        "# Task\n",
        "Refine feature extraction based on the OpenEDS label meanings (0: Background, 1: Pupil, 2: Iris, 3: Eyelid) to extract features related to gaze direction, blinking, and pupil size, define target variables for these aspects, implement the refined feature extraction and target variable creation, verify the extracted features and target variables, prepare the data for modeling, train a relevant model, evaluate the model, and then continue with the rest of the updated plan including defining \"normal\" thresholds, testing with prototype data, and summarizing findings."
      ]
    },
    {
      "cell_type": "markdown",
      "metadata": {
        "id": "6b15fbd3"
      },
      "source": [
        "## Refine feature extraction based on label meanings\n",
        "\n",
        "### Subtask:\n",
        "Modify the feature extraction process to utilize the identified regions (Pupil, Iris, Eyelid) from the label masks.\n"
      ]
    },
    {
      "cell_type": "markdown",
      "metadata": {
        "id": "fd002b67"
      },
      "source": [
        "## Define target variables\n",
        "\n",
        "### Subtask:\n",
        "Define how to derive the target variables from the label data for blinking, pupil size, and gaze direction."
      ]
    },
    {
      "cell_type": "markdown",
      "metadata": {
        "id": "6f569560"
      },
      "source": [
        "**Reasoning**:\n",
        "Define how to derive the target variables for blinking, pupil size, and gaze direction based on the OpenEDS label meanings and the extracted features."
      ]
    },
    {
      "cell_type": "code",
      "metadata": {
        "id": "f43ad017",
        "colab": {
          "base_uri": "https://localhost:8080/"
        },
        "outputId": "c5e8bc5e-e93e-4c15-e734-d24b3a1a445c"
      },
      "source": [
        "import numpy as np\n",
        "\n",
        "# Define how to derive target variables\n",
        "\n",
        "# 1. Blinking:\n",
        "# A simple approach for blinking (binary: 0 for open, 1 for closed)\n",
        "# can be based on the eyelid closure feature. A high eyelid closure value\n",
        "# indicates the eyelid is significantly covering the pupil/iris, suggesting a blink.\n",
        "# We can set a threshold on the eyelid_closure_feature.\n",
        "# Let's assume the eyelid closure feature is the 4th column (index 3) in our features_array.\n",
        "# We need to determine an appropriate threshold based on the distribution of this feature.\n",
        "# For now, let's use a placeholder for the threshold.\n",
        "\n",
        "# 2. Pupil Size:\n",
        "# The pupil size can be directly derived from the pupil_area feature (number of pixels\n",
        "# with label 1). This is already calculated and is the 3rd column (index 2)\n",
        "# in our features_array. We will use this directly as the target variable for pupil size.\n",
        "\n",
        "# 3. Gaze Direction:\n",
        "# Gaze direction can be estimated from the relative position of the pupil centroid\n",
        "# (label 1) within the iris region (label 2).\n",
        "# The pupil centroid features are at indices 0 and 1 of features_array.\n",
        "# The iris centroid features are at indices 4 and 5 of features_array.\n",
        "# We can calculate the difference between the pupil centroid and the iris centroid\n",
        "# to get a relative position.\n",
        "# Relative X position = Pupil X center - Iris X center\n",
        "# Relative Y position = Pupil Y center - Iris Y center\n",
        "# These two values can serve as numerical target variables for gaze direction.\n",
        "\n",
        "# We will create a new array to hold these target variables.\n",
        "# This array will have columns for blinking (binary), pupil size (numerical),\n",
        "# and gaze direction (numerical X, numerical Y).\n",
        "\n",
        "# Placeholder for target variables\n",
        "target_variables = []\n",
        "\n",
        "# Assuming the order of features in features_array is:\n",
        "# [pupil_x_center, pupil_y_center, pupil_area, eyelid_closure, iris_x_center, iris_y_center, iris_area]\n",
        "# Indices:              0                 1           2               3               4               5           6\n",
        "\n",
        "# Determine a threshold for blinking (this will need to be refined based on data distribution)\n",
        "# Ensure features_array is defined and accessible from the previous step where features were extracted.\n",
        "# If features_array is not defined, this code block needs to be merged with the feature extraction step.\n",
        "# Assuming features_array is a numpy array from the previous successful execution.\n",
        "\n",
        "# Check if features_array is defined and not empty\n",
        "if 'features_array' in locals() and features_array.shape[0] > 0:\n",
        "    blinking_threshold = np.percentile(features_array[:, 3], 90) # Example: top 10% of closure values are considered blinks\n",
        "\n",
        "    for features in features_array:\n",
        "        # Blinking target (binary)\n",
        "        blinking_status = 1 if features[3] > blinking_threshold else 0 # 1 for closed (blink), 0 for open\n",
        "\n",
        "        # Pupil Size target (numerical)\n",
        "        pupil_size = features[2] # Directly use pupil area\n",
        "\n",
        "        # Gaze Direction targets (numerical X, numerical Y)\n",
        "        pupil_x, pupil_y = features[0], features[1]\n",
        "        iris_x, iris_y = features[4], features[5]\n",
        "\n",
        "        # Calculate relative position of pupil centroid within iris\n",
        "        # Handle cases where iris or pupil might not be detected (centroid is 0,0)\n",
        "        # If iris area is 0, relative position is not meaningful, set to 0,0 or a special value\n",
        "        if features[6] > 0 and features[2] > 0: # Check if both iris and pupil areas are positive\n",
        "            relative_gaze_x = pupil_x - iris_x\n",
        "            relative_gaze_y = pupil_y - iris_y\n",
        "        else:\n",
        "            relative_gaze_x = 0\n",
        "            relative_gaze_y = 0 # Or np.nan if you prefer to handle missing values later\n",
        "\n",
        "\n",
        "        target_variables.append([blinking_status, pupil_size, relative_gaze_x, relative_gaze_y])\n",
        "\n",
        "    target_variables_array = np.array(target_variables)\n",
        "\n",
        "    print(\"✅ Finished defining target variables. Shape:\", target_variables_array.shape)\n",
        "    print(\"Sample target variables (blinking, pupil_size, gaze_x, gaze_y):\")\n",
        "    print(target_variables_array[:5])\n",
        "else:\n",
        "    print(\"❌ features_array is not defined or is empty. Cannot define target variables.\")"
      ],
      "execution_count": 87,
      "outputs": [
        {
          "output_type": "stream",
          "name": "stdout",
          "text": [
            "✅ Finished defining target variables. Shape: (27431, 4)\n",
            "Sample target variables (blinking, pupil_size, gaze_x, gaze_y):\n",
            "[[ 1.00000000e+00  1.12000000e+03 -2.32096545e+01 -1.30120268e+03]\n",
            " [ 0.00000000e+00  8.60000000e+02 -2.06404744e+01 -1.22909767e+03]\n",
            " [ 1.00000000e+00  1.39300000e+03 -1.32601872e+01 -1.47902297e+03]\n",
            " [ 0.00000000e+00  1.05300000e+03 -1.55110373e+01 -1.30682336e+03]\n",
            " [ 0.00000000e+00  1.20700000e+03 -3.16232230e+00 -1.25300497e+03]]\n"
          ]
        }
      ]
    },
    {
      "cell_type": "markdown",
      "metadata": {
        "id": "5920b117"
      },
      "source": [
        "**Reasoning**:\n",
        "Modify the existing processing loop to incorporate the label mask data to extract features for the pupil, iris, and eyelid regions as described in the instructions.\n",
        "\n"
      ]
    },
    {
      "cell_type": "code",
      "metadata": {
        "colab": {
          "base_uri": "https://localhost:8080/",
          "height": 211
        },
        "id": "195534e6",
        "outputId": "42eb76db-c91c-4622-e6ea-02338f4cb643"
      },
      "source": [
        "import os\n",
        "import numpy as np\n",
        "import cv2\n",
        "from tqdm import tqdm\n",
        "\n",
        "features_and_labels = []\n",
        "\n",
        "# Assuming image_files and mask_files are already loaded with full dataset paths\n",
        "base_path = \"/kaggle/input/openeds-dataset\" # Corrected base path\n",
        "images_dir = os.path.join(base_path, \"openEDS\", \"openEDS\", \"train\", \"images\") # Corrected path\n",
        "masks_dir = os.path.join(base_path, \"openEDS\", \"openEDS\", \"train\", \"masks\")   # Corrected path\n",
        "labels_dir = os.path.join(base_path, \"openEDS\", \"openEDS\", \"train\", \"labels\") # Corrected path\n",
        "\n",
        "# Re-load file lists with corrected paths, assuming they were processed sequentially\n",
        "# In a real scenario, you might want to load these once after correcting paths\n",
        "try:\n",
        "    image_files = sorted(os.listdir(images_dir))\n",
        "    mask_files = sorted(os.listdir(masks_dir))\n",
        "    label_files = sorted(os.listdir(labels_dir))\n",
        "except FileNotFoundError as e:\n",
        "    print(f\"Error loading file lists: {e}. Ensure the paths are correct and directories exist.\")\n",
        "    image_files = [] # Set to empty to prevent errors in the loop\n",
        "    mask_files = []\n",
        "    label_files = []\n",
        "\n",
        "\n",
        "# Define the target size for resizing (must be consistent)\n",
        "target_size = (128, 128)\n",
        "\n",
        "# Ensure all file lists have the same length before processing\n",
        "if not (len(image_files) == len(mask_files) == len(label_files)):\n",
        "    print(f\"Warning: Number of image, mask, and label files do not match. Images: {len(image_files)}, Masks: {len(mask_files)}, Labels: {len(label_files)}. Processing will be limited to the minimum length.\")\n",
        "    min_len = min(len(image_files), len(mask_files), len(label_files))\n",
        "    image_files = image_files[:min_len]\n",
        "    mask_files = mask_files[:min_len]\n",
        "    label_files = label_files[:min_len]\n",
        "\n",
        "# Add print statement to check lengths before loop\n",
        "print(f\"Min length for loop: {min_len}\")\n",
        "print(f\"Length of image_files after truncation: {len(image_files)}\")\n",
        "print(f\"Length of mask_files after truncation: {len(mask_files)}\")\n",
        "print(f\"Length of label_files after truncation: {len(label_files)}\")\n",
        "\n",
        "\n",
        "# Iterate up to the minimum length of the file lists\n",
        "for i in tqdm(range(min_len), desc=\"Processing images and extracting features\"):\n",
        "    img_name = image_files[i]\n",
        "    mask_name = mask_files[i]\n",
        "    label_name = label_files[i] # Assuming file names match\n",
        "\n",
        "    img_path = os.path.join(images_dir, img_name)\n",
        "    mask_path = os.path.join(masks_dir, mask_name)\n",
        "    label_path = os.path.join(labels_dir, label_name)\n",
        "\n",
        "    # Load the label data first, as it's key for region identification\n",
        "    try:\n",
        "        label_data = np.load(label_path)\n",
        "    except Exception as e:\n",
        "        # print(f\"Warning: Could not load label file {label_name}: {e}. Skipping.\")\n",
        "        continue # Skip if label data cannot be loaded\n",
        "\n",
        "\n",
        "    # Load image and mask (mask might be useful for other things, but labels are primary for regions)\n",
        "    img = cv2.imread(img_path)\n",
        "    mask = cv2.imread(mask_path, cv2.IMREAD_GRAYSCALE) # Load mask\n",
        "\n",
        "    if img is None or mask is None: # Check if image or mask could not be read\n",
        "        # print(f\"Warning: Could not read image or mask for {img_name}. Skipping.\")\n",
        "        continue\n",
        "\n",
        "\n",
        "    # --- Preprocessing ---\n",
        "    # Resize image, mask, and label data for consistency\n",
        "    img_resized = cv2.resize(img, target_size)\n",
        "    mask_resized = cv2.resize(mask, target_size)\n",
        "    # Use nearest neighbor for label masks to preserve distinct region values\n",
        "    label_resized = cv2.resize(label_data, target_size, interpolation=cv2.INTER_NEAREST)\n",
        "\n",
        "\n",
        "    # --- Feature Extraction based on Label Data ---\n",
        "\n",
        "    # Features from Pupil (label value 1)\n",
        "    pupil_pixels = np.argwhere(label_resized == 1)\n",
        "    if pupil_pixels.size == 0:\n",
        "        pupil_features = [0, 0, 0] # x_center, y_center, pupil_area\n",
        "    else:\n",
        "        # Mean gives the centroid (y, x)\n",
        "        y_center, x_center = pupil_pixels.mean(axis=0)\n",
        "        pupil_area = len(pupil_pixels) # Number of pixels with label 1\n",
        "        pupil_features = [x_center, y_center, pupil_area]\n",
        "\n",
        "    # Features from Iris (label value 2)\n",
        "    iris_pixels = np.argwhere(label_resized == 2)\n",
        "    if iris_pixels.size == 0:\n",
        "        iris_features = [0, 0, 0] # iris_x_center, iris_y_center, iris_area\n",
        "    else:\n",
        "        # Mean gives the centroid (y, x)\n",
        "        iris_y_center, iris_x_center = iris_pixels.mean(axis=0)\n",
        "        iris_area = len(iris_pixels) # Number of pixels with label 2\n",
        "        iris_features = [iris_x_center, iris_y_center, iris_area]\n",
        "\n",
        "    # Features from Eyelid (label value 3) - Quantify eyelid closure\n",
        "    eyelid_pixels = np.argwhere(label_resized == 3)\n",
        "    if eyelid_pixels.size == 0 or pupil_pixels.size == 0:\n",
        "        # If no eyelid or no pupil detected, closure feature is 0\n",
        "        eyelid_closure_feature = 0\n",
        "    else:\n",
        "        # A more robust approach to eyelid closure:\n",
        "        # Find the minimum Y-coordinate of the eyelid above the pupil\n",
        "        # and compare it to the maximum Y-coordinate of the pupil.\n",
        "        # Lower eyelid_min_y indicates more closure.\n",
        "        eyelid_y_min = eyelid_pixels[:, 0].min()\n",
        "        pupil_y_max = pupil_pixels[:, 0].max()\n",
        "\n",
        "        # Calculate a simple closure measure: difference in y-coordinates\n",
        "        # Larger positive values indicate more overlap (closure)\n",
        "        # We can normalize this by the pupil height or image height later if needed\n",
        "        # For now, let's use the difference\n",
        "        eyelid_closure_feature = pupil_y_max - eyelid_y_min\n",
        "\n",
        "        # Ensure the closure feature is not negative (if eyelid is completely above pupil)\n",
        "        if eyelid_closure_feature < 0:\n",
        "             eyelid_closure_feature = 0\n",
        "\n",
        "    # Combine all extracted features\n",
        "    # Order: pupil_x, pupil_y, pupil_area, iris_x, iris_y, iris_area, eyelid_closure\n",
        "    all_features = pupil_features + iris_features + [eyelid_closure_feature]\n",
        "\n",
        "\n",
        "    # --- Store Features ---\n",
        "    features_and_labels.append(all_features) # We are storing features here, labels will be derived later\n",
        "\n",
        "\n",
        "# Convert the list to a numpy array\n",
        "features_array = np.array(features_and_labels)\n",
        "\n",
        "\n",
        "print(\"✅ Finished processing. Shape of extracted features:\", features_array.shape)"
      ],
      "execution_count": 92,
      "outputs": [
        {
          "output_type": "error",
          "ename": "NameError",
          "evalue": "name 'min_len' is not defined",
          "traceback": [
            "\u001b[0;31m---------------------------------------------------------------------------\u001b[0m",
            "\u001b[0;31mNameError\u001b[0m                                 Traceback (most recent call last)",
            "\u001b[0;32m/tmp/ipython-input-1695249517.py\u001b[0m in \u001b[0;36m<cell line: 0>\u001b[0;34m()\u001b[0m\n\u001b[1;32m     37\u001b[0m \u001b[0;34m\u001b[0m\u001b[0m\n\u001b[1;32m     38\u001b[0m \u001b[0;31m# Add print statement to check lengths before loop\u001b[0m\u001b[0;34m\u001b[0m\u001b[0;34m\u001b[0m\u001b[0m\n\u001b[0;32m---> 39\u001b[0;31m \u001b[0mprint\u001b[0m\u001b[0;34m(\u001b[0m\u001b[0;34mf\"Min length for loop: {min_len}\"\u001b[0m\u001b[0;34m)\u001b[0m\u001b[0;34m\u001b[0m\u001b[0;34m\u001b[0m\u001b[0m\n\u001b[0m\u001b[1;32m     40\u001b[0m \u001b[0mprint\u001b[0m\u001b[0;34m(\u001b[0m\u001b[0;34mf\"Length of image_files after truncation: {len(image_files)}\"\u001b[0m\u001b[0;34m)\u001b[0m\u001b[0;34m\u001b[0m\u001b[0;34m\u001b[0m\u001b[0m\n\u001b[1;32m     41\u001b[0m \u001b[0mprint\u001b[0m\u001b[0;34m(\u001b[0m\u001b[0;34mf\"Length of mask_files after truncation: {len(mask_files)}\"\u001b[0m\u001b[0;34m)\u001b[0m\u001b[0;34m\u001b[0m\u001b[0;34m\u001b[0m\u001b[0m\n",
            "\u001b[0;31mNameError\u001b[0m: name 'min_len' is not defined"
          ]
        }
      ]
    },
    {
      "cell_type": "markdown",
      "metadata": {
        "id": "cd754182"
      },
      "source": [
        "## Verify Extracted Features and Target Variables\n",
        "\n",
        "### Subtask:\n",
        "Display summary statistics and visualize the distribution of the extracted features and target variables."
      ]
    },
    {
      "cell_type": "markdown",
      "metadata": {
        "id": "c11b099e"
      },
      "source": [
        "**Reasoning**:\n",
        "Verify the extracted features and target variables by displaying summary statistics and visualizations to ensure they are correct and understand their distribution."
      ]
    },
    {
      "cell_type": "code",
      "metadata": {
        "id": "5281c6e7"
      },
      "source": [
        "import pandas as pd\n",
        "import matplotlib.pyplot as plt\n",
        "import seaborn as sns\n",
        "\n",
        "# Assuming features_array and target_variables_array are available from previous steps\n",
        "\n",
        "# Convert to pandas DataFrames for easier handling and visualization\n",
        "# Define column names based on the order of features and target variables\n",
        "feature_column_names = ['pupil_x_center', 'pupil_y_center', 'pupil_area',\n",
        "                        'eyelid_closure', 'iris_x_center', 'iris_y_center', 'iris_area']\n",
        "target_column_names = ['blinking_status', 'pupil_size', 'gaze_x', 'gaze_y']\n",
        "\n",
        "features_df = pd.DataFrame(features_array, columns=feature_column_names)\n",
        "targets_df = pd.DataFrame(target_variables_array, columns=target_column_names)\n",
        "\n",
        "print(\"✅ Summary statistics for extracted features:\")\n",
        "display(features_df.describe())\n",
        "\n",
        "print(\"\\n✅ Summary statistics for target variables:\")\n",
        "display(targets_df.describe())\n",
        "\n",
        "# Visualize distributions of key features and target variables\n",
        "plt.figure(figsize=(15, 10))\n",
        "\n",
        "plt.subplot(2, 3, 1)\n",
        "sns.histplot(features_df['pupil_area'], kde=True)\n",
        "plt.title('Distribution of Pupil Area')\n",
        "\n",
        "plt.subplot(2, 3, 2)\n",
        "sns.histplot(features_df['eyelid_closure'], kde=True)\n",
        "plt.title('Distribution of Eyelid Closure Feature')\n",
        "\n",
        "plt.subplot(2, 3, 3)\n",
        "sns.histplot(targets_df['blinking_status'])\n",
        "plt.title('Distribution of Blinking Status')\n",
        "\n",
        "plt.subplot(2, 3, 4)\n",
        "sns.histplot(targets_df['pupil_size'], kde=True)\n",
        "plt.title('Distribution of Pupil Size Target')\n",
        "\n",
        "plt.subplot(2, 3, 5)\n",
        "sns.histplot(targets_df['gaze_x'], kde=True)\n",
        "plt.title('Distribution of Gaze X Target')\n",
        "\n",
        "plt.subplot(2, 3, 6)\n",
        "sns.histplot(targets_df['gaze_y'], kde=True)\n",
        "plt.title('Distribution of Gaze Y Target')\n",
        "\n",
        "plt.tight_layout()\n",
        "plt.show()"
      ],
      "execution_count": null,
      "outputs": []
    },
    {
      "cell_type": "markdown",
      "metadata": {
        "id": "d621bcc1"
      },
      "source": [
        "## Define \"Normal\" Thresholds\n",
        "\n",
        "### Subtask:\n",
        "Define numerical thresholds for key features to identify potentially \"normal\" vs. \"abnormal\" eye movements."
      ]
    },
    {
      "cell_type": "code",
      "metadata": {
        "colab": {
          "base_uri": "https://localhost:8080/"
        },
        "id": "c926a373",
        "outputId": "5f224ba9-6489-4ff1-ccc6-f9db566bd708"
      },
      "source": [
        "import numpy as np\n",
        "\n",
        "# Assuming X_test_scaled, blinking_model, pupil_size_model, gaze_x_model, gaze_y_model,\n",
        "# scaler_y_size, scaler_y_gaze_x, scaler_y_gaze_y,\n",
        "# pupil_area_normal_lower_bound, pupil_area_normal_upper_bound,\n",
        "# eyelid_closure_threshold_blink,\n",
        "# gaze_x_normal_lower_bound, gaze_x_normal_upper_bound,\n",
        "# gaze_y_normal_lower_bound, gaze_y_normal_upper_bound\n",
        "# are available from preceding cells.\n",
        "\n",
        "print(\"✅ Demonstrating pipeline application on test data samples:\")\n",
        "\n",
        "# Select a few samples from the test set to demonstrate\n",
        "num_demo_samples = 10 # You can adjust this number\n",
        "if X_test_scaled.shape[0] < num_demo_samples:\n",
        "    num_demo_samples = X_test_scaled.shape[0]\n",
        "\n",
        "# Get the features for the demo samples\n",
        "demo_features_scaled = X_test_scaled[:num_demo_samples]\n",
        "# Also get the original features for comparison if needed (optional)\n",
        "# demo_features_original = X_test[:num_demo_samples] # Need X_test if not available\n",
        "\n",
        "# Make predictions using the trained models\n",
        "predicted_blinking_status = blinking_model.predict(demo_features_scaled)\n",
        "predicted_pupil_size_scaled = pupil_size_model.predict(demo_features_scaled)\n",
        "predicted_gaze_x_scaled = gaze_x_model.predict(demo_features_scaled)\n",
        "predicted_gaze_y_scaled = gaze_y_model.predict(demo_features_scaled)\n",
        "\n",
        "# Inverse transform scaled regression predictions to original scale\n",
        "predicted_pupil_size = scaler_y_size.inverse_transform(predicted_pupil_size_scaled.reshape(-1, 1)).ravel()\n",
        "predicted_gaze_x = scaler_y_gaze_x.inverse_transform(predicted_gaze_x_scaled.reshape(-1, 1)).ravel()\n",
        "predicted_gaze_y = scaler_y_gaze_y.inverse_transform(predicted_gaze_y_scaled.reshape(-1, 1)).ravel()\n",
        "\n",
        "\n",
        "# Apply defined \"normal\" thresholds to classify predictions\n",
        "print(\"\\n--- Classification Results for Demo Samples ---\")\n",
        "for i in range(num_demo_samples):\n",
        "    sample_blinking = predicted_blinking_status[i]\n",
        "    sample_pupil_size = predicted_pupil_size[i]\n",
        "    sample_gaze_x = predicted_gaze_x[i]\n",
        "    sample_gaze_y = predicted_gaze_y[i]\n",
        "\n",
        "    # Classify Blinking\n",
        "    blinking_classification = \"Blink (Abnormal based on threshold)\" if sample_blinking == 1 else \"No Blink (Normal based on threshold)\"\n",
        "\n",
        "    # Classify Pupil Size\n",
        "    if sample_pupil_size >= pupil_area_normal_lower_bound and sample_pupil_size <= pupil_area_normal_upper_bound:\n",
        "        pupil_size_classification = \"Normal Pupil Size\"\n",
        "    else:\n",
        "        pupil_size_classification = \"Abnormal Pupil Size (outside normal range)\"\n",
        "\n",
        "    # Classify Gaze Direction\n",
        "    if sample_gaze_x >= gaze_x_normal_lower_bound and sample_gaze_x <= gaze_x_normal_upper_bound and \\\n",
        "       sample_gaze_y >= gaze_y_normal_lower_bound and sample_gaze_y <= gaze_y_normal_upper_bound:\n",
        "        gaze_classification = \"Normal Gaze Direction\"\n",
        "    else:\n",
        "        gaze_classification = \"Abnormal Gaze Direction (outside normal range)\"\n",
        "\n",
        "    print(f\"\\nSample {i+1}:\")\n",
        "    print(f\"  Predicted Blinking: {sample_blinking} ({blinking_classification})\")\n",
        "    print(f\"  Predicted Pupil Size: {sample_pupil_size:.2f} ({pupil_size_classification})\")\n",
        "    print(f\"  Predicted Gaze (X, Y): ({sample_gaze_x:.2f}, {sample_gaze_y:.2f}) ({gaze_classification})\")\n",
        "\n",
        "    # Overall assessment for the sample (example logic - refine as needed)\n",
        "    if \"Abnormal\" in blinking_classification or \"Abnormal\" in pupil_size_classification or \"Abnormal\" in gaze_classification:\n",
        "        overall_assessment = \"POTENTIALLY ABNORMAL EYE MOVEMENT\"\n",
        "    else:\n",
        "        overall_assessment = \"Normal Eye Movement\"\n",
        "\n",
        "    print(f\"  Overall Assessment: {overall_assessment}\")"
      ],
      "execution_count": 110,
      "outputs": [
        {
          "output_type": "stream",
          "name": "stdout",
          "text": [
            "✅ Demonstrating pipeline application on test data samples:\n",
            "\n",
            "--- Classification Results for Demo Samples ---\n",
            "\n",
            "Sample 1:\n",
            "  Predicted Blinking: 0.0 (No Blink (Normal based on threshold))\n",
            "  Predicted Pupil Size: 1086.00 (Normal Pupil Size)\n",
            "  Predicted Gaze (X, Y): (-6.67, -906.99) (Normal Gaze Direction)\n",
            "  Overall Assessment: Normal Eye Movement\n",
            "\n",
            "Sample 2:\n",
            "  Predicted Blinking: 0.0 (No Blink (Normal based on threshold))\n",
            "  Predicted Pupil Size: 1019.00 (Normal Pupil Size)\n",
            "  Predicted Gaze (X, Y): (-20.67, -1019.42) (Normal Gaze Direction)\n",
            "  Overall Assessment: Normal Eye Movement\n",
            "\n",
            "Sample 3:\n",
            "  Predicted Blinking: 0.0 (No Blink (Normal based on threshold))\n",
            "  Predicted Pupil Size: 2034.92 (Normal Pupil Size)\n",
            "  Predicted Gaze (X, Y): (12.94, -1294.18) (Normal Gaze Direction)\n",
            "  Overall Assessment: Normal Eye Movement\n",
            "\n",
            "Sample 4:\n",
            "  Predicted Blinking: 0.0 (No Blink (Normal based on threshold))\n",
            "  Predicted Pupil Size: 841.00 (Normal Pupil Size)\n",
            "  Predicted Gaze (X, Y): (-2.45, -1019.16) (Normal Gaze Direction)\n",
            "  Overall Assessment: Normal Eye Movement\n",
            "\n",
            "Sample 5:\n",
            "  Predicted Blinking: 1.0 (Blink (Abnormal based on threshold))\n",
            "  Predicted Pupil Size: 1352.00 (Normal Pupil Size)\n",
            "  Predicted Gaze (X, Y): (-14.76, -1513.44) (Normal Gaze Direction)\n",
            "  Overall Assessment: POTENTIALLY ABNORMAL EYE MOVEMENT\n",
            "\n",
            "Sample 6:\n",
            "  Predicted Blinking: 0.0 (No Blink (Normal based on threshold))\n",
            "  Predicted Pupil Size: 1131.00 (Normal Pupil Size)\n",
            "  Predicted Gaze (X, Y): (-23.83, -1015.42) (Normal Gaze Direction)\n",
            "  Overall Assessment: Normal Eye Movement\n",
            "\n",
            "Sample 7:\n",
            "  Predicted Blinking: 0.0 (No Blink (Normal based on threshold))\n",
            "  Predicted Pupil Size: 504.98 (Normal Pupil Size)\n",
            "  Predicted Gaze (X, Y): (1.60, -752.90) (Normal Gaze Direction)\n",
            "  Overall Assessment: Normal Eye Movement\n",
            "\n",
            "Sample 8:\n",
            "  Predicted Blinking: 1.0 (Blink (Abnormal based on threshold))\n",
            "  Predicted Pupil Size: 1447.99 (Normal Pupil Size)\n",
            "  Predicted Gaze (X, Y): (-33.77, -1226.68) (Normal Gaze Direction)\n",
            "  Overall Assessment: POTENTIALLY ABNORMAL EYE MOVEMENT\n",
            "\n",
            "Sample 9:\n",
            "  Predicted Blinking: 1.0 (Blink (Abnormal based on threshold))\n",
            "  Predicted Pupil Size: 1081.00 (Normal Pupil Size)\n",
            "  Predicted Gaze (X, Y): (-13.30, -1056.57) (Normal Gaze Direction)\n",
            "  Overall Assessment: POTENTIALLY ABNORMAL EYE MOVEMENT\n",
            "\n",
            "Sample 10:\n",
            "  Predicted Blinking: 0.0 (No Blink (Normal based on threshold))\n",
            "  Predicted Pupil Size: 1164.99 (Normal Pupil Size)\n",
            "  Predicted Gaze (X, Y): (-12.29, -955.14) (Normal Gaze Direction)\n",
            "  Overall Assessment: Normal Eye Movement\n"
          ]
        }
      ]
    },
    {
      "cell_type": "code",
      "metadata": {
        "colab": {
          "base_uri": "https://localhost:8080/"
        },
        "id": "4427c778",
        "outputId": "7c3c91f4-ca03-4261-e791-e566c6ad5225"
      },
      "source": [
        "import numpy as np\n",
        "\n",
        "# Assuming X_test_scaled, blinking_model, pupil_size_model, gaze_x_model, gaze_y_model,\n",
        "# scaler_y_size, scaler_y_gaze_x, scaler_y_gaze_y,\n",
        "# pupil_area_normal_lower_bound, pupil_area_normal_upper_bound,\n",
        "# eyelid_closure_threshold_blink,\n",
        "# gaze_x_normal_lower_bound, gaze_x_normal_upper_bound,\n",
        "# gaze_y_normal_lower_bound, gaze_y_normal_upper_bound\n",
        "# are available from preceding cells.\n",
        "\n",
        "print(\"✅ Analyzing the overall rate of abnormal detections in the test set:\")\n",
        "\n",
        "# Make predictions for the entire test set\n",
        "predicted_blinking_status_test = blinking_model.predict(X_test_scaled)\n",
        "predicted_pupil_size_scaled_test = pupil_size_model.predict(X_test_scaled)\n",
        "predicted_gaze_x_scaled_test = gaze_x_model.predict(X_test_scaled)\n",
        "predicted_gaze_y_scaled_test = gaze_y_model.predict(X_test_scaled)\n",
        "\n",
        "# Inverse transform scaled regression predictions to original scale\n",
        "predicted_pupil_size_test = scaler_y_size.inverse_transform(predicted_pupil_size_scaled_test.reshape(-1, 1)).ravel()\n",
        "predicted_gaze_x_test = scaler_y_gaze_x.inverse_transform(predicted_gaze_x_scaled_test.reshape(-1, 1)).ravel()\n",
        "predicted_gaze_y_test = scaler_y_gaze_y.inverse_transform(predicted_gaze_y_scaled_test.reshape(-1, 1)).ravel()\n",
        "\n",
        "# Initialize counter for abnormal detections\n",
        "abnormal_count = 0\n",
        "total_samples = X_test_scaled.shape[0]\n",
        "\n",
        "# Apply defined \"normal\" thresholds to classify each sample in the test set\n",
        "for i in range(total_samples):\n",
        "    sample_blinking = predicted_blinking_status_test[i]\n",
        "    sample_pupil_size = predicted_pupil_size_test[i]\n",
        "    sample_gaze_x = predicted_gaze_x_test[i]\n",
        "    sample_gaze_y = predicted_gaze_y_test[i]\n",
        "\n",
        "    # Check for abnormality in each feature based on thresholds\n",
        "    is_blinking_abnormal = sample_blinking == 1 # Blinking predicted as 1 is considered abnormal based on the threshold approach\n",
        "    is_pupil_size_abnormal = not (sample_pupil_size >= pupil_area_normal_lower_bound and sample_pupil_size <= pupil_area_normal_upper_bound)\n",
        "    is_gaze_x_abnormal = not (sample_gaze_x >= gaze_x_normal_lower_bound and sample_gaze_x <= gaze_x_normal_upper_bound)\n",
        "    is_gaze_y_abnormal = not (sample_gaze_y >= gaze_y_normal_lower_bound and sample_gaze_y <= gaze_y_normal_upper_bound)\n",
        "\n",
        "    # Determine overall abnormal status (if any feature is abnormal)\n",
        "    if is_blinking_abnormal or is_pupil_size_abnormal or is_gaze_x_abnormal or is_gaze_y_abnormal:\n",
        "        abnormal_count += 1\n",
        "\n",
        "# Calculate the rate of abnormal detections\n",
        "abnormal_rate = (abnormal_count / total_samples) * 100 if total_samples > 0 else 0\n",
        "\n",
        "print(f\"\\n--- Overall Abnormal Detection Rate in Test Set ---\")\n",
        "print(f\"Total samples in test set: {total_samples}\")\n",
        "print(f\"Number of samples classified as potentially abnormal: {abnormal_count}\")\n",
        "print(f\"Overall rate of potentially abnormal detections: {abnormal_rate:.2f}%\")\n",
        "\n",
        "print(\"\\nNote: This rate is based on the defined 'normal' thresholds and the models' predictions.\")"
      ],
      "execution_count": 114,
      "outputs": [
        {
          "output_type": "stream",
          "name": "stdout",
          "text": [
            "✅ Analyzing the overall rate of abnormal detections in the test set:\n",
            "\n",
            "--- Overall Abnormal Detection Rate in Test Set ---\n",
            "Total samples in test set: 5487\n",
            "Number of samples classified as potentially abnormal: 1175\n",
            "Overall rate of potentially abnormal detections: 21.41%\n",
            "\n",
            "Note: This rate is based on the defined 'normal' thresholds and the models' predictions.\n"
          ]
        }
      ]
    },
    {
      "cell_type": "markdown",
      "metadata": {
        "id": "c0e5c608"
      },
      "source": [
        "This code snippet demonstrates how to apply the trained models and defined \"normal\" thresholds to samples from the test set.\n",
        "\n",
        "It performs the following steps for a few selected test samples:\n",
        "1.  Retrieves the scaled features for the samples.\n",
        "2.  Uses the trained classification model (`blinking_model`) and regression models (`pupil_size_model`, `gaze_x_model`, `gaze_y_model`) to predict blinking status, pupil size, and gaze direction.\n",
        "3.  Inverse transforms the scaled regression predictions back to their original scale.\n",
        "4.  Applies the previously defined \"normal\" thresholds to these predictions to classify whether each sample's predicted features fall within the normal range.\n",
        "5.  Prints the predicted values, the classification based on thresholds, and an overall assessment for each sample.\n",
        "\n",
        "This process simulates how you would analyze new data from your prototype to identify potential abnormalities based on the criteria you've set."
      ]
    },
    {
      "cell_type": "markdown",
      "metadata": {
        "id": "122daf32"
      },
      "source": [
        "**Reasoning**:\n",
        "Define threshold values for pupil area, eyelid closure, and gaze coordinates based on their observed distributions to establish criteria for \"normal\" eye movements."
      ]
    },
    {
      "cell_type": "code",
      "metadata": {
        "colab": {
          "base_uri": "https://localhost:8080/"
        },
        "id": "e347e4dd",
        "outputId": "ee9b8e98-2dbe-47f2-e286-46dfba55982f"
      },
      "source": [
        "import numpy as np\n",
        "\n",
        "# Assuming features_df and targets_df are available\n",
        "\n",
        "# Define thresholds based on feature distributions and summary statistics\n",
        "\n",
        "# 1. Pupil Area Thresholds:\n",
        "# Let's use the mean and standard deviation as a starting point to define a normal range.\n",
        "# You might consider values outside of mean +/- 2*std_dev as potentially abnormal.\n",
        "# Alternatively, based on visualizations, you might define fixed lower and upper bounds\n",
        "# that visually encompass the majority of typical pupil sizes.\n",
        "pupil_area_mean = features_df['pupil_area'].mean()\n",
        "pupil_area_std = features_df['pupil_area'].std()\n",
        "pupil_area_normal_lower_bound = pupil_area_mean - 2 * pupil_area_std\n",
        "pupil_area_normal_upper_bound = pupil_area_mean + 2 * pupil_area_std\n",
        "\n",
        "# Ensure lower bound is not negative\n",
        "if pupil_area_normal_lower_bound < 0:\n",
        "    pupil_area_normal_lower_bound = 0\n",
        "\n",
        "print(f\"Pupil Area Normal Range (Mean +/- 2*StdDev): {pupil_area_normal_lower_bound:.2f} to {pupil_area_normal_upper_bound:.2f}\")\n",
        "# Example of alternative fixed thresholds (commented out):\n",
        "# pupil_area_normal_lower_bound = 300 # Example value - adjust based on data\n",
        "# pupil_area_normal_upper_bound = 1800 # Example value - adjust based on data\n",
        "# print(f\"Pupil Area Normal Range (Fixed): {pupil_area_normal_lower_bound:.2f} to {pupil_area_normal_upper_bound:.2f}\")\n",
        "\n",
        "\n",
        "# 2. Eyelid Closure Threshold (for Blinking):\n",
        "# Based on the distribution, a higher value indicates more closure.\n",
        "# We used a percentile (e.g., 95th percentile) as a threshold for blinking.\n",
        "# This means the top 5% of closure values are considered blinks.\n",
        "# You might adjust the percentile (e.g., 90th, 98th) depending on how sensitive\n",
        "# you want the blinking detection to be.\n",
        "eyelid_closure_threshold_blink = np.percentile(features_df['eyelid_closure'], 95) # Example: top 5% considered blinks\n",
        "\n",
        "print(f\"Eyelid Closure Threshold for Blinking (95th percentile): {eyelid_closure_threshold_blink:.4f}\")\n",
        "# Example of alternative fixed threshold (commented out):\n",
        "# eyelid_closure_threshold_blink = 70 # Example value - adjust based on data\n",
        "# print(f\"Eyelid Closure Threshold for Blinking (Fixed): {eyelid_closure_threshold_blink:.4f}\")\n",
        "\n",
        "\n",
        "# 3. Gaze Direction Thresholds (Relative X and Y):\n",
        "# Assume gaze is normal when the pupil centroid is close to the iris centroid.\n",
        "# We defined a normal range as mean +/- 2*std_dev for both X and Y.\n",
        "# Alternatively, you could define a fixed rectangular or circular region\n",
        "# around the mean relative gaze position that represents normal gaze.\n",
        "gaze_x_mean = targets_df['gaze_x'].mean()\n",
        "gaze_y_mean = targets_df['gaze_y'].mean()\n",
        "gaze_x_std = targets_df['gaze_x'].std()\n",
        "gaze_y_std = targets_df['gaze_y'].std()\n",
        "\n",
        "# Let's define a normal range as mean +/- 2*std_dev for both X and Y\n",
        "gaze_x_normal_lower_bound = gaze_x_mean - 2 * gaze_x_std\n",
        "gaze_x_normal_upper_bound = gaze_x_mean + 2 * gaze_x_std\n",
        "gaze_y_normal_lower_bound = gaze_y_mean - 2 * gaze_y_std\n",
        "gaze_y_normal_upper_bound = gaze_y_mean + 2 * gaze_y_std\n",
        "\n",
        "\n",
        "print(f\"Gaze X Normal Range (Mean +/- 2*StdDev): {gaze_x_normal_lower_bound:.2f} to {gaze_x_normal_upper_bound:.2f}\")\n",
        "print(f\"Gaze Y Normal Range (Mean +/- 2*StdDev): {gaze_y_normal_lower_bound:.2f} to {gaze_y_normal_upper_bound:.2f}\")\n",
        "\n",
        "# Example of alternative fixed rectangular thresholds (commented out):\n",
        "# gaze_x_normal_lower_bound = -30 # Example value - adjust based on data\n",
        "# gaze_x_normal_upper_bound = 20 # Example value - adjust based on data\n",
        "# gaze_y_normal_lower_bound = -1400 # Example value - adjust based on data\n",
        "# gaze_y_normal_upper_bound = -700 # Example value - adjust based on data\n",
        "# print(f\"Gaze X Normal Range (Fixed): {gaze_x_normal_lower_bound:.2f} to {gaze_x_normal_upper_bound:.2f}\")\n",
        "# print(f\"Gaze Y Normal Range (Fixed): {gaze_y_normal_lower_bound:.2f} to {gaze_y_normal_upper_bound:.2f}\")\n",
        "\n",
        "\n",
        "print(\"\\n✅ Preliminary thresholds defined. Review and adjust these based on your specific criteria for 'normal' eye movements.\")\n",
        "\n",
        "# You can now use these defined thresholds to classify new data points as 'normal' or 'abnormal'\n",
        "# For example, to check if a new data point 'new_features' is within the normal pupil area range:\n",
        "# is_pupil_area_normal = (new_features[2] >= pupil_area_normal_lower_bound) and (new_features[2] <= pupil_area_normal_upper_bound)\n",
        "\n",
        "# To check for blinking:\n",
        "# is_blinking = new_features[3] > eyelid_closure_threshold_blink\n",
        "\n",
        "# To check if gaze is normal:\n",
        "# is_gaze_x_normal = (new_features[6] >= gaze_x_normal_lower_bound) and (new_features[6] <= gaze_x_normal_upper_bound)\n",
        "# is_gaze_y_normal = (new_features[7] >= gaze_y_normal_lower_bound) and (new_features[7] <= gaze_y_normal_upper_bound)\n",
        "\n",
        "# Note: The indices for new_features would depend on the order of features when you process new data."
      ],
      "execution_count": 111,
      "outputs": [
        {
          "output_type": "stream",
          "name": "stdout",
          "text": [
            "Pupil Area Normal Range (Mean +/- 2*StdDev): 214.51 to 2040.50\n",
            "Eyelid Closure Threshold for Blinking (95th percentile): 80.7084\n",
            "Gaze X Normal Range (Mean +/- 2*StdDev): -41.83 to 24.19\n",
            "Gaze Y Normal Range (Mean +/- 2*StdDev): -1588.00 to -508.86\n",
            "\n",
            "✅ Preliminary thresholds defined. Review and adjust these based on your specific criteria for 'normal' eye movements.\n"
          ]
        }
      ]
    },
    {
      "cell_type": "markdown",
      "metadata": {
        "id": "4fb9accd"
      },
      "source": [
        "## Visualize Feature Distributions to Identify Thresholds\n",
        "\n",
        "### Subtask:\n",
        "Visualize the distribution of key extracted features to inform the selection of \"normal\" thresholds."
      ]
    },
    {
      "cell_type": "markdown",
      "metadata": {
        "id": "055adea3"
      },
      "source": [
        "**Reasoning**:\n",
        "Visualize the distributions of key features (pupil area, eyelid closure, gaze X, gaze Y) to understand their typical range and identify potential threshold values for defining \"normal\" eye movements."
      ]
    },
    {
      "cell_type": "code",
      "metadata": {
        "colab": {
          "base_uri": "https://localhost:8080/",
          "height": 627
        },
        "id": "186dbef1",
        "outputId": "ed9bff0a-e65c-4dd7-c541-1226047e9c3e"
      },
      "source": [
        "import matplotlib.pyplot as plt\n",
        "import seaborn as sns\n",
        "import pandas as pd\n",
        "\n",
        "# Assuming features_df and targets_df are available from the verification step (cell 5281c6e7)\n",
        "# If not, recreate them from features_array and target_variables_array\n",
        "if 'features_df' not in locals() or 'targets_df' not in locals():\n",
        "    feature_column_names = ['pupil_x_center', 'pupil_y_center', 'pupil_area',\n",
        "                            'eyelid_closure', 'iris_x_center', 'iris_y_center', 'iris_area']\n",
        "    target_column_names = ['blinking_status', 'pupil_size', 'gaze_x', 'gaze_y']\n",
        "    features_df = pd.DataFrame(features_array, columns=feature_column_names)\n",
        "    targets_df = pd.DataFrame(target_variables_array, columns=target_column_names)\n",
        "\n",
        "\n",
        "print(\"✅ Visualizing feature distributions...\")\n",
        "\n",
        "plt.figure(figsize=(15, 5))\n",
        "\n",
        "plt.subplot(1, 3, 1)\n",
        "sns.histplot(features_df['pupil_area'], kde=True)\n",
        "plt.title('Distribution of Pupil Area')\n",
        "plt.xlabel(\"Pupil Area (pixels)\")\n",
        "plt.ylabel(\"Frequency\")\n",
        "\n",
        "plt.subplot(1, 3, 2)\n",
        "sns.histplot(features_df['eyelid_closure'], kde=True)\n",
        "plt.title('Distribution of Eyelid Closure Feature')\n",
        "plt.xlabel(\"Eyelid Closure (proportion)\")\n",
        "plt.ylabel(\"Frequency\")\n",
        "\n",
        "plt.subplot(1, 3, 3)\n",
        "sns.histplot(targets_df['gaze_x'], kde=True) # Correctly access gaze_x from targets_df\n",
        "plt.title('Distribution of Gaze X (Relative)')\n",
        "plt.xlabel(\"Gaze X (Relative Position)\")\n",
        "plt.ylabel(\"Frequency\")\n",
        "\n",
        "\n",
        "plt.tight_layout()\n",
        "plt.show()\n",
        "\n",
        "plt.figure(figsize=(8, 5))\n",
        "sns.histplot(targets_df['gaze_y'], kde=True) # Correctly access gaze_y from targets_df\n",
        "plt.title('Distribution of Gaze Y (Relative)')\n",
        "plt.xlabel(\"Gaze Y (Relative Position)\")\n",
        "plt.ylabel(\"Frequency\")\n",
        "plt.ylabel(\"Frequency\")\n",
        "plt.show()"
      ],
      "execution_count": 112,
      "outputs": [
        {
          "output_type": "stream",
          "name": "stdout",
          "text": [
            "✅ Visualizing feature distributions...\n"
          ]
        },
        {
          "output_type": "display_data",
          "data": {
            "text/plain": [
              "<Figure size 1500x500 with 3 Axes>"
            ],
            "image/png": "[encoded data removed]"
          },
          "metadata": {}
        },
        {
          "output_type": "display_data",
          "data": {
            "text/plain": [
              "<Figure size 800x500 with 1 Axes>"
            ],
            "image/png": "[encoded data removed]"
          },
          "metadata": {}
        }
      ]
    },
    {
      "cell_type": "markdown",
      "metadata": {
        "id": "eeb06050"
      },
      "source": [
        "## Evaluate the Model\n",
        "\n",
        "### Subtask:\n",
        "Evaluate the performance of the trained models using appropriate metrics."
      ]
    },
    {
      "cell_type": "markdown",
      "metadata": {
        "id": "0426bbed"
      },
      "source": [
        "**Reasoning**:\n",
        "Evaluate the performance of the trained classification and regression models using appropriate metrics (accuracy, classification report, MSE, R2) to understand how well they perform on unseen data."
      ]
    },
    {
      "cell_type": "code",
      "metadata": {
        "colab": {
          "base_uri": "https://localhost:8080/"
        },
        "id": "3236c343",
        "outputId": "bcf2c5f7-f0d0-4c2f-d6d9-22d00f4bac20"
      },
      "source": [
        "from sklearn.metrics import accuracy_score, classification_report, mean_squared_error, r2_score\n",
        "from sklearn.linear_model import LogisticRegression # For blinking classification\n",
        "from sklearn.ensemble import RandomForestRegressor # For pupil size and gaze direction regression\n",
        "from sklearn.preprocessing import StandardScaler # Import StandardScaler\n",
        "from sklearn.model_selection import train_test_split # Import train_test_split\n",
        "import numpy as np # Import numpy\n",
        "from sklearn.utils.validation import check_is_fitted # Import check_is_fitted\n",
        "from sklearn.exceptions import NotFittedError # Import NotFittedError\n",
        "\n",
        "\n",
        "# Check if data is prepared and models/scalers are trained\n",
        "# Using check_is_fitted for models for more specific checks\n",
        "try:\n",
        "    X_test_scaled # Check if scaled test features are available\n",
        "    y_test_blinking # Check if blinking test labels are available\n",
        "    y_test # Check if original test targets are available\n",
        "\n",
        "    # Check if each model is fitted\n",
        "    check_is_fitted(blinking_model)\n",
        "    check_is_fitted(pupil_size_model)\n",
        "    check_is_fitted(gaze_x_model)\n",
        "    check_is_fitted(gaze_y_model)\n",
        "\n",
        "    # Check if scalers are fitted (for inverse transform)\n",
        "    check_is_fitted(scaler_y_size)\n",
        "    check_is_fitted(scaler_y_gaze_x)\n",
        "    check_is_fitted(scaler_y_gaze_y)\n",
        "\n",
        "except NotFittedError as e:\n",
        "     print(f\"❌ Error: A model or scaler is not fitted. Please ensure the model training cells (like fe3e06db) have been run successfully. Details: {e}\")\n",
        "except NameError as e:\n",
        "     print(f\"❌ Error: Required variables (data or models/scalers) are not found. Please ensure the preceding data preparation and model training cells have been run successfully. Details: {e}\")\n",
        "except Exception as e:\n",
        "     print(f\"❌ An unexpected error occurred during the initial check: {e}\")\n",
        "\n",
        "\n",
        "# If checks pass, proceed with evaluation\n",
        "if 'X_test_scaled' in locals() and 'y_test_blinking' in locals() and 'y_test' in locals():\n",
        "    try:\n",
        "        # --- Evaluate Blinking Classification Model ---\n",
        "        print(\"\\nEvaluating Blinking Classification Model...\")\n",
        "        y_pred_blinking = blinking_model.predict(X_test_scaled)\n",
        "        print(\"✅ Blinking Model Evaluation:\")\n",
        "        print(\"Accuracy:\", accuracy_score(y_test_blinking, y_pred_blinking))\n",
        "        print(\"Classification Report:\\n\", classification_report(y_test_blinking, y_pred_blinking))\n",
        "\n",
        "        # --- Evaluate Pupil Size Regression Model ---\n",
        "        print(\"\\nEvaluating Pupil Size Regression Model...\")\n",
        "        y_pred_size_scaled = pupil_size_model.predict(X_test_scaled)\n",
        "\n",
        "        # Inverse transform the scaled predictions to get predictions in original scale\n",
        "        # Ensure y_test is available and has the correct structure\n",
        "        y_pred_size = scaler_y_size.inverse_transform(y_pred_size_scaled.reshape(-1, 1)).ravel()\n",
        "        # y_test_size = y_test[:, 1] # y_test is already available from the split\n",
        "\n",
        "        print(\"✅ Pupil Size Model Evaluation:\")\n",
        "        print(\"Mean Squared Error:\", mean_squared_error(y_test[:, 1], y_pred_size))\n",
        "        print(\"R2 Score:\", r2_score(y_test[:, 1], y_pred_size))\n",
        "\n",
        "        # --- Evaluate Gaze Direction Regression Models ---\n",
        "        print(\"\\nEvaluating Gaze Direction (X) Regression Model...\")\n",
        "        y_pred_gaze_x_scaled = gaze_x_model.predict(X_test_scaled)\n",
        "        y_pred_gaze_x = scaler_y_gaze_x.inverse_transform(y_pred_gaze_x_scaled.reshape(-1, 1)).ravel()\n",
        "        # y_test_gaze_x = y_test[:, 2] # y_test is already available from the split\n",
        "\n",
        "        print(\"✅ Gaze Direction (X) Model Evaluation:\")\n",
        "        print(\"Mean Squared Error:\", mean_squared_error(y_test[:, 2], y_pred_gaze_x))\n",
        "        print(\"R2 Score:\", r2_score(y_test[:, 2], y_pred_gaze_x))\n",
        "\n",
        "        print(\"\\nEvaluating Gaze Direction (Y) Regression Model...\")\n",
        "        y_pred_gaze_y_scaled = gaze_y_model.predict(X_test_scaled)\n",
        "        y_pred_gaze_y = scaler_y_gaze_y.inverse_transform(y_pred_gaze_y_scaled.reshape(-1, 1)).ravel()\n",
        "        # y_test_gaze_y = y_test[:, 3] # y_test is already available from the split\n",
        "\n",
        "        print(\"✅ Gaze Direction (Y) Model Evaluation:\")\n",
        "        print(\"Mean Squared Error:\", mean_squared_error(y_test[:, 3], y_pred_gaze_y))\n",
        "        print(\"R2 Score:\", r2_score(y_test[:, 3], y_pred_gaze_y)) # Corrected typo here\n",
        "\n",
        "    except NotFittedError as e:\n",
        "         print(f\"❌ Error during evaluation: A model or scaler was not fitted correctly before attempting prediction/transform. Details: {e}\")\n",
        "    except NameError as e:\n",
        "         print(f\"❌ Error during evaluation: Required variables (models or scalers) were not found. Details: {e}\")\n",
        "    except Exception as e:\n",
        "         print(f\"❌ An unexpected error occurred during evaluation: {e}\")\n",
        "else:\n",
        "    print(\"\\nEvaluation skipped due to missing data or models/scalers.\")"
      ],
      "execution_count": 113,
      "outputs": [
        {
          "output_type": "stream",
          "name": "stdout",
          "text": [
            "\n",
            "Evaluating Blinking Classification Model...\n",
            "✅ Blinking Model Evaluation:\n",
            "Accuracy: 0.9970840167669036\n",
            "Classification Report:\n",
            "               precision    recall  f1-score   support\n",
            "\n",
            "         0.0       1.00      1.00      1.00      4956\n",
            "         1.0       0.99      0.98      0.98       531\n",
            "\n",
            "    accuracy                           1.00      5487\n",
            "   macro avg       0.99      0.99      0.99      5487\n",
            "weighted avg       1.00      1.00      1.00      5487\n",
            "\n",
            "\n",
            "Evaluating Pupil Size Regression Model...\n",
            "✅ Pupil Size Model Evaluation:\n",
            "Mean Squared Error: 0.2340484782212515\n",
            "R2 Score: 0.9999988950941513\n",
            "\n",
            "Evaluating Gaze Direction (X) Regression Model...\n",
            "✅ Gaze Direction (X) Model Evaluation:\n",
            "Mean Squared Error: 0.8748475963212978\n",
            "R2 Score: 0.9969171013259819\n",
            "\n",
            "Evaluating Gaze Direction (Y) Regression Model...\n",
            "✅ Gaze Direction (Y) Model Evaluation:\n",
            "Mean Squared Error: 1.923725213737834\n",
            "R2 Score: 0.9999728217934165\n"
          ]
        }
      ]
    },
    {
      "cell_type": "markdown",
      "metadata": {
        "id": "e7747042"
      },
      "source": [
        "## Prepare Data for Modeling\n",
        "\n",
        "### Subtask:\n",
        "Split the data into training and testing sets and scale the features and target variables."
      ]
    },
    {
      "cell_type": "markdown",
      "metadata": {
        "id": "46ed6137"
      },
      "source": [
        "**Reasoning**:\n",
        "Split the extracted features and target variables into training and testing sets and scale them to prepare the data for training a machine learning model."
      ]
    },
    {
      "cell_type": "code",
      "metadata": {
        "colab": {
          "base_uri": "https://localhost:8080/"
        },
        "id": "27642121",
        "outputId": "c1258be6-748c-4bf8-8c2c-f42a6cad0127"
      },
      "source": [
        "from sklearn.model_selection import train_test_split\n",
        "from sklearn.preprocessing import StandardScaler\n",
        "\n",
        "# Assuming features_array and target_variables_array are available\n",
        "\n",
        "# Split data into training and testing sets\n",
        "# We need to split features and targets together to maintain correspondence\n",
        "X = features_array\n",
        "y = target_variables_array\n",
        "\n",
        "# For simplicity, let's split the data once and use it for all three tasks (blinking, size, gaze)\n",
        "X_train, X_test, y_train, y_test = train_test_split(X, y, test_size=0.2, random_state=42)\n",
        "\n",
        "# Scale features\n",
        "scaler_X = StandardScaler()\n",
        "X_train_scaled = scaler_X.fit_transform(X_train)\n",
        "X_test_scaled = scaler_X.transform(X_test)\n",
        "\n",
        "# Scale numerical target variables (Pupil Size, Gaze X, Gaze Y)\n",
        "# Blinking status is binary, so it doesn't need scaling\n",
        "scaler_y_size = StandardScaler()\n",
        "y_train_size_scaled = scaler_y_size.fit_transform(y_train[:, 1].reshape(-1, 1))\n",
        "y_test_size_scaled = scaler_y_size.transform(y_test[:, 1].reshape(-1, 1))\n",
        "\n",
        "scaler_y_gaze_x = StandardScaler()\n",
        "y_train_gaze_x_scaled = scaler_y_gaze_x.fit_transform(y_train[:, 2].reshape(-1, 1))\n",
        "y_test_gaze_x_scaled = scaler_y_gaze_x.transform(y_test[:, 2].reshape(-1, 1))\n",
        "\n",
        "scaler_y_gaze_y = StandardScaler()\n",
        "y_train_gaze_y_scaled = scaler_y_gaze_y.fit_transform(y_train[:, 3].reshape(-1, 1))\n",
        "y_test_gaze_y_scaled = scaler_y_gaze_y.transform(y_test[:, 3].reshape(-1, 1))\n",
        "\n",
        "\n",
        "# Blinking target (already binary)\n",
        "y_train_blinking = y_train[:, 0]\n",
        "y_test_blinking = y_test[:, 0]\n",
        "\n",
        "# Reshape scaled numerical targets back to 1D arrays if needed for some models\n",
        "y_train_size_scaled = y_train_size_scaled.ravel()\n",
        "y_test_size_scaled = y_test_size_scaled.ravel()\n",
        "y_train_gaze_x_scaled = y_train_gaze_x_scaled.ravel()\n",
        "y_test_gaze_x_scaled = y_test_gaze_x_scaled.ravel()\n",
        "y_train_gaze_y_scaled = y_train_gaze_y_scaled.ravel()\n",
        "y_test_gaze_y_scaled = y_test_gaze_y_scaled.ravel()\n",
        "\n",
        "\n",
        "print(\"✅ Data splitting and scaling complete.\")\n",
        "print(\"Shape of X_train_scaled:\", X_train_scaled.shape)\n",
        "print(\"Shape of X_test_scaled:\", X_test_scaled.shape)\n",
        "print(\"Shape of y_train_blinking:\", y_train_blinking.shape)\n",
        "print(\"Shape of y_test_blinking:\", y_test_blinking.shape)\n",
        "print(\"Shape of y_train_size_scaled:\", y_train_size_scaled.shape)\n",
        "print(\"Shape of y_test_size_scaled:\", y_test_size_scaled.shape)\n",
        "print(\"Shape of y_train_gaze_x_scaled:\", y_train_gaze_x_scaled.shape)\n",
        "print(\"Shape of y_test_gaze_x_scaled:\", y_test_gaze_x_scaled.shape)\n",
        "print(\"Shape of y_train_gaze_y_scaled:\", y_train_gaze_y_scaled.shape)\n",
        "print(\"Shape of y_test_gaze_y_scaled:\", y_test_gaze_y_scaled.shape)"
      ],
      "execution_count": 106,
      "outputs": [
        {
          "output_type": "stream",
          "name": "stdout",
          "text": [
            "✅ Data splitting and scaling complete.\n",
            "Shape of X_train_scaled: (21944, 7)\n",
            "Shape of X_test_scaled: (5487, 7)\n",
            "Shape of y_train_blinking: (21944,)\n",
            "Shape of y_test_blinking: (5487,)\n",
            "Shape of y_train_size_scaled: (21944,)\n",
            "Shape of y_test_size_scaled: (5487,)\n",
            "Shape of y_train_gaze_x_scaled: (21944,)\n",
            "Shape of y_test_gaze_x_scaled: (5487,)\n",
            "Shape of y_train_gaze_y_scaled: (21944,)\n",
            "Shape of y_test_gaze_y_scaled: (5487,)\n"
          ]
        }
      ]
    },
    {
      "cell_type": "markdown",
      "metadata": {
        "id": "35ba2bfa"
      },
      "source": [
        "## Train Relevant Models\n",
        "\n",
        "### Subtask:\n",
        "Train models for blinking (classification), pupil size (regression), and gaze direction (regression)."
      ]
    },
    {
      "cell_type": "markdown",
      "metadata": {
        "id": "944855f6"
      },
      "source": [
        "**Reasoning**:\n",
        "Train appropriate machine learning models for each of the defined tasks (blinking, pupil size, and gaze direction) using the prepared training data."
      ]
    },
    {
      "cell_type": "code",
      "metadata": {
        "colab": {
          "base_uri": "https://localhost:8080/"
        },
        "id": "fe3e06db",
        "outputId": "557b9c6c-3b65-44e6-f92e-c8cfb5a57f14"
      },
      "source": [
        "from sklearn.linear_model import LogisticRegression # For blinking classification\n",
        "from sklearn.ensemble import RandomForestRegressor # For pupil size and gaze direction regression\n",
        "from sklearn.metrics import accuracy_score, classification_report, mean_squared_error, r2_score\n",
        "\n",
        "# --- Train Blinking Classification Model ---\n",
        "print(\"Training Blinking Classification Model...\")\n",
        "blinking_model = LogisticRegression(max_iter=1000) # Increased max_iter for convergence\n",
        "blinking_model.fit(X_train_scaled, y_train_blinking)\n",
        "print(\"✅ Blinking Model Training Complete.\")\n",
        "\n",
        "# --- Train Pupil Size Regression Model ---\n",
        "print(\"\\nTraining Pupil Size Regression Model...\")\n",
        "pupil_size_model = RandomForestRegressor(n_estimators=100, random_state=42, n_jobs=-1)\n",
        "pupil_size_model.fit(X_train_scaled, y_train_size_scaled)\n",
        "print(\"✅ Pupil Size Model Training Complete.\")\n",
        "\n",
        "# --- Train Gaze Direction Regression Models ---\n",
        "print(\"\\nTraining Gaze Direction (X) Regression Model...\")\n",
        "gaze_x_model = RandomForestRegressor(n_estimators=100, random_state=42, n_jobs=-1)\n",
        "gaze_x_model.fit(X_train_scaled, y_train_gaze_x_scaled)\n",
        "print(\"✅ Gaze Direction (X) Model Training Complete.\")\n",
        "\n",
        "print(\"\\nTraining Gaze Direction (Y) Regression Model...\")\n",
        "gaze_y_model = RandomForestRegressor(n_estimators=100, random_state=42, n_jobs=-1)\n",
        "gaze_y_model.fit(X_train_scaled, y_train_gaze_y_scaled)\n",
        "print(\"✅ Gaze Direction (Y) Model Training Complete.\")"
      ],
      "execution_count": 107,
      "outputs": [
        {
          "output_type": "stream",
          "name": "stdout",
          "text": [
            "Training Blinking Classification Model...\n",
            "✅ Blinking Model Training Complete.\n",
            "\n",
            "Training Pupil Size Regression Model...\n",
            "✅ Pupil Size Model Training Complete.\n",
            "\n",
            "Training Gaze Direction (X) Regression Model...\n",
            "✅ Gaze Direction (X) Model Training Complete.\n",
            "\n",
            "Training Gaze Direction (Y) Regression Model...\n",
            "✅ Gaze Direction (Y) Model Training Complete.\n"
          ]
        }
      ]
    },
    {
      "cell_type": "markdown",
      "metadata": {
        "id": "04ab9c19"
      },
      "source": [
        "## Define target variables\n",
        "\n",
        "### Subtask:\n",
        "Define how to derive the target variables from the label data for blinking, pupil size, and gaze direction."
      ]
    },
    {
      "cell_type": "markdown",
      "metadata": {
        "id": "72e94c57"
      },
      "source": [
        "**Reasoning**:\n",
        "Define how to derive the target variables for blinking, pupil size, and gaze direction based on the OpenEDS label meanings and the extracted features."
      ]
    },
    {
      "cell_type": "code",
      "metadata": {
        "colab": {
          "base_uri": "https://localhost:8080/"
        },
        "id": "9b07fa1c",
        "outputId": "000ddaac-c3de-4ff5-a568-34cc3be5bb28"
      },
      "source": [
        "import numpy as np\n",
        "\n",
        "# Define how to derive target variables\n",
        "\n",
        "# 1. Blinking:\n",
        "# A simple approach for blinking (binary: 0 for open, 1 for closed)\n",
        "# can be based on the eyelid closure feature. A high eyelid closure value\n",
        "# indicates the eyelid is significantly covering the pupil/iris, suggesting a blink.\n",
        "# We can set a threshold on the eyelid_closure_feature.\n",
        "# Let's assume the eyelid closure feature is the 4th column (index 3) in our features_array.\n",
        "# We need to determine an appropriate threshold based on the distribution of this feature.\n",
        "# For now, let's use a placeholder for the threshold.\n",
        "\n",
        "# 2. Pupil Size:\n",
        "# The pupil size can be directly derived from the pupil_area feature (number of pixels\n",
        "# with label 1). This is already calculated and is the 3rd column (index 2)\n",
        "# in our features_array. We will use this directly as the target variable for pupil size.\n",
        "\n",
        "# 3. Gaze Direction:\n",
        "# Gaze direction can be estimated from the relative position of the pupil centroid\n",
        "# (label 1) within the iris region (label 2).\n",
        "# The pupil centroid features are at indices 0 and 1 of features_array.\n",
        "# The iris centroid features are at indices 4 and 5 of features_array.\n",
        "# We can calculate the difference between the pupil centroid and the iris centroid\n",
        "# to get a relative position.\n",
        "# Relative X position = Pupil X center - Iris X center\n",
        "# Relative Y position = Pupil Y center - Iris Y center\n",
        "# These two values can serve as numerical target variables for gaze direction.\n",
        "\n",
        "# We will create a new array to hold these target variables.\n",
        "# This array will have columns for blinking (binary), pupil size (numerical),\n",
        "# and gaze direction (numerical X, numerical Y).\n",
        "\n",
        "# Placeholder for target variables\n",
        "target_variables = []\n",
        "\n",
        "# Assuming the order of features in features_array is:\n",
        "# [pupil_x_center, pupil_y_center, pupil_area, eyelid_closure, iris_x_center, iris_y_center, iris_area]\n",
        "# Indices:              0                 1           2               3               4               5           6\n",
        "\n",
        "# Determine a threshold for blinking (this will need to be refined based on data distribution)\n",
        "# Ensure features_array is defined and accessible from the previous step where features were extracted.\n",
        "# If features_array is not defined, this code block needs to be merged with the feature extraction step.\n",
        "# Assuming features_array is a numpy array from the previous successful execution.\n",
        "\n",
        "# Check if features_array is defined and not empty\n",
        "if 'features_array' in locals() and features_array.shape[0] > 0:\n",
        "    blinking_threshold = np.percentile(features_array[:, 3], 90) # Example: top 10% of closure values are considered blinks\n",
        "\n",
        "    for features in features_array:\n",
        "        # Blinking target (binary)\n",
        "        blinking_status = 1 if features[3] > blinking_threshold else 0 # 1 for closed (blink), 0 for open\n",
        "\n",
        "        # Pupil Size target (numerical)\n",
        "        pupil_size = features[2] # Directly use pupil area\n",
        "\n",
        "        # Gaze Direction targets (numerical X, numerical Y)\n",
        "        pupil_x, pupil_y = features[0], features[1]\n",
        "        iris_x, iris_y = features[4], features[5]\n",
        "\n",
        "        # Calculate relative position of pupil centroid within iris\n",
        "        # Handle cases where iris or pupil might not be detected (centroid is 0,0)\n",
        "        # If iris area is 0, relative position is not meaningful, set to 0,0 or a special value\n",
        "        if features[6] > 0 and features[2] > 0: # Check if both iris and pupil areas are positive\n",
        "            relative_gaze_x = pupil_x - iris_x\n",
        "            relative_gaze_y = pupil_y - iris_y\n",
        "        else:\n",
        "            relative_gaze_x = 0\n",
        "            relative_gaze_y = 0 # Or np.nan if you prefer to handle missing values later\n",
        "\n",
        "\n",
        "        target_variables.append([blinking_status, pupil_size, relative_gaze_x, relative_gaze_y])\n",
        "\n",
        "    target_variables_array = np.array(target_variables)\n",
        "\n",
        "    print(\"✅ Finished defining target variables. Shape:\", target_variables_array.shape)\n",
        "    print(\"Sample target variables (blinking, pupil_size, gaze_x, gaze_y):\")\n",
        "    print(target_variables_array[:5])\n",
        "else:\n",
        "    print(\"❌ features_array is not defined or is empty. Cannot define target variables.\")"
      ],
      "execution_count": 108,
      "outputs": [
        {
          "output_type": "stream",
          "name": "stdout",
          "text": [
            "✅ Finished defining target variables. Shape: (27431, 4)\n",
            "Sample target variables (blinking, pupil_size, gaze_x, gaze_y):\n",
            "[[ 1.00000000e+00  1.12000000e+03 -2.32096545e+01 -1.30120268e+03]\n",
            " [ 0.00000000e+00  8.60000000e+02 -2.06404744e+01 -1.22909767e+03]\n",
            " [ 1.00000000e+00  1.39300000e+03 -1.32601872e+01 -1.47902297e+03]\n",
            " [ 0.00000000e+00  1.05300000e+03 -1.55110373e+01 -1.30682336e+03]\n",
            " [ 0.00000000e+00  1.20700000e+03 -3.16232230e+00 -1.25300497e+03]]\n"
          ]
        }
      ]
    },
    {
      "cell_type": "markdown",
      "metadata": {
        "id": "0bd6726a"
      },
      "source": [
        "## Summary of Notebook Activities\n",
        "\n",
        "This notebook details the process of analyzing the OpenEDS dataset with the goal of extracting eye-tracking features and training models for predicting blinking, pupil size, and gaze direction, which can potentially be used for identifying abnormal eye movements related to conditions like photosensitive epilepsy.\n",
        "\n",
        "Here's a breakdown of the key steps performed:\n",
        "\n",
        "1.  **Dataset Download:** The OpenEDS dataset was downloaded from Kaggle using the `kagglehub` library.\n",
        "2.  **Data Loading and Exploration:** The notebook explored the directory structure of the downloaded dataset and loaded image, mask, and label files. Initial processing was done on a subset and then expanded to the full dataset. The structure and content of the label files (NumPy arrays) were investigated, confirming they are segmentation masks with specific values representing different eye regions (Background, Pupil, Iris, Eyelid).\n",
        "3.  **Feature Extraction:** Features were extracted from the images and label masks. These included:\n",
        "    *   Pupil features (x\\_center, y\\_center, area) derived from the pupil region (label 1).\n",
        "    *   Eyelid closure feature based on the overlap of the eyelid region (label 3) with the pupil/iris.\n",
        "    *   Iris features (x\\_center, y\\_center, area) derived from the iris region (label 2).\n",
        "4.  **Target Variable Definition:** Target variables for three tasks were defined based on the extracted features and label meanings:\n",
        "    *   Blinking status (binary), derived from the eyelid closure feature using a percentile threshold.\n",
        "    *   Pupil size (numerical), directly using the pupil area feature.\n",
        "    *   Gaze direction (numerical X and Y coordinates), calculated as the relative position of the pupil centroid within the iris centroid.\n",
        "5.  **Data Preparation for Modeling:** The extracted features and defined target variables were split into training and testing sets. Features and numerical target variables were scaled using `StandardScaler`.\n",
        "6.  **Model Training:** Machine learning models were trained for each task:\n",
        "    *   A Logistic Regression model for blinking classification.\n",
        "    *   Random Forest Regressor models for pupil size and gaze direction (X and Y) regression.\n",
        "7.  **Model Evaluation:** The trained models were evaluated on the test set using appropriate metrics:\n",
        "    *   Accuracy and Classification Report for blinking.\n",
        "    *   Mean Squared Error (MSE) and R2 Score for pupil size and gaze direction.\n",
        "    The models showed high performance on the test data.\n",
        "8.  **Threshold Definition:** Preliminary \"normal\" thresholds for pupil area, eyelid closure, and gaze direction were defined based on the statistical distributions of these features in the dataset.\n",
        "9.  **Working with New Data (Explained):** The process for applying this developed pipeline to new, unseen data from a smart glasses prototype was explained, emphasizing consistent preprocessing, feature extraction, and using the trained scaler and models for prediction and interpretation with the defined thresholds.\n",
        "\n",
        "This notebook provides a foundational analysis of the OpenEDS dataset for eye-tracking feature extraction and modeling, with a focus on applications related to identifying abnormal eye movements."
      ]
    },
    {
      "cell_type": "markdown",
      "metadata": {
        "id": "004a3805"
      },
      "source": [
        "## Define target variables\n",
        "\n",
        "### Subtask:\n",
        "Define how to derive the target variables from the label data for blinking, pupil size, and gaze direction.\n"
      ]
    },
    {
      "cell_type": "markdown",
      "metadata": {
        "id": "6710dd3d"
      },
      "source": [
        "**Reasoning**:\n",
        "Define how to derive the target variables for blinking, pupil size, and gaze direction based on the OpenEDS label meanings and the extracted features.\n",
        "\n"
      ]
    },
    {
      "cell_type": "code",
      "metadata": {
        "id": "e6ad9373",
        "colab": {
          "base_uri": "https://localhost:8080/"
        },
        "outputId": "b44c61eb-5e91-4a5a-de10-c64eada03150"
      },
      "source": [
        "# Define how to derive target variables\n",
        "\n",
        "# 1. Blinking:\n",
        "# A simple approach for blinking (binary: 0 for open, 1 for closed)\n",
        "# can be based on the eyelid closure feature. A high eyelid closure value\n",
        "# indicates the eyelid is significantly covering the pupil/iris, suggesting a blink.\n",
        "# We can set a threshold on the eyelid_closure_feature.\n",
        "# Let's assume the eyelid closure feature is the 4th column (index 3) in our features_array.\n",
        "# We need to determine an appropriate threshold based on the distribution of this feature.\n",
        "# For now, let's use a placeholder for the threshold.\n",
        "\n",
        "# 2. Pupil Size:\n",
        "# The pupil size can be directly derived from the pupil_area feature (number of pixels\n",
        "# with label 1). This is already calculated and is the 3rd column (index 2)\n",
        "# in our features_array. We will use this directly as the target variable for pupil size.\n",
        "\n",
        "# 3. Gaze Direction:\n",
        "# Gaze direction can be estimated from the relative position of the pupil centroid\n",
        "# (label 1) within the iris region (label 2).\n",
        "# The pupil centroid features are at indices 0 and 1 of features_array.\n",
        "# The iris centroid features are at indices 4 and 5 of features_array.\n",
        "# We can calculate the difference between the pupil centroid and the iris centroid\n",
        "# to get a relative position.\n",
        "# Relative X position = Pupil X center - Iris X center\n",
        "# Relative Y position = Pupil Y center - Iris Y center\n",
        "# These two values can serve as numerical target variables for gaze direction.\n",
        "\n",
        "# We will create a new array to hold these target variables.\n",
        "# This array will have columns for blinking (binary), pupil size (numerical),\n",
        "# and gaze direction (numerical X, numerical Y).\n",
        "\n",
        "# Placeholder for target variables\n",
        "target_variables = []\n",
        "\n",
        "# Assuming the order of features in features_array is:\n",
        "# [pupil_x_center, pupil_y_center, pupil_area, eyelid_closure, iris_x_center, iris_y_center, iris_area]\n",
        "# Indices:              0                 1           2               3               4               5           6\n",
        "\n",
        "# Determine a threshold for blinking (this will need to be refined based on data distribution)\n",
        "blinking_threshold = np.percentile(features_array[:, 3], 90) # Example: top 10% of closure values are considered blinks\n",
        "\n",
        "for features in features_array:\n",
        "    # Blinking target (binary)\n",
        "    blinking_status = 1 if features[3] > blinking_threshold else 0 # 1 for closed (blink), 0 for open\n",
        "\n",
        "    # Pupil Size target (numerical)\n",
        "    pupil_size = features[2] # Directly use pupil area\n",
        "\n",
        "    # Gaze Direction targets (numerical X, numerical Y)\n",
        "    pupil_x, pupil_y = features[0], features[1]\n",
        "    iris_x, iris_y = features[4], features[5]\n",
        "\n",
        "    # Calculate relative position of pupil centroid within iris\n",
        "    # Handle cases where iris or pupil might not be detected (centroid is 0,0)\n",
        "    # If iris area is 0, relative position is not meaningful, set to 0,0 or a special value\n",
        "    if features[6] > 0 and features[2] > 0: # Check if both iris and pupil areas are positive\n",
        "        relative_gaze_x = pupil_x - iris_x\n",
        "        relative_gaze_y = pupil_y - iris_y\n",
        "    else:\n",
        "        relative_gaze_x = 0\n",
        "        relative_gaze_y = 0 # Or np.nan if you prefer to handle missing values later\n",
        "\n",
        "\n",
        "    target_variables.append([blinking_status, pupil_size, relative_gaze_x, relative_gaze_y])\n",
        "\n",
        "target_variables_array = np.array(target_variables)\n",
        "\n",
        "print(\"✅ Finished defining target variables. Shape:\", target_variables_array.shape)\n",
        "print(\"Sample target variables (blinking, pupil_size, gaze_x, gaze_y):\")\n",
        "print(target_variables_array[:5])"
      ],
      "execution_count": 102,
      "outputs": [
        {
          "output_type": "stream",
          "name": "stdout",
          "text": [
            "✅ Finished defining target variables. Shape: (27431, 4)\n",
            "Sample target variables (blinking, pupil_size, gaze_x, gaze_y):\n",
            "[[ 1.00000000e+00  1.12000000e+03 -2.32096545e+01 -1.30120268e+03]\n",
            " [ 0.00000000e+00  8.60000000e+02 -2.06404744e+01 -1.22909767e+03]\n",
            " [ 1.00000000e+00  1.39300000e+03 -1.32601872e+01 -1.47902297e+03]\n",
            " [ 0.00000000e+00  1.05300000e+03 -1.55110373e+01 -1.30682336e+03]\n",
            " [ 0.00000000e+00  1.20700000e+03 -3.16232230e+00 -1.25300497e+03]]\n"
          ]
        }
      ]
    },
    {
      "cell_type": "markdown",
      "metadata": {
        "id": "b85296a4"
      },
      "source": [
        "### Process New Data - Preprocessing and Feature Extraction Snippet\n",
        "\n",
        "This code snippet demonstrates how to preprocess a single new image and its corresponding mask/label (if available) and extract features using the same methods applied to the OpenEDS dataset."
      ]
    },
    {
      "cell_type": "code",
      "metadata": {
        "id": "0ae595cb"
      },
      "source": [
        "import os\n",
        "import numpy as np\n",
        "import cv2\n",
        "from tqdm import tqdm # Although not needed for a single image, useful if processing batches\n",
        "\n",
        "# --- Define paths for a single new data point ---\n",
        "# Replace with the actual path to your new image, mask, and label files\n",
        "new_image_path = \"/path/to/your/prototype/data/image.jpg\"\n",
        "new_mask_path = \"/path/to/your/prototype/data/mask.png\" # If you have masks\n",
        "new_label_path = \"/path/to/your/prototype/data/label.npy\" # If you have labels (e.g., ground truth)\n",
        "\n",
        "# Define the target size for resizing (must be the same as used for OpenEDS)\n",
        "target_size = (128, 128)\n",
        "\n",
        "# --- Load New Data ---\n",
        "new_img = cv2.imread(new_image_path)\n",
        "# Load mask and label if available and necessary for feature extraction/analysis\n",
        "new_mask = cv2.imread(new_mask_path, cv2.IMREAD_GRAYSCALE) if os.path.exists(new_mask_path) else None\n",
        "new_label_data = np.load(new_label_path) if os.path.exists(new_label_path) else None\n",
        "\n",
        "\n",
        "if new_img is None:\n",
        "    print(f\"Error: Could not read new image from {new_image_path}. Cannot proceed.\")\n",
        "else:\n",
        "    # --- Apply Preprocessing (Same as used for OpenEDS) ---\n",
        "    img_resized = cv2.resize(new_img, target_size)\n",
        "\n",
        "    if new_mask is not None:\n",
        "        mask_resized = cv2.resize(new_mask, target_size)\n",
        "        mask_normalized = mask_resized / 255.0\n",
        "    else:\n",
        "        mask_resized = None\n",
        "        mask_normalized = None\n",
        "        print(\"Warning: Mask not found for new image. Proceeding without mask-based preprocessing.\")\n",
        "\n",
        "    if new_label_data is not None:\n",
        "        # Use nearest neighbor for label masks to preserve distinct region values\n",
        "        label_resized = cv2.resize(new_label_data, target_size, interpolation=cv2.INTER_NEAREST)\n",
        "    else:\n",
        "        label_resized = None\n",
        "        print(\"Warning: Label data not found for new image. Proceeding without label-based processing.\")\n",
        "\n",
        "\n",
        "    # --- Feature Extraction (Same logic as used for OpenEDS) ---\n",
        "    # You need to replicate the feature extraction logic here.\n",
        "    # This will depend on which features you chose to extract from OpenEDS.\n",
        "    # Example (assuming you extract pupil features from the mask):\n",
        "    extracted_features = []\n",
        "\n",
        "    if mask_normalized is not None:\n",
        "        # Features from Pupil (assuming mask > 0 indicates pupil)\n",
        "        pupil_pixels = np.argwhere(mask_normalized > 0)\n",
        "        if pupil_pixels.size == 0:\n",
        "            pupil_features = [0, 0, 0] # x_center, y_center, pupil_area\n",
        "        else:\n",
        "            y_center, x_center = pupil_pixels.mean(axis=0)\n",
        "            pupil_area = len(pupil_pixels)\n",
        "            pupil_features = [x_center, y_center, pupil_area]\n",
        "        extracted_features.extend(pupil_features)\n",
        "\n",
        "    # Add logic here to extract other features (eyelid, iris, etc.)\n",
        "    # based on your implementation for OpenEDS, using label_resized if needed.\n",
        "\n",
        "    print(\"\\n✅ Preprocessing and feature extraction complete for new data.\")\n",
        "    # The 'extracted_features' list now contains the features for this new data point.\n",
        "    print(\"Extracted features:\", extracted_features)\n",
        "\n",
        "    # --- Next Steps: Scaling and Prediction ---\n",
        "    # Convert extracted_features to a numpy array and reshape for scaling\n",
        "    # new_features_array = np.array(extracted_features).reshape(1, -1)\n",
        "\n",
        "    # Scale the new features using the scaler fitted on OpenEDS training data\n",
        "    # Make sure 'scaler_X' is available in your environment (from previous training step)\n",
        "    # if 'scaler_X' in locals():\n",
        "    #     new_features_scaled = scaler_X.transform(new_features_array)\n",
        "    #     print(\"Scaled features:\", new_features_scaled)\n",
        "    #\n",
        "    #     # Make predictions using the trained models (blinking_model, pupil_size_model, gaze_x_model, gaze_y_model)\n",
        "    #     # Make sure your trained models are available in your environment\n",
        "    #     # if 'blinking_model' in locals():\n",
        "    #     #     predicted_blinking = blinking_model.predict(new_features_scaled)\n",
        "    #     #     print(\"Predicted Blinking Status:\", predicted_blinking)\n",
        "    #     # # ... predict for other models ...\n",
        "    #\n",
        "    # else:\n",
        "    #     print(\"❌ scaler_X not found. Cannot scale new features or make predictions.\")"
      ],
      "execution_count": null,
      "outputs": []
    },
    {
      "cell_type": "code",
      "source": [
        "#For prototype time-series data:"
      ],
      "metadata": {
        "id": "lFuHeCu3FFsj"
      },
      "execution_count": 115,
      "outputs": []
    },
    {
      "cell_type": "markdown",
      "metadata": {
        "id": "86ebcc8b"
      },
      "source": [
        "## Processing Prototype Time-Series Data\n",
        "\n",
        "This section provides guidance and conceptual code snippets for working with time-series data from your smart glasses prototype and identifying preictal patterns.\n",
        "\n",
        "### 1. Extract Features from Prototype Time-Series Data\n",
        "\n",
        "To extract features from your prototype's time-series data, you'll need to adapt the feature extraction logic we developed for the OpenEDS dataset (originally in cell `612a6181`) to process frames sequentially as they are captured or loaded from your prototype's recording.\n",
        "\n",
        "The core idea is to loop through your time-series data, and for each frame:\n",
        "- Capture the timestamp.\n",
        "- Load the image frame.\n",
        "- If available and necessary for feature extraction, process any corresponding mask or label data (e.g., if your prototype provides real-time segmentation).\n",
        "- Apply the same preprocessing (resizing to `target_size`) used for OpenEDS.\n",
        "- Apply the feature extraction logic (finding pupil, iris, eyelid regions based on labels/masks, calculating centroids, areas, eyelid closure).\n",
        "- Store the timestamp and extracted features for that frame.\n",
        "\n",
        "Below is a **conceptual code snippet**. You will need to adapt the data loading part (`# Simulate loading a frame and its label data from your prototype`) based on how your prototype provides the data (e.g., reading from files, accessing a buffer, using a streaming API)."
      ]
    },
    {
      "cell_type": "code",
      "metadata": {
        "colab": {
          "base_uri": "https://localhost:8080/"
        },
        "id": "2cbc61aa",
        "outputId": "79ac805f-a8bf-4ade-b2a4-08ef9635b3bd"
      },
      "source": [
        "import numpy as np\n",
        "import cv2\n",
        "import time # Import time for simulating timestamps\n",
        "\n",
        "# Assume the target size is defined\n",
        "target_size = (128, 128)\n",
        "\n",
        "# List to store extracted features and timestamps for the time series\n",
        "time_series_data = []\n",
        "\n",
        "# --- Simulate processing a sequence of frames from your prototype ---\n",
        "# Replace this simulation with your actual prototype data loading logic\n",
        "\n",
        "# Example: Simulate processing 100 frames\n",
        "num_simulated_frames = 100\n",
        "\n",
        "print(f\"✅ Simulating feature extraction for {num_simulated_frames} time-series frames:\")\n",
        "\n",
        "for frame_idx in range(num_simulated_frames):\n",
        "    # Simulate capturing a timestamp\n",
        "    timestamp = time.time() + frame_idx * 0.033 # Simulate ~30 frames per second\n",
        "\n",
        "    # Simulate loading a frame and its label data from your prototype\n",
        "    # In a real scenario, you would load img, and potentially label_data/mask\n",
        "    # from your prototype's data source for the current frame_idx.\n",
        "\n",
        "    # For demonstration, let's load a sample image and label from OpenEDS\n",
        "    # and pretend it's a frame from the prototype time series.\n",
        "    # You would replace this with loading YOUR prototype data.\n",
        "    try:\n",
        "        # Assuming image_files and label_files are loaded from OpenEDS training set\n",
        "        # and min_len is the number of available files (e.g., 27431)\n",
        "        # We use a modulo operator to cycle through the available OpenEDS data\n",
        "        # if num_simulated_frames is larger than min_len\n",
        "        openeds_idx = frame_idx % len(image_files) if 'image_files' in locals() and len(image_files) > 0 else 0\n",
        "        if 'image_files' in locals() and 'label_files' in locals() and len(image_files) > 0 and len(label_files) > 0:\n",
        "             img_path_simulated = os.path.join(images_dir, image_files[openeds_idx])\n",
        "             label_path_simulated = os.path.join(labels_dir, label_files[openeds_idx])\n",
        "\n",
        "             img = cv2.imread(img_path_simulated)\n",
        "             label_data = np.load(label_path_simulated)\n",
        "             mask = cv2.imread(os.path.join(masks_dir, mask_files[openeds_idx]), cv2.IMREAD_GRAYSCALE) # Load corresponding mask\n",
        "\n",
        "\n",
        "        else:\n",
        "            print(\"Warning: OpenEDS data not available for simulation. Skipping frame.\")\n",
        "            continue # Skip this frame if OpenEDS data is not available for simulation\n",
        "\n",
        "\n",
        "    except Exception as e:\n",
        "         print(f\"Warning: Could not simulate loading frame {frame_idx} from OpenEDS: {e}. Skipping.\")\n",
        "         continue\n",
        "\n",
        "\n",
        "    if img is None:\n",
        "        # print(f\"Warning: Could not read simulated image for frame {frame_idx}. Skipping.\")\n",
        "        continue\n",
        "\n",
        "\n",
        "    # --- Apply Preprocessing (Same as used for OpenEDS) ---\n",
        "    img_resized = cv2.resize(img, target_size)\n",
        "\n",
        "    # Apply preprocessing to label_data if available\n",
        "    label_resized = cv2.resize(label_data, target_size, interpolation=cv2.INTER_NEAREST) if label_data is not None else None\n",
        "    mask_resized = cv2.resize(mask, target_size) if mask is not None else None\n",
        "\n",
        "\n",
        "    # --- Feature Extraction based on Label Data (Same logic as used for OpenEDS) ---\n",
        "    # This logic assumes label_resized is available and contains regions 1 (Pupil), 2 (Iris), 3 (Eyelid)\n",
        "\n",
        "    if label_resized is not None:\n",
        "        # Features from Pupil (label value 1)\n",
        "        pupil_pixels = np.argwhere(label_resized == 1)\n",
        "        if pupil_pixels.size == 0:\n",
        "            pupil_features = [0, 0, 0] # x_center, y_center, pupil_area\n",
        "        else:\n",
        "            y_center, x_center = pupil_pixels.mean(axis=0)\n",
        "            pupil_area = len(pupil_pixels)\n",
        "            pupil_features = [x_center, y_center, pupil_area]\n",
        "\n",
        "        # Features from Iris (label value 2)\n",
        "        iris_pixels = np.argwhere(label_resized == 2)\n",
        "        if iris_pixels.size == 0:\n",
        "            iris_features = [0, 0, 0] # iris_x_center, iris_y_center, iris_area\n",
        "        else:\n",
        "            iris_y_center, iris_x_center = iris_pixels.mean(axis=0)\n",
        "            iris_area = len(iris_pixels)\n",
        "            iris_features = [iris_x_center, iris_y_center, iris_area]\n",
        "\n",
        "        # Features from Eyelid (label value 3) - Quantify eyelid closure\n",
        "        eyelid_pixels = np.argwhere(label_resized == 3)\n",
        "        if eyelid_pixels.size == 0 or pupil_pixels.size == 0:\n",
        "            eyelid_closure_feature = 0\n",
        "        else:\n",
        "            eyelid_y_min = eyelid_pixels[:, 0].min()\n",
        "            pupil_y_max = pupil_pixels[:, 0].max()\n",
        "            eyelid_closure_feature = pupil_y_max - eyelid_y_min\n",
        "            if eyelid_closure_feature < 0:\n",
        "                 eyelid_closure_feature = 0\n",
        "\n",
        "        # Combine extracted features (Order: pupil_x, pupil_y, pupil_area, iris_x, iris_y, iris_area, eyelid_closure)\n",
        "        extracted_features = pupil_features + iris_features + [eyelid_closure_feature]\n",
        "\n",
        "    elif mask_resized is not None:\n",
        "         # Alternative: Extract basic pupil features from mask if labels are not available\n",
        "         pupil_pixels_mask = np.argwhere(mask_resized > 0)\n",
        "         if pupil_pixels_mask.size == 0:\n",
        "            extracted_features = [0, 0, 0, 0, 0, 0, 0] # Fill with zeros if no pupil in mask\n",
        "         else:\n",
        "            y_center_mask, x_center_mask = pupil_pixels_mask.mean(axis=0)\n",
        "            pupil_area_mask = len(pupil_pixels_mask)\n",
        "            # You'd need to define how to get other features from mask or skip them\n",
        "            # For simplicity, just pupil features from mask:\n",
        "            extracted_features = [x_center_mask, y_center_mask, pupil_area_mask, 0, 0, 0, 0] # Fill others with zero\n",
        "\n",
        "    else:\n",
        "        # print(f\"Warning: No label or mask data available for frame {frame_idx}. Skipping feature extraction.\")\n",
        "        continue # Skip feature extraction if no label or mask\n",
        "\n",
        "    # --- Store Timestamp and Extracted Features ---\n",
        "    time_series_data.append({'timestamp': timestamp, 'features': extracted_features})\n",
        "\n",
        "\n",
        "print(f\"✅ Finished simulating feature extraction. Extracted data for {len(time_series_data)} frames.\")\n",
        "# time_series_data now contains a list of dictionaries, each with a timestamp and features."
      ],
      "execution_count": 116,
      "outputs": [
        {
          "output_type": "stream",
          "name": "stdout",
          "text": [
            "✅ Simulating feature extraction for 100 time-series frames:\n",
            "✅ Finished simulating feature extraction. Extracted data for 100 frames.\n"
          ]
        }
      ]
    },
    {
      "cell_type": "markdown",
      "metadata": {
        "id": "db67a7b5"
      },
      "source": [
        "### 2. Structuring Prototype Data in a Pandas DataFrame\n",
        "\n",
        "Once you have extracted features for each frame in your time series, a convenient way to structure this data for further analysis is using a pandas DataFrame. This allows for easy handling, manipulation, and visualization of time-series data.\n",
        "\n",
        "Below is a code snippet demonstrating how to convert the list of dictionaries (timestamp and features) collected in the previous step into a pandas DataFrame."
      ]
    },
    {
      "cell_type": "code",
      "metadata": {
        "colab": {
          "base_uri": "https://localhost:8080/",
          "height": 639
        },
        "id": "a72f3741",
        "outputId": "d3555de4-dc5f-487f-9e78-3bf3a28dd374"
      },
      "source": [
        "import pandas as pd\n",
        "\n",
        "# Assuming time_series_data is available from the previous step\n",
        "# Define column names for the DataFrame based on the order of features extracted\n",
        "feature_column_names = ['pupil_x_center', 'pupil_y_center', 'pupil_area',\n",
        "                        'iris_x_center', 'iris_y_center', 'iris_area', 'eyelid_closure'] # Make sure this order matches your extraction\n",
        "\n",
        "# Convert the list of dictionaries to a pandas DataFrame\n",
        "# Each dictionary in time_series_data has 'timestamp' and 'features'\n",
        "# We need to flatten the 'features' list into separate columns\n",
        "if time_series_data:\n",
        "    # Create a list of records, flattening the features list\n",
        "    records = []\n",
        "    for record in time_series_data:\n",
        "        record_dict = {'timestamp': record['timestamp']}\n",
        "        # Ensure the number of features matches the number of column names\n",
        "        if len(record['features']) == len(feature_column_names):\n",
        "            record_dict.update(zip(feature_column_names, record['features']))\n",
        "            records.append(record_dict)\n",
        "        else:\n",
        "            print(f\"Warning: Feature count mismatch for a record. Expected {len(feature_column_names)}, got {len(record['features'])}. Skipping record.\")\n",
        "\n",
        "\n",
        "    # Create the DataFrame\n",
        "    time_series_df = pd.DataFrame(records)\n",
        "\n",
        "    # Set the timestamp as the index (optional, but common for time series)\n",
        "    time_series_df['timestamp'] = pd.to_datetime(time_series_df['timestamp'], unit='s') # Convert unix timestamp to datetime\n",
        "    time_series_df = time_series_df.set_index('timestamp')\n",
        "\n",
        "\n",
        "    print(\"✅ Time-series data structured in a pandas DataFrame:\")\n",
        "    display(time_series_df.head())\n",
        "    print(\"\\nDataFrame Info:\")\n",
        "    time_series_df.info()\n",
        "\n",
        "else:\n",
        "    print(\"❌ No time-series data available to structure in a DataFrame.\")"
      ],
      "execution_count": 117,
      "outputs": [
        {
          "output_type": "stream",
          "name": "stdout",
          "text": [
            "✅ Time-series data structured in a pandas DataFrame:\n"
          ]
        },
        {
          "output_type": "display_data",
          "data": {
            "text/plain": [
              "                               pupil_x_center  pupil_y_center  pupil_area  \\\n",
              "timestamp                                                                   \n",
              "2025-10-31 16:26:57.402303219       58.986607       89.797321        1120   \n",
              "2025-10-31 16:26:57.512525558       72.519767       93.902326         860   \n",
              "2025-10-31 16:26:57.574761391       61.284279       83.977028        1393   \n",
              "2025-10-31 16:26:57.640675306       69.121557       92.176638        1053   \n",
              "2025-10-31 16:26:57.704550743       78.845899       84.995029        1207   \n",
              "\n",
              "                               iris_x_center  iris_y_center  iris_area  \\\n",
              "timestamp                                                                \n",
              "2025-10-31 16:26:57.402303219      82.843997      82.196262       1391   \n",
              "2025-10-31 16:26:57.512525558      68.263794      93.160242       1323   \n",
              "2025-10-31 16:26:57.574761391      80.699936      74.544466       1563   \n",
              "2025-10-31 16:26:57.640675306      72.050036      84.632595       1399   \n",
              "2025-10-31 16:26:57.704550743      62.092676      82.008221       1338   \n",
              "\n",
              "                               eyelid_closure  \n",
              "timestamp                                      \n",
              "2025-10-31 16:26:57.402303219              32  \n",
              "2025-10-31 16:26:57.512525558              31  \n",
              "2025-10-31 16:26:57.574761391              35  \n",
              "2025-10-31 16:26:57.640675306              34  \n",
              "2025-10-31 16:26:57.704550743              34  "
            ],
            "text/html": [
              "\n",
              "  <div id=\"df-3b5a8bfd-d9c1-44c8-8ce0-4be819db5d02\" class=\"colab-df-container\">\n",
              "    <div>\n",
              "<style scoped>\n",
              "    .dataframe tbody tr th:only-of-type {\n",
              "        vertical-align: middle;\n",
              "    }\n",
              "\n",
              "    .dataframe tbody tr th {\n",
              "        vertical-align: top;\n",
              "    }\n",
              "\n",
              "    .dataframe thead th {\n",
              "        text-align: right;\n",
              "    }\n",
              "</style>\n",
              "<table border=\"1\" class=\"dataframe\">\n",
              "  <thead>\n",
              "    <tr style=\"text-align: right;\">\n",
              "      <th></th>\n",
              "      <th>pupil_x_center</th>\n",
              "      <th>pupil_y_center</th>\n",
              "      <th>pupil_area</th>\n",
              "      <th>iris_x_center</th>\n",
              "      <th>iris_y_center</th>\n",
              "      <th>iris_area</th>\n",
              "      <th>eyelid_closure</th>\n",
              "    </tr>\n",
              "    <tr>\n",
              "      <th>timestamp</th>\n",
              "      <th></th>\n",
              "      <th></th>\n",
              "      <th></th>\n",
              "      <th></th>\n",
              "      <th></th>\n",
              "      <th></th>\n",
              "      <th></th>\n",
              "    </tr>\n",
              "  </thead>\n",
              "  <tbody>\n",
              "    <tr>\n",
              "      <th>2025-10-31 16:26:57.402303219</th>\n",
              "      <td>58.986607</td>\n",
              "      <td>89.797321</td>\n",
              "      <td>1120</td>\n",
              "      <td>82.843997</td>\n",
              "      <td>82.196262</td>\n",
              "      <td>1391</td>\n",
              "      <td>32</td>\n",
              "    </tr>\n",
              "    <tr>\n",
              "      <th>2025-10-31 16:26:57.512525558</th>\n",
              "      <td>72.519767</td>\n",
              "      <td>93.902326</td>\n",
              "      <td>860</td>\n",
              "      <td>68.263794</td>\n",
              "      <td>93.160242</td>\n",
              "      <td>1323</td>\n",
              "      <td>31</td>\n",
              "    </tr>\n",
              "    <tr>\n",
              "      <th>2025-10-31 16:26:57.574761391</th>\n",
              "      <td>61.284279</td>\n",
              "      <td>83.977028</td>\n",
              "      <td>1393</td>\n",
              "      <td>80.699936</td>\n",
              "      <td>74.544466</td>\n",
              "      <td>1563</td>\n",
              "      <td>35</td>\n",
              "    </tr>\n",
              "    <tr>\n",
              "      <th>2025-10-31 16:26:57.640675306</th>\n",
              "      <td>69.121557</td>\n",
              "      <td>92.176638</td>\n",
              "      <td>1053</td>\n",
              "      <td>72.050036</td>\n",
              "      <td>84.632595</td>\n",
              "      <td>1399</td>\n",
              "      <td>34</td>\n",
              "    </tr>\n",
              "    <tr>\n",
              "      <th>2025-10-31 16:26:57.704550743</th>\n",
              "      <td>78.845899</td>\n",
              "      <td>84.995029</td>\n",
              "      <td>1207</td>\n",
              "      <td>62.092676</td>\n",
              "      <td>82.008221</td>\n",
              "      <td>1338</td>\n",
              "      <td>34</td>\n",
              "    </tr>\n",
              "  </tbody>\n",
              "</table>\n",
              "</div>\n",
              "    <div class=\"colab-df-buttons\">\n",
              "\n",
              "  <div class=\"colab-df-container\">\n",
              "    <button class=\"colab-df-convert\" onclick=\"convertToInteractive('df-3b5a8bfd-d9c1-44c8-8ce0-4be819db5d02')\"\n",
              "            title=\"Convert this dataframe to an interactive table.\"\n",
              "            style=\"display:none;\">\n",
              "\n",
              "  <svg xmlns=\"http://www.w3.org/2000/svg\" height=\"24px\" viewBox=\"0 -960 960 960\">\n",
              "    <path d=\"M120-120v-720h720v720H120Zm60-500h600v-160H180v160Zm220 220h160v-160H400v160Zm0 220h160v-160H400v160ZM180-400h160v-160H180v160Zm440 0h160v-160H620v160ZM180-180h160v-160H180v160Zm440 0h160v-160H620v160Z\"/>\n",
              "  </svg>\n",
              "    </button>\n",
              "\n",
              "  <style>\n",
              "    .colab-df-container {\n",
              "      display:flex;\n",
              "      gap: 12px;\n",
              "    }\n",
              "\n",
              "    .colab-df-convert {\n",
              "      background-color: #E8F0FE;\n",
              "      border: none;\n",
              "      border-radius: 50%;\n",
              "      cursor: pointer;\n",
              "      display: none;\n",
              "      fill: #1967D2;\n",
              "      height: 32px;\n",
              "      padding: 0 0 0 0;\n",
              "      width: 32px;\n",
              "    }\n",
              "\n",
              "    .colab-df-convert:hover {\n",
              "      background-color: #E2EBFA;\n",
              "      box-shadow: 0px 1px 2px rgba(60, 64, 67, 0.3), 0px 1px 3px 1px rgba(60, 64, 67, 0.15);\n",
              "      fill: #174EA6;\n",
              "    }\n",
              "\n",
              "    .colab-df-buttons div {\n",
              "      margin-bottom: 4px;\n",
              "    }\n",
              "\n",
              "    [theme=dark] .colab-df-convert {\n",
              "      background-color: #3B4455;\n",
              "      fill: #D2E3FC;\n",
              "    }\n",
              "\n",
              "    [theme=dark] .colab-df-convert:hover {\n",
              "      background-color: #434B5C;\n",
              "      box-shadow: 0px 1px 3px 1px rgba(0, 0, 0, 0.15);\n",
              "      filter: drop-shadow(0px 1px 2px rgba(0, 0, 0, 0.3));\n",
              "      fill: #FFFFFF;\n",
              "    }\n",
              "  </style>\n",
              "\n",
              "    <script>\n",
              "      const buttonEl =\n",
              "        document.querySelector('#df-3b5a8bfd-d9c1-44c8-8ce0-4be819db5d02 button.colab-df-convert');\n",
              "      buttonEl.style.display =\n",
              "        google.colab.kernel.accessAllowed ? 'block' : 'none';\n",
              "\n",
              "      async function convertToInteractive(key) {\n",
              "        const element = document.querySelector('#df-3b5a8bfd-d9c1-44c8-8ce0-4be819db5d02');\n",
              "        const dataTable =\n",
              "          await google.colab.kernel.invokeFunction('convertToInteractive',\n",
              "                                                    [key], {});\n",
              "        if (!dataTable) return;\n",
              "\n",
              "        const docLinkHtml = 'Like what you see? Visit the ' +\n",
              "          '<a target=\"_blank\" href=https://colab.research.google.com/notebooks/data_table.ipynb>data table notebook</a>'\n",
              "          + ' to learn more about interactive tables.';\n",
              "        element.innerHTML = '';\n",
              "        dataTable['output_type'] = 'display_data';\n",
              "        await google.colab.output.renderOutput(dataTable, element);\n",
              "        const docLink = document.createElement('div');\n",
              "        docLink.innerHTML = docLinkHtml;\n",
              "        element.appendChild(docLink);\n",
              "      }\n",
              "    </script>\n",
              "  </div>\n",
              "\n",
              "\n",
              "    <div id=\"df-17ab64c0-a215-42fa-afe6-1b73bca72892\">\n",
              "      <button class=\"colab-df-quickchart\" onclick=\"quickchart('df-17ab64c0-a215-42fa-afe6-1b73bca72892')\"\n",
              "                title=\"Suggest charts\"\n",
              "                style=\"display:none;\">\n",
              "\n",
              "<svg xmlns=\"http://www.w3.org/2000/svg\" height=\"24px\"viewBox=\"0 0 24 24\"\n",
              "     width=\"24px\">\n",
              "    <g>\n",
              "        <path d=\"M19 3H5c-1.1 0-2 .9-2 2v14c0 1.1.9 2 2 2h14c1.1 0 2-.9 2-2V5c0-1.1-.9-2-2-2zM9 17H7v-7h2v7zm4 0h-2V7h2v10zm4 0h-2v-4h2v4z\"/>\n",
              "    </g>\n",
              "</svg>\n",
              "      </button>\n",
              "\n",
              "<style>\n",
              "  .colab-df-quickchart {\n",
              "      --bg-color: #E8F0FE;\n",
              "      --fill-color: #1967D2;\n",
              "      --hover-bg-color: #E2EBFA;\n",
              "      --hover-fill-color: #174EA6;\n",
              "      --disabled-fill-color: #AAA;\n",
              "      --disabled-bg-color: #DDD;\n",
              "  }\n",
              "\n",
              "  [theme=dark] .colab-df-quickchart {\n",
              "      --bg-color: #3B4455;\n",
              "      --fill-color: #D2E3FC;\n",
              "      --hover-bg-color: #434B5C;\n",
              "      --hover-fill-color: #FFFFFF;\n",
              "      --disabled-bg-color: #3B4455;\n",
              "      --disabled-fill-color: #666;\n",
              "  }\n",
              "\n",
              "  .colab-df-quickchart {\n",
              "    background-color: var(--bg-color);\n",
              "    border: none;\n",
              "    border-radius: 50%;\n",
              "    cursor: pointer;\n",
              "    display: none;\n",
              "    fill: var(--fill-color);\n",
              "    height: 32px;\n",
              "    padding: 0;\n",
              "    width: 32px;\n",
              "  }\n",
              "\n",
              "  .colab-df-quickchart:hover {\n",
              "    background-color: var(--hover-bg-color);\n",
              "    box-shadow: 0 1px 2px rgba(60, 64, 67, 0.3), 0 1px 3px 1px rgba(60, 64, 67, 0.15);\n",
              "    fill: var(--button-hover-fill-color);\n",
              "  }\n",
              "\n",
              "  .colab-df-quickchart-complete:disabled,\n",
              "  .colab-df-quickchart-complete:disabled:hover {\n",
              "    background-color: var(--disabled-bg-color);\n",
              "    fill: var(--disabled-fill-color);\n",
              "    box-shadow: none;\n",
              "  }\n",
              "\n",
              "  .colab-df-spinner {\n",
              "    border: 2px solid var(--fill-color);\n",
              "    border-color: transparent;\n",
              "    border-bottom-color: var(--fill-color);\n",
              "    animation:\n",
              "      spin 1s steps(1) infinite;\n",
              "  }\n",
              "\n",
              "  @keyframes spin {\n",
              "    0% {\n",
              "      border-color: transparent;\n",
              "      border-bottom-color: var(--fill-color);\n",
              "      border-left-color: var(--fill-color);\n",
              "    }\n",
              "    20% {\n",
              "      border-color: transparent;\n",
              "      border-left-color: var(--fill-color);\n",
              "      border-top-color: var(--fill-color);\n",
              "    }\n",
              "    30% {\n",
              "      border-color: transparent;\n",
              "      border-left-color: var(--fill-color);\n",
              "      border-top-color: var(--fill-color);\n",
              "      border-right-color: var(--fill-color);\n",
              "    }\n",
              "    40% {\n",
              "      border-color: transparent;\n",
              "      border-right-color: var(--fill-color);\n",
              "      border-top-color: var(--fill-color);\n",
              "    }\n",
              "    60% {\n",
              "      border-color: transparent;\n",
              "      border-right-color: var(--fill-color);\n",
              "    }\n",
              "    80% {\n",
              "      border-color: transparent;\n",
              "      border-right-color: var(--fill-color);\n",
              "      border-bottom-color: var(--fill-color);\n",
              "    }\n",
              "    90% {\n",
              "      border-color: transparent;\n",
              "      border-bottom-color: var(--fill-color);\n",
              "    }\n",
              "  }\n",
              "</style>\n",
              "\n",
              "      <script>\n",
              "        async function quickchart(key) {\n",
              "          const quickchartButtonEl =\n",
              "            document.querySelector('#' + key + ' button');\n",
              "          quickchartButtonEl.disabled = true;  // To prevent multiple clicks.\n",
              "          quickchartButtonEl.classList.add('colab-df-spinner');\n",
              "          try {\n",
              "            const charts = await google.colab.kernel.invokeFunction(\n",
              "                'suggestCharts', [key], {});\n",
              "          } catch (error) {\n",
              "            console.error('Error during call to suggestCharts:', error);\n",
              "          }\n",
              "          quickchartButtonEl.classList.remove('colab-df-spinner');\n",
              "          quickchartButtonEl.classList.add('colab-df-quickchart-complete');\n",
              "        }\n",
              "        (() => {\n",
              "          let quickchartButtonEl =\n",
              "            document.querySelector('#df-17ab64c0-a215-42fa-afe6-1b73bca72892 button');\n",
              "          quickchartButtonEl.style.display =\n",
              "            google.colab.kernel.accessAllowed ? 'block' : 'none';\n",
              "        })();\n",
              "      </script>\n",
              "    </div>\n",
              "\n",
              "    </div>\n",
              "  </div>\n"
            ],
            "application/vnd.google.colaboratory.intrinsic+json": {
              "type": "dataframe",
              "summary": "{\n  \"name\": \"    print(\\\"\\u274c No time-series data available to structure in a DataFrame\",\n  \"rows\": 5,\n  \"fields\": [\n    {\n      \"column\": \"timestamp\",\n      \"properties\": {\n        \"dtype\": \"date\",\n        \"min\": \"2025-10-31 16:26:57.402303219\",\n        \"max\": \"2025-10-31 16:26:57.704550743\",\n        \"num_unique_values\": 5,\n        \"samples\": [\n          \"2025-10-31 16:26:57.512525558\",\n          \"2025-10-31 16:26:57.704550743\",\n          \"2025-10-31 16:26:57.574761391\"\n        ],\n        \"semantic_type\": \"\",\n        \"description\": \"\"\n      }\n    },\n    {\n      \"column\": \"pupil_x_center\",\n      \"properties\": {\n        \"dtype\": \"number\",\n        \"std\": 8.14780540825583,\n        \"min\": 58.986607142857146,\n        \"max\": 78.84589892294946,\n        \"num_unique_values\": 5,\n        \"samples\": [\n          72.51976744186047,\n          78.84589892294946,\n          61.28427853553482\n        ],\n        \"semantic_type\": \"\",\n        \"description\": \"\"\n      }\n    },\n    {\n      \"column\": \"pupil_y_center\",\n      \"properties\": {\n        \"dtype\": \"number\",\n        \"std\": 4.359615468287325,\n        \"min\": 83.9770279971285,\n        \"max\": 93.90232558139535,\n        \"num_unique_values\": 5,\n        \"samples\": [\n          93.90232558139535,\n          84.9950289975145,\n          83.9770279971285\n        ],\n        \"semantic_type\": \"\",\n        \"description\": \"\"\n      }\n    },\n    {\n      \"column\": \"pupil_area\",\n      \"properties\": {\n        \"dtype\": \"number\",\n        \"std\": 196,\n        \"min\": 860,\n        \"max\": 1393,\n        \"num_unique_values\": 5,\n        \"samples\": [\n          860,\n          1207,\n          1393\n        ],\n        \"semantic_type\": \"\",\n        \"description\": \"\"\n      }\n    },\n    {\n      \"column\": \"iris_x_center\",\n      \"properties\": {\n        \"dtype\": \"number\",\n        \"std\": 8.635919574497546,\n        \"min\": 62.092675635276535,\n        \"max\": 82.84399712437096,\n        \"num_unique_values\": 5,\n        \"samples\": [\n          68.26379440665156,\n          62.092675635276535,\n          80.69993602047344\n        ],\n        \"semantic_type\": \"\",\n        \"description\": \"\"\n      }\n    },\n    {\n      \"column\": \"iris_y_center\",\n      \"properties\": {\n        \"dtype\": \"number\",\n        \"std\": 6.681057917665491,\n        \"min\": 74.5444657709533,\n        \"max\": 93.16024187452759,\n        \"num_unique_values\": 5,\n        \"samples\": [\n          93.16024187452759,\n          82.00822122571002,\n          74.5444657709533\n        ],\n        \"semantic_type\": \"\",\n        \"description\": \"\"\n      }\n    },\n    {\n      \"column\": \"iris_area\",\n      \"properties\": {\n        \"dtype\": \"number\",\n        \"std\": 95,\n        \"min\": 1323,\n        \"max\": 1563,\n        \"num_unique_values\": 5,\n        \"samples\": [\n          1323,\n          1338,\n          1563\n        ],\n        \"semantic_type\": \"\",\n        \"description\": \"\"\n      }\n    },\n    {\n      \"column\": \"eyelid_closure\",\n      \"properties\": {\n        \"dtype\": \"number\",\n        \"std\": 1,\n        \"min\": 31,\n        \"max\": 35,\n        \"num_unique_values\": 4,\n        \"samples\": [\n          31,\n          34,\n          32\n        ],\n        \"semantic_type\": \"\",\n        \"description\": \"\"\n      }\n    }\n  ]\n}"
            }
          },
          "metadata": {}
        },
        {
          "output_type": "stream",
          "name": "stdout",
          "text": [
            "\n",
            "DataFrame Info:\n",
            "<class 'pandas.core.frame.DataFrame'>\n",
            "DatetimeIndex: 100 entries, 2025-10-31 16:26:57.402303219 to 2025-10-31 16:27:03.775259256\n",
            "Data columns (total 7 columns):\n",
            " #   Column          Non-Null Count  Dtype  \n",
            "---  ------          --------------  -----  \n",
            " 0   pupil_x_center  100 non-null    float64\n",
            " 1   pupil_y_center  100 non-null    float64\n",
            " 2   pupil_area      100 non-null    int64  \n",
            " 3   iris_x_center   100 non-null    float64\n",
            " 4   iris_y_center   100 non-null    float64\n",
            " 5   iris_area       100 non-null    int64  \n",
            " 6   eyelid_closure  100 non-null    int64  \n",
            "dtypes: float64(4), int64(3)\n",
            "memory usage: 6.2 KB\n"
          ]
        }
      ]
    },
    {
      "cell_type": "markdown",
      "metadata": {
        "id": "0ee38220"
      },
      "source": [
        "### 3. Identifying Preictal Patterns using Time-Series Analysis\n",
        "\n",
        "Once your prototype's eye-tracking data is structured as a time series with extracted features, you can apply various time-series analysis techniques to identify patterns that might indicate a preictal stage. This is where you move beyond classifying individual frames to analyzing the temporal dynamics of eye movements.\n",
        "\n",
        "Here are some approaches you can consider:\n",
        "\n",
        "*   **Rule-Based Thresholding on Sequences:** Instead of just checking if a single frame is abnormal, you can define rules based on the *duration* or *frequency* of abnormal events within a time window.\n",
        "    *   *Example Rule:* \"A preictal stage is detected if pupil size is classified as 'Abnormal' for more than 5 consecutive seconds.\"\n",
        "    *   *Example Rule:* \"A preictal stage is detected if the rate of blinks (frames classified as 'Blink') exceeds X blinks per minute for a sustained period.\"\n",
        "    *   *Example Rule:* \"A preictal stage is detected if the gaze position stays outside the 'Normal Gaze' region for a prolonged duration.\"\n",
        "    You can implement these rules by sliding a time window over your DataFrame and checking if the conditions are met within that window.\n",
        "\n",
        "*   **Statistical Analysis of Feature Dynamics:** Analyze how the values of the extracted features (pupil area, gaze deviation from center, eyelid closure) change over time. Look for statistical anomalies, trends, or changes in variance within specific time windows.\n",
        "    *   *Example:* Calculate the rolling mean or standard deviation of pupil area and look for significant deviations from the baseline.\n",
        "    *   *Example:* Analyze the frequency spectrum of gaze movements to detect unusual oscillations or patterns.\n",
        "\n",
        "*   **Sequence Modeling:** Train machine learning models specifically designed for sequence data (like Recurrent Neural Networks (RNNs), Long Short-Term Memory (LSTM) networks, or Transformer models) to classify segments of the time series as \"preictal\" or \"interictal\" (normal). This requires a dataset with labeled time series segments (i.e., knowing when preictal stages occurred in your prototype data). The model would learn to recognize the complex temporal patterns in the features that precede a seizure.\n",
        "\n",
        "*   **Anomaly Detection on Time Series:** Treat the preictal stage as an anomaly in the normal pattern of eye movements. You can use time-series anomaly detection techniques (e.g., Isolation Forests, ARIMA-based anomaly detection, or deep learning anomaly detection methods) to identify periods that deviate significantly from the established \"normal\" eye movement patterns.\n",
        "\n",
        "*   **Feature Engineering on Time Windows:** Create new features by aggregating or analyzing the extracted features within sliding time windows (e.g., calculating the average pupil size, number of blinks, or standard deviation of gaze position within the last 5 seconds). These new features can then be used as input to a standard classification model (like SVM or RandomForest) to classify the *time window* as preictal or not.\n",
        "\n",
        "The choice of technique depends on the complexity of the preictal patterns you expect to see, the amount of labeled time-series data you have, and your computational resources. Starting with rule-based thresholds on sequences based on your single-frame classifications is often a good first step if you have some hypotheses about what abnormal patterns look like over time."
      ]
    },
    {
      "cell_type": "code",
      "source": [],
      "metadata": {
        "id": "vLo4yFrkFLAo"
      },
      "execution_count": 115,
      "outputs": []
    }
  ]
}
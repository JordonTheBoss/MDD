{
  "nbformat": 4,
  "nbformat_minor": 0,
  "metadata": {
    "colab": {
      "provenance": []
    },
    "kernelspec": {
      "name": "python3",
      "display_name": "Python 3"
    },
    "language_info": {
      "name": "python"
    }
  },
  "cells": [
    {
      "cell_type": "code",
      "execution_count": 10,
      "metadata": {
        "colab": {
          "base_uri": "https://localhost:8080/",
          "height": 129
        },
        "id": "NsXRsW-OnSvQ",
        "outputId": "a7fdc8c5-3197-4379-98b1-8414eb363e46"
      },
      "outputs": [
        {
          "output_type": "display_data",
          "data": {
            "text/plain": [
              "<IPython.core.display.HTML object>"
            ],
            "text/html": [
              "\n",
              "     <input type=\"file\" id=\"files-332325d2-5fa6-402f-9191-d712bd3f3fcd\" name=\"files[]\" multiple disabled\n",
              "        style=\"border:none\" />\n",
              "     <output id=\"result-332325d2-5fa6-402f-9191-d712bd3f3fcd\">\n",
              "      Upload widget is only available when the cell has been executed in the\n",
              "      current browser session. Please rerun this cell to enable.\n",
              "      </output>\n",
              "      <script>// Copyright 2017 Google LLC\n",
              "//\n",
              "// Licensed under the Apache License, Version 2.0 (the \"License\");\n",
              "// you may not use this file except in compliance with the License.\n",
              "// You may obtain a copy of the License at\n",
              "//\n",
              "//      http://www.apache.org/licenses/LICENSE-2.0\n",
              "//\n",
              "// Unless required by applicable law or agreed to in writing, software\n",
              "// distributed under the License is distributed on an \"AS IS\" BASIS,\n",
              "// WITHOUT WARRANTIES OR CONDITIONS OF ANY KIND, either express or implied.\n",
              "// See the License for the specific language governing permissions and\n",
              "// limitations under the License.\n",
              "\n",
              "/**\n",
              " * @fileoverview Helpers for google.colab Python module.\n",
              " */\n",
              "(function(scope) {\n",
              "function span(text, styleAttributes = {}) {\n",
              "  const element = document.createElement('span');\n",
              "  element.textContent = text;\n",
              "  for (const key of Object.keys(styleAttributes)) {\n",
              "    element.style[key] = styleAttributes[key];\n",
              "  }\n",
              "  return element;\n",
              "}\n",
              "\n",
              "// Max number of bytes which will be uploaded at a time.\n",
              "const MAX_PAYLOAD_SIZE = 100 * 1024;\n",
              "\n",
              "function _uploadFiles(inputId, outputId) {\n",
              "  const steps = uploadFilesStep(inputId, outputId);\n",
              "  const outputElement = document.getElementById(outputId);\n",
              "  // Cache steps on the outputElement to make it available for the next call\n",
              "  // to uploadFilesContinue from Python.\n",
              "  outputElement.steps = steps;\n",
              "\n",
              "  return _uploadFilesContinue(outputId);\n",
              "}\n",
              "\n",
              "// This is roughly an async generator (not supported in the browser yet),\n",
              "// where there are multiple asynchronous steps and the Python side is going\n",
              "// to poll for completion of each step.\n",
              "// This uses a Promise to block the python side on completion of each step,\n",
              "// then passes the result of the previous step as the input to the next step.\n",
              "function _uploadFilesContinue(outputId) {\n",
              "  const outputElement = document.getElementById(outputId);\n",
              "  const steps = outputElement.steps;\n",
              "\n",
              "  const next = steps.next(outputElement.lastPromiseValue);\n",
              "  return Promise.resolve(next.value.promise).then((value) => {\n",
              "    // Cache the last promise value to make it available to the next\n",
              "    // step of the generator.\n",
              "    outputElement.lastPromiseValue = value;\n",
              "    return next.value.response;\n",
              "  });\n",
              "}\n",
              "\n",
              "/**\n",
              " * Generator function which is called between each async step of the upload\n",
              " * process.\n",
              " * @param {string} inputId Element ID of the input file picker element.\n",
              " * @param {string} outputId Element ID of the output display.\n",
              " * @return {!Iterable<!Object>} Iterable of next steps.\n",
              " */\n",
              "function* uploadFilesStep(inputId, outputId) {\n",
              "  const inputElement = document.getElementById(inputId);\n",
              "  inputElement.disabled = false;\n",
              "\n",
              "  const outputElement = document.getElementById(outputId);\n",
              "  outputElement.innerHTML = '';\n",
              "\n",
              "  const pickedPromise = new Promise((resolve) => {\n",
              "    inputElement.addEventListener('change', (e) => {\n",
              "      resolve(e.target.files);\n",
              "    });\n",
              "  });\n",
              "\n",
              "  const cancel = document.createElement('button');\n",
              "  inputElement.parentElement.appendChild(cancel);\n",
              "  cancel.textContent = 'Cancel upload';\n",
              "  const cancelPromise = new Promise((resolve) => {\n",
              "    cancel.onclick = () => {\n",
              "      resolve(null);\n",
              "    };\n",
              "  });\n",
              "\n",
              "  // Wait for the user to pick the files.\n",
              "  const files = yield {\n",
              "    promise: Promise.race([pickedPromise, cancelPromise]),\n",
              "    response: {\n",
              "      action: 'starting',\n",
              "    }\n",
              "  };\n",
              "\n",
              "  cancel.remove();\n",
              "\n",
              "  // Disable the input element since further picks are not allowed.\n",
              "  inputElement.disabled = true;\n",
              "\n",
              "  if (!files) {\n",
              "    return {\n",
              "      response: {\n",
              "        action: 'complete',\n",
              "      }\n",
              "    };\n",
              "  }\n",
              "\n",
              "  for (const file of files) {\n",
              "    const li = document.createElement('li');\n",
              "    li.append(span(file.name, {fontWeight: 'bold'}));\n",
              "    li.append(span(\n",
              "        `(${file.type || 'n/a'}) - ${file.size} bytes, ` +\n",
              "        `last modified: ${\n",
              "            file.lastModifiedDate ? file.lastModifiedDate.toLocaleDateString() :\n",
              "                                    'n/a'} - `));\n",
              "    const percent = span('0% done');\n",
              "    li.appendChild(percent);\n",
              "\n",
              "    outputElement.appendChild(li);\n",
              "\n",
              "    const fileDataPromise = new Promise((resolve) => {\n",
              "      const reader = new FileReader();\n",
              "      reader.onload = (e) => {\n",
              "        resolve(e.target.result);\n",
              "      };\n",
              "      reader.readAsArrayBuffer(file);\n",
              "    });\n",
              "    // Wait for the data to be ready.\n",
              "    let fileData = yield {\n",
              "      promise: fileDataPromise,\n",
              "      response: {\n",
              "        action: 'continue',\n",
              "      }\n",
              "    };\n",
              "\n",
              "    // Use a chunked sending to avoid message size limits. See b/62115660.\n",
              "    let position = 0;\n",
              "    do {\n",
              "      const length = Math.min(fileData.byteLength - position, MAX_PAYLOAD_SIZE);\n",
              "      const chunk = new Uint8Array(fileData, position, length);\n",
              "      position += length;\n",
              "\n",
              "      const base64 = btoa(String.fromCharCode.apply(null, chunk));\n",
              "      yield {\n",
              "        response: {\n",
              "          action: 'append',\n",
              "          file: file.name,\n",
              "          data: base64,\n",
              "        },\n",
              "      };\n",
              "\n",
              "      let percentDone = fileData.byteLength === 0 ?\n",
              "          100 :\n",
              "          Math.round((position / fileData.byteLength) * 100);\n",
              "      percent.textContent = `${percentDone}% done`;\n",
              "\n",
              "    } while (position < fileData.byteLength);\n",
              "  }\n",
              "\n",
              "  // All done.\n",
              "  yield {\n",
              "    response: {\n",
              "      action: 'complete',\n",
              "    }\n",
              "  };\n",
              "}\n",
              "\n",
              "scope.google = scope.google || {};\n",
              "scope.google.colab = scope.google.colab || {};\n",
              "scope.google.colab._files = {\n",
              "  _uploadFiles,\n",
              "  _uploadFilesContinue,\n",
              "};\n",
              "})(self);\n",
              "</script> "
            ]
          },
          "metadata": {}
        },
        {
          "output_type": "stream",
          "name": "stdout",
          "text": [
            "Saving kaggle.json to kaggle (2).json\n"
          ]
        },
        {
          "output_type": "execute_result",
          "data": {
            "text/plain": [
              "{'kaggle (2).json': b'{\"username\":\"jordoggon\",\"key\":\"ca899e946bb5089dabc1e6e17d45770e\"}'}"
            ]
          },
          "metadata": {},
          "execution_count": 10
        }
      ],
      "source": [
        "!pip install -q kaggle\n",
        "\n",
        "from google.colab import files\n",
        "files.upload()"
      ]
    },
    {
      "cell_type": "code",
      "source": [
        "!mkdir ~/.kaggle\n",
        "!cp kaggle.json ~/.kaggle/\n",
        "!chmod 600 ~/.kaggle/kaggle.json"
      ],
      "metadata": {
        "colab": {
          "base_uri": "https://localhost:8080/"
        },
        "id": "yhhbCIkEnq9r",
        "outputId": "e2cbcc20-2f38-4a67-88e3-c30112071851"
      },
      "execution_count": 11,
      "outputs": [
        {
          "output_type": "stream",
          "name": "stdout",
          "text": [
            "mkdir: cannot create directory ‘/root/.kaggle’: File exists\n"
          ]
        }
      ]
    },
    {
      "cell_type": "code",
      "source": [
        "import kagglehub\n",
        "\n",
        "# Download latest version\n",
        "path = kagglehub.dataset_download(\"soumicksarker/openeds-dataset\")\n",
        "\n",
        "print(\"Path to dataset files:\", path)"
      ],
      "metadata": {
        "colab": {
          "base_uri": "https://localhost:8080/"
        },
        "id": "U_Fu4M1rnt6x",
        "outputId": "f02291e8-61be-4bbc-8fdd-5926dc6f6ede"
      },
      "execution_count": 12,
      "outputs": [
        {
          "output_type": "stream",
          "name": "stdout",
          "text": [
            "Using Colab cache for faster access to the 'openeds-dataset' dataset.\n",
            "Path to dataset files: /kaggle/input/openeds-dataset\n"
          ]
        }
      ]
    },
    {
      "cell_type": "code",
      "source": [
        "import os\n",
        "import numpy as np\n",
        "import cv2\n",
        "from tqdm import tqdm\n",
        "from PIL import Image\n",
        "from sklearn.model_selection import train_test_split\n",
        "from sklearn.preprocessing import StandardScaler\n",
        "from sklearn.svm import SVC\n",
        "from sklearn.metrics import accuracy_score, classification_report\n",
        "\n",
        "# The correct base path is now confirmed to be the path provided by kagglehub\n",
        "# base_path = \"/root/.cache/kagglehub/datasets/soumicksarker/openeds-dataset/versions/2/openEDS/openEDS/train\" # Previous incorrect path\n",
        "base_path = \"/kaggle/input/openeds-dataset\"\n",
        "images_dir = os.path.join(base_path, \"images\")\n",
        "masks_dir = os.path.join(base_path, \"masks\")\n",
        "labels_dir = os.path.join(base_path, \"labels\")\n",
        "\n",
        "# Load all files\n",
        "# Need to adjust paths to match the structure within the kagglehub download\n",
        "# Based on previous successful cells, the structure is likely openeds-dataset/openEDS/openEDS/train\n",
        "images_dir = os.path.join(base_path, \"openEDS\", \"openEDS\", \"train\", \"images\")\n",
        "masks_dir = os.path.join(base_path, \"openEDS\", \"openEDS\", \"train\", \"masks\")\n",
        "labels_dir = os.path.join(base_path, \"openEDS\", \"openEDS\", \"train\", \"labels\")\n",
        "\n",
        "\n",
        "image_files = sorted(os.listdir(images_dir))\n",
        "mask_files = sorted(os.listdir(masks_dir))\n",
        "\n",
        "print(f\"Attempting to process {len(image_files)} images and {len(mask_files)} masks.\")"
      ],
      "metadata": {
        "colab": {
          "base_uri": "https://localhost:8080/"
        },
        "id": "sd5YsJDtnuj4",
        "outputId": "2372422b-eaa7-4071-d281-cc2de9d28ead"
      },
      "execution_count": 13,
      "outputs": [
        {
          "output_type": "stream",
          "name": "stdout",
          "text": [
            "Attempting to process 27431 images and 27431 masks.\n"
          ]
        }
      ]
    },
    {
      "cell_type": "code",
      "source": [
        "import os\n",
        "\n",
        "# The correct base path is the one provided by kagglehub\n",
        "base_path = \"/kaggle/input/openeds-dataset\"\n",
        "for folder in os.listdir(base_path):\n",
        "    print(folder)"
      ],
      "metadata": {
        "colab": {
          "base_uri": "https://localhost:8080/"
        },
        "id": "9NMhqOAtnykX",
        "outputId": "4fd3b26c-886c-46cc-c6ef-672e278c3041"
      },
      "execution_count": 14,
      "outputs": [
        {
          "output_type": "stream",
          "name": "stdout",
          "text": [
            "openEDS_events\n",
            "bbox\n",
            "openEDS\n"
          ]
        }
      ]
    },
    {
      "cell_type": "code",
      "source": [
        "openeds_path = os.path.join(base_path, \"openEDS\")\n",
        "print(os.listdir(openeds_path))"
      ],
      "metadata": {
        "colab": {
          "base_uri": "https://localhost:8080/"
        },
        "id": "zEUSj9WrnzE8",
        "outputId": "bf984762-864b-4066-f4da-e040aebe091b"
      },
      "execution_count": 15,
      "outputs": [
        {
          "output_type": "stream",
          "name": "stdout",
          "text": [
            "['openEDS']\n"
          ]
        }
      ]
    },
    {
      "cell_type": "code",
      "source": [
        "train_path = os.path.join(base_path, \"openEDS\", \"openEDS\", \"train\")\n",
        "print(os.listdir(train_path))"
      ],
      "metadata": {
        "colab": {
          "base_uri": "https://localhost:8080/"
        },
        "id": "1snSlp_on01M",
        "outputId": "21198dbe-af66-47e9-d9cd-3bf9282a8da8"
      },
      "execution_count": 16,
      "outputs": [
        {
          "output_type": "stream",
          "name": "stdout",
          "text": [
            "['labels', 'images', 'masks']\n"
          ]
        }
      ]
    },
    {
      "cell_type": "code",
      "source": [
        "!pip install tqdm opencv-python numpy pillow scikit-learn\n"
      ],
      "metadata": {
        "colab": {
          "base_uri": "https://localhost:8080/"
        },
        "id": "tyS2bo0fn2Q1",
        "outputId": "9814818f-72ba-47c7-dabe-f38c7b70b295"
      },
      "execution_count": 17,
      "outputs": [
        {
          "output_type": "stream",
          "name": "stdout",
          "text": [
            "Requirement already satisfied: tqdm in /usr/local/lib/python3.12/dist-packages (4.67.1)\n",
            "Requirement already satisfied: opencv-python in /usr/local/lib/python3.12/dist-packages (4.12.0.88)\n",
            "Requirement already satisfied: numpy in /usr/local/lib/python3.12/dist-packages (2.0.2)\n",
            "Requirement already satisfied: pillow in /usr/local/lib/python3.12/dist-packages (11.3.0)\n",
            "Requirement already satisfied: scikit-learn in /usr/local/lib/python3.12/dist-packages (1.6.1)\n",
            "Requirement already satisfied: scipy>=1.6.0 in /usr/local/lib/python3.12/dist-packages (from scikit-learn) (1.16.3)\n",
            "Requirement already satisfied: joblib>=1.2.0 in /usr/local/lib/python3.12/dist-packages (from scikit-learn) (1.5.2)\n",
            "Requirement already satisfied: threadpoolctl>=3.1.0 in /usr/local/lib/python3.12/dist-packages (from scikit-learn) (3.6.0)\n"
          ]
        }
      ]
    },
    {
      "cell_type": "code",
      "source": [
        "# The correct base path is the one provided by kagglehub\n",
        "base_path = \"/kaggle/input/openeds-dataset\"\n",
        "images_dir = os.path.join(base_path, \"openEDS\", \"openEDS\", \"train\", \"images\")\n",
        "masks_dir = os.path.join(base_path, \"openEDS\", \"openEDS\", \"train\", \"masks\")\n",
        "labels_dir = os.path.join(base_path, \"openEDS\", \"openEDS\", \"train\", \"labels\")\n",
        "\n",
        "\n",
        "print(\"✅ Found folders:\")\n",
        "print(\"Images:\", len(os.listdir(images_dir)))\n",
        "print(\"Masks:\", len(os.listdir(masks_dir)))\n",
        "print(\"Labels:\", len(os.listdir(labels_dir)))"
      ],
      "metadata": {
        "colab": {
          "base_uri": "https://localhost:8080/"
        },
        "id": "ZSCkfrQ7oDmg",
        "outputId": "4a458b83-14a6-4f54-d8e2-9706b46cf136"
      },
      "execution_count": 18,
      "outputs": [
        {
          "output_type": "stream",
          "name": "stdout",
          "text": [
            "✅ Found folders:\n",
            "Images: 27431\n",
            "Masks: 27431\n",
            "Labels: 27431\n"
          ]
        }
      ]
    },
    {
      "cell_type": "markdown",
      "source": [
        "# Testing sample subset for training"
      ],
      "metadata": {
        "id": "9d9MCOxZsPZf"
      }
    },
    {
      "cell_type": "code",
      "source": [
        "#Subset loading (for training)\n",
        "num_samples = 1000  # adjust if you have more GPU memory\n",
        "image_files = sorted(os.listdir(images_dir))[:num_samples]\n",
        "mask_files = sorted(os.listdir(masks_dir))[:num_samples]\n"
      ],
      "metadata": {
        "id": "nf2kKPhNoG7R"
      },
      "execution_count": 19,
      "outputs": []
    },
    {
      "cell_type": "code",
      "source": [
        "features = []\n",
        "\n",
        "for i, mask_name in enumerate(tqdm(mask_files, desc=\"Extracting features\")):\n",
        "    mask_path = os.path.join(masks_dir, mask_name)\n",
        "    mask = cv2.imread(mask_path, cv2.IMREAD_GRAYSCALE)\n",
        "    if mask is None:\n",
        "        continue\n",
        "\n",
        "    # Resize for consistency\n",
        "    mask = cv2.resize(mask, (128, 128))\n",
        "    mask = mask / 255.0\n",
        "\n",
        "    # Calculate pupil features\n",
        "    pupil_pixels = np.argwhere(mask > 0)\n",
        "    if pupil_pixels.size == 0:\n",
        "        features.append([0, 0, 0])\n",
        "        continue\n",
        "\n",
        "    y_center, x_center = pupil_pixels.mean(axis=0)\n",
        "    pupil_area = len(pupil_pixels)\n",
        "    features.append([x_center, y_center, pupil_area])\n",
        "\n",
        "features = np.array(features)\n",
        "print(\"✅ Features shape:\", features.shape)"
      ],
      "metadata": {
        "colab": {
          "base_uri": "https://localhost:8080/"
        },
        "id": "6_u8aTW0oIqM",
        "outputId": "80283fc0-9f25-4f4d-e599-f6d204ee5403"
      },
      "execution_count": 20,
      "outputs": [
        {
          "output_type": "stream",
          "name": "stderr",
          "text": [
            "Extracting features: 100%|██████████| 1000/1000 [00:10<00:00, 99.60it/s]"
          ]
        },
        {
          "output_type": "stream",
          "name": "stdout",
          "text": [
            "✅ Features shape: (1000, 3)\n"
          ]
        },
        {
          "output_type": "stream",
          "name": "stderr",
          "text": [
            "\n"
          ]
        }
      ]
    },
    {
      "cell_type": "code",
      "source": [
        "# Generate dummy binary labels (you can later replace with true label meanings)\n",
        "threshold = np.median(features[:, 2])\n",
        "labels = (features[:, 2] > threshold).astype(int)\n",
        "\n",
        "# Split into train/test\n",
        "X_train, X_test, y_train, y_test = train_test_split(features, labels, test_size=0.2, random_state=42)\n",
        "\n",
        "# Normalize\n",
        "scaler = StandardScaler()\n",
        "X_train_scaled = scaler.fit_transform(X_train)\n",
        "X_test_scaled = scaler.transform(X_test)\n",
        "\n",
        "# Train lightweight SVM\n",
        "model = SVC(kernel='rbf')\n",
        "model.fit(X_train_scaled, y_train)\n",
        "\n",
        "# Evaluate\n",
        "y_pred = model.predict(X_test_scaled)\n",
        "print(\"✅ Accuracy:\", accuracy_score(y_test, y_pred))\n",
        "print(\"\\nClassification Report:\\n\", classification_report(y_test, y_pred))"
      ],
      "metadata": {
        "colab": {
          "base_uri": "https://localhost:8080/"
        },
        "id": "9ZiPJK4zoKM4",
        "outputId": "ac3c9882-020a-45d3-ab6b-7af3d69d978f"
      },
      "execution_count": 21,
      "outputs": [
        {
          "output_type": "stream",
          "name": "stdout",
          "text": [
            "✅ Accuracy: 0.985\n",
            "\n",
            "Classification Report:\n",
            "               precision    recall  f1-score   support\n",
            "\n",
            "           0       0.99      0.98      0.98        97\n",
            "           1       0.98      0.99      0.99       103\n",
            "\n",
            "    accuracy                           0.98       200\n",
            "   macro avg       0.99      0.98      0.98       200\n",
            "weighted avg       0.99      0.98      0.98       200\n",
            "\n"
          ]
        }
      ]
    },
    {
      "cell_type": "code",
      "source": [
        "import matplotlib.pyplot as plt\n",
        "\n",
        "plt.scatter(features[:, 0], features[:, 1], c=labels, cmap='coolwarm', alpha=0.6)\n",
        "plt.title(\"Pupil Center vs Label (open/closed simulation) - Full Dataset\")\n",
        "plt.xlabel(\"X center\")\n",
        "plt.ylabel(\"Y center\")\n",
        "plt.show()"
      ],
      "metadata": {
        "colab": {
          "base_uri": "https://localhost:8080/",
          "height": 435
        },
        "id": "Zc3yZmt9oMD4",
        "outputId": "f8d1bc69-59b5-4a9b-eb4e-4c8e6463362e"
      },
      "execution_count": 22,
      "outputs": [
        {
          "output_type": "display_data",
          "data": {
            "text/plain": [
              "<Figure size 640x480 with 1 Axes>"
            ],
            "image/png": "[encoded data removed]"
          },
          "metadata": {}
        }
      ]
    },
    {
      "cell_type": "markdown",
      "source": [
        "## Process more data"
      ],
      "metadata": {
        "id": "-MLdxy4rsYks"
      }
    },
    {
      "cell_type": "code",
      "source": [
        "base_path = \"/kaggle/input/openeds-dataset\"\n",
        "labels_dir = os.path.join(base_path, \"openEDS\", \"openEDS\", \"train\", \"labels\")\n",
        "\n",
        "\n",
        "if os.path.exists(labels_dir):\n",
        "    print(f\"✅ Labels directory found at: {labels_dir}\")\n",
        "    # List a few files in the directory to confirm content\n",
        "    try:\n",
        "        label_files_in_dir = sorted(os.listdir(labels_dir))\n",
        "        print(f\"Sample files in labels directory: {label_files_in_dir[:10]}\")\n",
        "        print(f\"Total files in labels directory: {len(label_files_in_dir)}\")\n",
        "    except Exception as e:\n",
        "        print(f\"Error listing files in {labels_dir}: {e}\")\n",
        "else:\n",
        "    print(f\"❌ Labels directory not found at: {labels_dir}\")"
      ],
      "metadata": {
        "colab": {
          "base_uri": "https://localhost:8080/"
        },
        "id": "mu2J-9JEoNvu",
        "outputId": "33427842-9291-4367-9a7d-6fabab48153b"
      },
      "execution_count": 23,
      "outputs": [
        {
          "output_type": "stream",
          "name": "stdout",
          "text": [
            "✅ Labels directory found at: /kaggle/input/openeds-dataset/openEDS/openEDS/train/labels\n",
            "Sample files in labels directory: ['000000.npy', '000001.npy', '000002.npy', '000003.npy', '000004.npy', '000005.npy', '000006.npy', '000007.npy', '000008.npy', '000009.npy']\n",
            "Total files in labels directory: 27431\n"
          ]
        }
      ]
    },
    {
      "cell_type": "markdown",
      "source": [
        "##Explore Label Data"
      ],
      "metadata": {
        "id": "S0ioJE_csgM-"
      }
    },
    {
      "cell_type": "code",
      "source": [
        "# List a few label files\n",
        "# Correct the path to the labels directory\n",
        "base_path = \"/kaggle/input/openeds-dataset\"\n",
        "labels_dir = os.path.join(base_path, \"openEDS\", \"openEDS\", \"train\", \"labels\")\n",
        "\n",
        "label_files = sorted(os.listdir(labels_dir))\n",
        "print(\"Sample label files:\", label_files[:10])\n",
        "\n",
        "# Read a sample label file (assuming they are .npy files based on the listing)\n",
        "if label_files:\n",
        "    sample_label_path = os.path.join(labels_dir, label_files[0])\n",
        "    try:\n",
        "        # Use np.load to read the .npy file\n",
        "        sample_label_content = np.load(sample_label_path)\n",
        "        print(f\"\\nContent of a sample label file ({label_files[0]}):\\n{sample_label_content}\")\n",
        "        print(f\"\\nShape of the sample label data: {sample_label_content.shape}\")\n",
        "        print(f\"\\nData type of the sample label data: {sample_label_content.dtype}\")\n",
        "\n",
        "    except Exception as e:\n",
        "        print(f\"Could not read sample label file {label_files[0]} using np.load: {e}\")"
      ],
      "metadata": {
        "colab": {
          "base_uri": "https://localhost:8080/"
        },
        "id": "vZ8E3USOoSs7",
        "outputId": "b446b517-0e24-4501-f987-47991f203309"
      },
      "execution_count": 24,
      "outputs": [
        {
          "output_type": "stream",
          "name": "stdout",
          "text": [
            "Sample label files: ['000000.npy', '000001.npy', '000002.npy', '000003.npy', '000004.npy', '000005.npy', '000006.npy', '000007.npy', '000008.npy', '000009.npy']\n",
            "\n",
            "Content of a sample label file (000000.npy):\n",
            "[[0 0 0 ... 0 0 0]\n",
            " [0 0 0 ... 0 0 0]\n",
            " [0 0 0 ... 0 0 0]\n",
            " ...\n",
            " [0 0 0 ... 0 0 0]\n",
            " [0 0 0 ... 0 0 0]\n",
            " [0 0 0 ... 0 0 0]]\n",
            "\n",
            "Shape of the sample label data: (400, 640)\n",
            "\n",
            "Data type of the sample label data: uint8\n"
          ]
        }
      ]
    },
    {
      "cell_type": "markdown",
      "source": [
        "### Incorporate Label Data and Extract More Features"
      ],
      "metadata": {
        "id": "cNiNrlhYsnRE"
      }
    },
    {
      "cell_type": "code",
      "source": [
        "import os\n",
        "import numpy as np\n",
        "import cv2\n",
        "from tqdm import tqdm\n",
        "\n",
        "features_and_labels = []\n",
        "\n",
        "# Assuming image_files and mask_files are already loaded with full dataset paths\n",
        "# Correct the base path to the one provided by kagglehub\n",
        "base_path = \"/kaggle/input/openeds-dataset\" # Corrected base path\n",
        "images_dir = os.path.join(base_path, \"openEDS\", \"openEDS\", \"train\", \"images\") # Corrected path\n",
        "masks_dir = os.path.join(base_path, \"openEDS\", \"openEDS\", \"train\", \"masks\")   # Corrected path\n",
        "labels_dir = os.path.join(base_path, \"openEDS\", \"openEDS\", \"train\", \"labels\") # Corrected path\n",
        "\n",
        "# Re-load file lists with corrected paths, assuming they were processed sequentially\n",
        "# In a real scenario, you might want to load these once after correcting paths\n",
        "# image_files = sorted(os.listdir(images_dir)) # Assuming these are loaded elsewhere or can be loaded here\n",
        "# mask_files = sorted(os.listdir(masks_dir))   # Assuming these are loaded elsewhere or can be loaded here\n",
        "# label_files = sorted(os.listdir(labels_dir)) # Assuming these are loaded elsewhere or can be loaded here\n",
        "\n",
        "# For this modification, let's assume image_files, mask_files, and label_files\n",
        "# are already loaded from previous cells with the correct paths or load them here for clarity.\n",
        "# Let's load them here to be sure, using the corrected paths.\n",
        "try:\n",
        "    image_files = sorted(os.listdir(images_dir))\n",
        "    mask_files = sorted(os.listdir(masks_dir))\n",
        "    label_files = sorted(os.listdir(labels_dir))\n",
        "except FileNotFoundError as e:\n",
        "    print(f\"Error loading file lists: {e}. Ensure the paths are correct and directories exist.\")\n",
        "    image_files = [] # Set to empty to prevent errors in the loop\n",
        "    mask_files = []\n",
        "    label_files = []\n",
        "\n",
        "\n",
        "# Define the target size for resizing (must be consistent)\n",
        "target_size = (128, 128)\n",
        "\n",
        "# Ensure all file lists have the same length before processing\n",
        "if not (len(image_files) == len(mask_files) == len(label_files)):\n",
        "    print(f\"Warning: Number of image, mask, and label files do not match. Images: {len(image_files)}, Masks: {len(mask_files)}, Labels: {len(label_files)}. Processing will be limited to the minimum length.\")\n",
        "    min_len = min(len(image_files), len(mask_files), len(label_files))\n",
        "    image_files = image_files[:min_len]\n",
        "    mask_files = mask_files[:min_len]\n",
        "    label_files = label_files[:min_len]\n",
        "\n",
        "\n",
        "for i in tqdm(range(len(image_files)), desc=\"Processing images and extracting features\"):\n",
        "    img_name = image_files[i]\n",
        "    mask_name = mask_files[i]\n",
        "    label_name = label_files[i] # Assuming file names match\n",
        "\n",
        "    img_path = os.path.join(images_dir, img_name)\n",
        "    mask_path = os.path.join(masks_dir, mask_name)\n",
        "    label_path = os.path.join(labels_dir, label_name)\n",
        "\n",
        "    # Load the label data first, as it's key for region identification\n",
        "    try:\n",
        "        label_data = np.load(label_path)\n",
        "    except Exception as e:\n",
        "        # print(f\"Warning: Could not load label file {label_name}: {e}. Skipping.\")\n",
        "        continue # Skip if label data cannot be loaded\n",
        "\n",
        "\n",
        "    # Load image and mask (mask might be useful for other things, but labels are primary for regions)\n",
        "    img = cv2.imread(img_path)\n",
        "    mask = cv2.imread(mask_path, cv2.IMREAD_GRAYSCALE) # Load mask\n",
        "\n",
        "    if img is None or mask is None: # Check if image or mask could not be read\n",
        "        # print(f\"Warning: Could not read image or mask for {img_name}. Skipping.\")\n",
        "        continue\n",
        "\n",
        "\n",
        "    # --- Preprocessing ---\n",
        "    # Resize image, mask, and label data for consistency\n",
        "    img_resized = cv2.resize(img, target_size)\n",
        "    mask_resized = cv2.resize(mask, target_size)\n",
        "    # Use nearest neighbor for label masks to preserve distinct region values\n",
        "    label_resized = cv2.resize(label_data, target_size, interpolation=cv2.INTER_NEAREST)\n",
        "\n",
        "\n",
        "    # --- Feature Extraction based on Label Data ---\n",
        "\n",
        "    # Features from Pupil (label value 1)\n",
        "    pupil_pixels = np.argwhere(label_resized == 1)\n",
        "    if pupil_pixels.size == 0:\n",
        "        pupil_features = [0, 0, 0] # x_center, y_center, pupil_area\n",
        "    else:\n",
        "        # Mean gives the centroid (y, x)\n",
        "        y_center, x_center = pupil_pixels.mean(axis=0)\n",
        "        pupil_area = len(pupil_pixels) # Number of pixels with label 1\n",
        "        pupil_features = [x_center, y_center, pupil_area]\n",
        "\n",
        "    # Features from Iris (label value 2)\n",
        "    iris_pixels = np.argwhere(label_resized == 2)\n",
        "    if iris_pixels.size == 0:\n",
        "        iris_features = [0, 0, 0] # iris_x_center, iris_y_center, iris_area\n",
        "    else:\n",
        "        # Mean gives the centroid (y, x)\n",
        "        iris_y_center, iris_x_center = iris_pixels.mean(axis=0)\n",
        "        iris_area = len(iris_pixels) # Number of pixels with label 2\n",
        "        iris_features = [iris_x_center, iris_y_center, iris_area]\n",
        "\n",
        "    # Features from Eyelid (label value 3) - Quantify eyelid closure\n",
        "    eyelid_pixels = np.argwhere(label_resized == 3)\n",
        "    if eyelid_pixels.size == 0 or pupil_pixels.size == 0:\n",
        "        # If no eyelid or no pupil detected, closure feature is 0\n",
        "        eyelid_closure_feature = 0\n",
        "    else:\n",
        "        # A more robust approach to eyelid closure:\n",
        "        # Find the minimum Y-coordinate of the eyelid above the pupil\n",
        "        # and compare it to the maximum Y-coordinate of the pupil.\n",
        "        # Lower eyelid_min_y indicates more closure.\n",
        "        eyelid_y_min = eyelid_pixels[:, 0].min()\n",
        "        pupil_y_max = pupil_pixels[:, 0].max()\n",
        "\n",
        "        # Calculate a simple closure measure: difference in y-coordinates\n",
        "        # Larger positive values indicate more overlap (closure)\n",
        "        # We can normalize this by the pupil height or image height later if needed\n",
        "        # For now, let's use the difference\n",
        "        eyelid_closure_feature = pupil_y_max - eyelid_y_min\n",
        "\n",
        "        # Ensure the closure feature is not negative (if eyelid is completely above pupil)\n",
        "        if eyelid_closure_feature < 0:\n",
        "             eyelid_closure_feature = 0\n",
        "\n",
        "    # Combine all extracted features\n",
        "    # Order: pupil_x, pupil_y, pupil_area, iris_x, iris_y, iris_area, eyelid_closure\n",
        "    all_features = pupil_features + iris_features + [eyelid_closure_feature]\n",
        "\n",
        "\n",
        "    # --- Store Features ---\n",
        "    features_and_labels.append(all_features) # We are storing features here, labels will be derived later\n",
        "\n",
        "\n",
        "# Convert the list to a numpy array\n",
        "features_array = np.array(features_and_labels)\n",
        "\n",
        "\n",
        "print(\"✅ Finished processing. Shape of extracted features:\", features_array.shape)"
      ],
      "metadata": {
        "colab": {
          "base_uri": "https://localhost:8080/"
        },
        "id": "QJ4jBz6RoXQ0",
        "outputId": "fa7785e2-b519-43e8-832a-8095d0d5bb32"
      },
      "execution_count": 25,
      "outputs": [
        {
          "output_type": "stream",
          "name": "stderr",
          "text": [
            "Processing images and extracting features: 100%|██████████| 27431/27431 [11:43<00:00, 39.01it/s]"
          ]
        },
        {
          "output_type": "stream",
          "name": "stdout",
          "text": [
            "✅ Finished processing. Shape of extracted features: (27431, 7)\n"
          ]
        },
        {
          "output_type": "stream",
          "name": "stderr",
          "text": [
            "\n"
          ]
        }
      ]
    },
    {
      "cell_type": "markdown",
      "source": [
        "##Visualize Sample Label Mask"
      ],
      "metadata": {
        "id": "8sh4MogTsrYl"
      }
    },
    {
      "cell_type": "code",
      "source": [
        "import matplotlib.pyplot as plt\n",
        "import numpy as np\n",
        "import os\n",
        "\n",
        "# Assuming label_files and labels_dir are already defined from previous cells\n",
        "# Correct the path to the labels directory\n",
        "base_path = \"/kaggle/input/openeds-dataset\"\n",
        "labels_dir = os.path.join(base_path, \"openEDS\", \"openEDS\", \"train\", \"labels\")\n",
        "\n",
        "label_files = sorted(os.listdir(labels_dir))\n",
        "\n",
        "if label_files:\n",
        "    sample_label_path = os.path.join(labels_dir, label_files[0])\n",
        "    try:\n",
        "        sample_label_data = np.load(sample_label_path)\n",
        "\n",
        "        plt.figure(figsize=(8, 6))\n",
        "        plt.imshow(sample_label_data, cmap='gray') # Use grayscale colormap for uint8 data\n",
        "        plt.title(f\"Sample Label Mask: {label_files[0]}\")\n",
        "        plt.colorbar(label=\"Pixel Value\")\n",
        "        plt.show()\n",
        "\n",
        "        print(f\"Unique values in sample label mask: {np.unique(sample_label_data)}\")\n",
        "\n",
        "    except Exception as e:\n",
        "        print(f\"Could not load or visualize sample label file {label_files[0]}: {e}\")\n",
        "else:\n",
        "    print(\"No label files found to visualize.\")"
      ],
      "metadata": {
        "colab": {
          "base_uri": "https://localhost:8080/",
          "height": 432
        },
        "id": "hV34QDMToe3C",
        "outputId": "5e51edf4-2b35-4ef6-d896-fe28526513f4"
      },
      "execution_count": 26,
      "outputs": [
        {
          "output_type": "display_data",
          "data": {
            "text/plain": [
              "<Figure size 800x600 with 2 Axes>"
            ],
            "image/png": "[encoded data removed]"
          },
          "metadata": {}
        },
        {
          "output_type": "stream",
          "name": "stdout",
          "text": [
            "Unique values in sample label mask: [0 1 2 3]\n"
          ]
        }
      ]
    },
    {
      "cell_type": "markdown",
      "source": [
        "##Define target variables"
      ],
      "metadata": {
        "id": "mB41c5M9s0bx"
      }
    },
    {
      "cell_type": "code",
      "source": [
        "import numpy as np\n",
        "\n",
        "# Define how to derive target variables\n",
        "\n",
        "# 1. Blinking:\n",
        "# A simple approach for blinking (binary: 0 for open, 1 for closed)\n",
        "# can be based on the eyelid closure feature. A high eyelid closure value\n",
        "# indicates the eyelid is significantly covering the pupil/iris, suggesting a blink.\n",
        "# We can set a threshold on the eyelid_closure_feature.\n",
        "# Let's assume the eyelid closure feature is the 4th column (index 3) in our features_array.\n",
        "# We need to determine an appropriate threshold based on the distribution of this feature.\n",
        "# For now, let's use a placeholder for the threshold.\n",
        "\n",
        "# 2. Pupil Size:\n",
        "# The pupil size can be directly derived from the pupil_area feature (number of pixels\n",
        "# with label 1). This is already calculated and is the 3rd column (index 2)\n",
        "# in our features_array. We will use this directly as the target variable for pupil size.\n",
        "\n",
        "# 3. Gaze Direction:\n",
        "# Gaze direction can be estimated from the relative position of the pupil centroid\n",
        "# (label 1) within the iris region (label 2).\n",
        "# The pupil centroid features are at indices 0 and 1 of features_array.\n",
        "# The iris centroid features are at indices 4 and 5 of features_array.\n",
        "# We can calculate the difference between the pupil centroid and the iris centroid\n",
        "# to get a relative position.\n",
        "# Relative X position = Pupil X center - Iris X center\n",
        "# Relative Y position = Pupil Y center - Iris Y center\n",
        "# These two values can serve as numerical target variables for gaze direction.\n",
        "\n",
        "# We will create a new array to hold these target variables.\n",
        "# This array will have columns for blinking (binary), pupil size (numerical),\n",
        "# and gaze direction (numerical X, numerical Y).\n",
        "\n",
        "# Placeholder for target variables\n",
        "target_variables = []\n",
        "\n",
        "# Assuming the order of features in features_array is:\n",
        "# [pupil_x_center, pupil_y_center, pupil_area, eyelid_closure, iris_x_center, iris_y_center, iris_area]\n",
        "# Indices:              0                 1           2               3               4               5           6\n",
        "\n",
        "# Determine a threshold for blinking (this will need to be refined based on data distribution)\n",
        "# Ensure features_array is defined and accessible from the previous step where features were extracted.\n",
        "# If features_array is not defined, this code block needs to be merged with the feature extraction step.\n",
        "# Assuming features_array is a numpy array from the previous successful execution.\n",
        "\n",
        "# Check if features_array is defined and not empty\n",
        "if 'features_array' in locals() and features_array.shape[0] > 0:\n",
        "    blinking_threshold = np.percentile(features_array[:, 3], 90) # Example: top 10% of closure values are considered blinks\n",
        "\n",
        "    for features in features_array:\n",
        "        # Blinking target (binary)\n",
        "        blinking_status = 1 if features[3] > blinking_threshold else 0 # 1 for closed (blink), 0 for open\n",
        "\n",
        "        # Pupil Size target (numerical)\n",
        "        pupil_size = features[2] # Directly use pupil area\n",
        "\n",
        "        # Gaze Direction targets (numerical X, numerical Y)\n",
        "        pupil_x, pupil_y = features[0], features[1]\n",
        "        iris_x, iris_y = features[4], features[5]\n",
        "\n",
        "        # Calculate relative position of pupil centroid within iris\n",
        "        # Handle cases where iris or pupil might not be detected (centroid is 0,0)\n",
        "        # If iris area is 0, relative position is not meaningful, set to 0,0 or a special value\n",
        "        if features[6] > 0 and features[2] > 0: # Check if both iris and pupil areas are positive\n",
        "            relative_gaze_x = pupil_x - iris_x\n",
        "            relative_gaze_y = pupil_y - iris_y\n",
        "        else:\n",
        "            relative_gaze_x = 0\n",
        "            relative_gaze_y = 0 # Or np.nan if you prefer to handle missing values later\n",
        "\n",
        "\n",
        "        target_variables.append([blinking_status, pupil_size, relative_gaze_x, relative_gaze_y])\n",
        "\n",
        "    target_variables_array = np.array(target_variables)\n",
        "\n",
        "    print(\"✅ Finished defining target variables. Shape:\", target_variables_array.shape)\n",
        "    print(\"Sample target variables (blinking, pupil_size, gaze_x, gaze_y):\")\n",
        "    print(target_variables_array[:5])\n",
        "else:\n",
        "    print(\"❌ features_array is not defined or is empty. Cannot define target variables.\")"
      ],
      "metadata": {
        "colab": {
          "base_uri": "https://localhost:8080/"
        },
        "id": "BaLmHdrVog6z",
        "outputId": "4bed2ec7-60c0-45a4-80b7-7bd990365f37"
      },
      "execution_count": 27,
      "outputs": [
        {
          "output_type": "stream",
          "name": "stdout",
          "text": [
            "✅ Finished defining target variables. Shape: (27431, 4)\n",
            "Sample target variables (blinking, pupil_size, gaze_x, gaze_y):\n",
            "[[ 1.00000000e+00  1.12000000e+03 -2.32096545e+01 -1.30120268e+03]\n",
            " [ 0.00000000e+00  8.60000000e+02 -2.06404744e+01 -1.22909767e+03]\n",
            " [ 1.00000000e+00  1.39300000e+03 -1.32601872e+01 -1.47902297e+03]\n",
            " [ 0.00000000e+00  1.05300000e+03 -1.55110373e+01 -1.30682336e+03]\n",
            " [ 0.00000000e+00  1.20700000e+03 -3.16232230e+00 -1.25300497e+03]]\n"
          ]
        }
      ]
    },
    {
      "cell_type": "code",
      "source": [
        "import os\n",
        "import numpy as np\n",
        "import cv2\n",
        "from tqdm import tqdm\n",
        "\n",
        "features_and_labels = []\n",
        "\n",
        "# Assuming image_files and mask_files are already loaded with full dataset paths\n",
        "base_path = \"/kaggle/input/openeds-dataset\" # Corrected base path\n",
        "images_dir = os.path.join(base_path, \"openEDS\", \"openEDS\", \"train\", \"images\") # Corrected path\n",
        "masks_dir = os.path.join(base_path, \"openEDS\", \"openEDS\", \"train\", \"masks\")   # Corrected path\n",
        "labels_dir = os.path.join(base_path, \"openEDS\", \"openEDS\", \"train\", \"labels\") # Corrected path\n",
        "\n",
        "# Re-load file lists with corrected paths, assuming they were processed sequentially\n",
        "# In a real scenario, you might want to load these once after correcting paths\n",
        "try:\n",
        "    image_files = sorted(os.listdir(images_dir))\n",
        "    mask_files = sorted(os.listdir(masks_dir))\n",
        "    label_files = sorted(os.listdir(labels_dir))\n",
        "except FileNotFoundError as e:\n",
        "    print(f\"Error loading file lists: {e}. Ensure the paths are correct and directories exist.\")\n",
        "    image_files = [] # Set to empty to prevent errors in the loop\n",
        "    mask_files = []\n",
        "    label_files = []\n",
        "\n",
        "\n",
        "# Define the target size for resizing (must be consistent)\n",
        "target_size = (128, 128)\n",
        "\n",
        "# Ensure all file lists have the same length before processing\n",
        "if not (len(image_files) == len(mask_files) == len(label_files)):\n",
        "    print(f\"Warning: Number of image, mask, and label files do not match. Images: {len(image_files)}, Masks: {len(mask_files)}, Labels: {len(label_files)}. Processing will be limited to the minimum length.\")\n",
        "    min_len = min(len(image_files), len(mask_files), len(label_files))\n",
        "    image_files = image_files[:min_len]\n",
        "    mask_files = mask_files[:min_len]\n",
        "    label_files = label_files[:min_len]\n",
        "\n",
        "min_len = min(len(image_files), len(mask_files), len(label_files))\n",
        "\n",
        "# Add print statement to check lengths before loop\n",
        "# print(f\"Min length for loop: {min_len}\")\n",
        "print(f\"Length of image_files after truncation: {len(image_files)}\")\n",
        "print(f\"Length of mask_files after truncation: {len(mask_files)}\")\n",
        "print(f\"Length of label_files after truncation: {len(label_files)}\")\n",
        "\n",
        "\n",
        "# Iterate up to the minimum length of the file lists\n",
        "for i in tqdm(range(min_len), desc=\"Processing images and extracting features\"):\n",
        "    img_name = image_files[i]\n",
        "    mask_name = mask_files[i]\n",
        "    label_name = label_files[i] # Assuming file names match\n",
        "\n",
        "    img_path = os.path.join(images_dir, img_name)\n",
        "    mask_path = os.path.join(masks_dir, mask_name)\n",
        "    label_path = os.path.join(labels_dir, label_name)\n",
        "\n",
        "    # Load the label data first, as it's key for region identification\n",
        "    try:\n",
        "        label_data = np.load(label_path)\n",
        "    except Exception as e:\n",
        "        # print(f\"Warning: Could not load label file {label_name}: {e}. Skipping.\")\n",
        "        continue # Skip if label data cannot be loaded\n",
        "\n",
        "\n",
        "    # Load image and mask (mask might be useful for other things, but labels are primary for regions)\n",
        "    img = cv2.imread(img_path)\n",
        "    mask = cv2.imread(mask_path, cv2.IMREAD_GRAYSCALE) # Load mask\n",
        "\n",
        "    if img is None or mask is None: # Check if image or mask could not be read\n",
        "        # print(f\"Warning: Could not read image or mask for {img_name}. Skipping.\")\n",
        "        continue\n",
        "\n",
        "\n",
        "    # --- Preprocessing ---\n",
        "    # Resize image, mask, and label data for consistency\n",
        "    img_resized = cv2.resize(img, target_size)\n",
        "    mask_resized = cv2.resize(mask, target_size)\n",
        "    # Use nearest neighbor for label masks to preserve distinct region values\n",
        "    label_resized = cv2.resize(label_data, target_size, interpolation=cv2.INTER_NEAREST)\n",
        "\n",
        "\n",
        "    # --- Feature Extraction based on Label Data ---\n",
        "\n",
        "    # Features from Pupil (label value 1)\n",
        "    pupil_pixels = np.argwhere(label_resized == 1)\n",
        "    if pupil_pixels.size == 0:\n",
        "        pupil_features = [0, 0, 0] # x_center, y_center, pupil_area\n",
        "    else:\n",
        "        # Mean gives the centroid (y, x)\n",
        "        y_center, x_center = pupil_pixels.mean(axis=0)\n",
        "        pupil_area = len(pupil_pixels) # Number of pixels with label 1\n",
        "        pupil_features = [x_center, y_center, pupil_area]\n",
        "\n",
        "    # Features from Iris (label value 2)\n",
        "    iris_pixels = np.argwhere(label_resized == 2)\n",
        "    if iris_pixels.size == 0:\n",
        "        iris_features = [0, 0, 0] # iris_x_center, iris_y_center, iris_area\n",
        "    else:\n",
        "        # Mean gives the centroid (y, x)\n",
        "        iris_y_center, iris_x_center = iris_pixels.mean(axis=0)\n",
        "        iris_area = len(iris_pixels) # Number of pixels with label 2\n",
        "        iris_features = [iris_x_center, iris_y_center, iris_area]\n",
        "\n",
        "    # Features from Eyelid (label value 3) - Quantify eyelid closure\n",
        "    eyelid_pixels = np.argwhere(label_resized == 3)\n",
        "    if eyelid_pixels.size == 0 or pupil_pixels.size == 0:\n",
        "        # If no eyelid or no pupil detected, closure feature is 0\n",
        "        eyelid_closure_feature = 0\n",
        "    else:\n",
        "        # A more robust approach to eyelid closure:\n",
        "        # Find the minimum Y-coordinate of the eyelid above the pupil\n",
        "        # and compare it to the maximum Y-coordinate of the pupil.\n",
        "        # Lower eyelid_min_y indicates more closure.\n",
        "        eyelid_y_min = eyelid_pixels[:, 0].min()\n",
        "        pupil_y_max = pupil_pixels[:, 0].max()\n",
        "\n",
        "        # Calculate a simple closure measure: difference in y-coordinates\n",
        "        # Larger positive values indicate more overlap (closure)\n",
        "        # We can normalize this by the pupil height or image height later if needed\n",
        "        # For now, let's use the difference\n",
        "        eyelid_closure_feature = pupil_y_max - eyelid_y_min\n",
        "\n",
        "        # Ensure the closure feature is not negative (if eyelid is completely above pupil)\n",
        "        if eyelid_closure_feature < 0:\n",
        "             eyelid_closure_feature = 0\n",
        "\n",
        "    # Combine all extracted features\n",
        "    # Order: pupil_x, pupil_y, pupil_area, iris_x, iris_y, iris_area, eyelid_closure\n",
        "    all_features = pupil_features + iris_features + [eyelid_closure_feature]\n",
        "\n",
        "\n",
        "    # --- Store Features ---\n",
        "    features_and_labels.append(all_features) # We are storing features here, labels will be derived later\n",
        "\n",
        "\n",
        "# Convert the list to a numpy array\n",
        "features_array = np.array(features_and_labels)\n",
        "\n",
        "\n",
        "print(\"✅ Finished processing. Shape of extracted features:\", features_array.shape)"
      ],
      "metadata": {
        "colab": {
          "base_uri": "https://localhost:8080/"
        },
        "id": "N2EhBYrnopKs",
        "outputId": "02ecdaa6-aa35-4513-a3f1-898688ee2b1d"
      },
      "execution_count": null,
      "outputs": [
        {
          "output_type": "stream",
          "name": "stdout",
          "text": [
            "Length of image_files after truncation: 27431\n",
            "Length of mask_files after truncation: 27431\n",
            "Length of label_files after truncation: 27431\n"
          ]
        },
        {
          "output_type": "stream",
          "name": "stderr",
          "text": [
            "Processing images and extracting features:   5%|▍         | 1301/27431 [00:24<08:06, 53.66it/s]"
          ]
        }
      ]
    },
    {
      "cell_type": "markdown",
      "source": [
        "##Verify Extracted Features and Target Variables"
      ],
      "metadata": {
        "id": "Usc1p_BotBNt"
      }
    },
    {
      "cell_type": "code",
      "source": [
        "import pandas as pd\n",
        "import matplotlib.pyplot as plt\n",
        "import seaborn as sns\n",
        "\n",
        "# Assuming features_array and target_variables_array are available from previous steps\n",
        "\n",
        "# Convert to pandas DataFrames for easier handling and visualization\n",
        "# Define column names based on the order of features and target variables\n",
        "feature_column_names = ['pupil_x_center', 'pupil_y_center', 'pupil_area',\n",
        "                        'eyelid_closure', 'iris_x_center', 'iris_y_center', 'iris_area']\n",
        "target_column_names = ['blinking_status', 'pupil_size', 'gaze_x', 'gaze_y']\n",
        "\n",
        "features_df = pd.DataFrame(features_array, columns=feature_column_names)\n",
        "targets_df = pd.DataFrame(target_variables_array, columns=target_column_names)\n",
        "\n",
        "print(\"✅ Summary statistics for extracted features:\")\n",
        "display(features_df.describe())\n",
        "\n",
        "print(\"\\n✅ Summary statistics for target variables:\")\n",
        "display(targets_df.describe())\n",
        "\n",
        "# Visualize distributions of key features and target variables\n",
        "plt.figure(figsize=(15, 10))\n",
        "\n",
        "plt.subplot(2, 3, 1)\n",
        "sns.histplot(features_df['pupil_area'], kde=True)\n",
        "plt.title('Distribution of Pupil Area')\n",
        "\n",
        "plt.subplot(2, 3, 2)\n",
        "sns.histplot(features_df['eyelid_closure'], kde=True)\n",
        "plt.title('Distribution of Eyelid Closure Feature')\n",
        "\n",
        "plt.subplot(2, 3, 3)\n",
        "sns.histplot(targets_df['blinking_status'])\n",
        "plt.title('Distribution of Blinking Status')\n",
        "\n",
        "plt.subplot(2, 3, 4)\n",
        "sns.histplot(targets_df['pupil_size'], kde=True)\n",
        "plt.title('Distribution of Pupil Size Target')\n",
        "\n",
        "plt.subplot(2, 3, 5)\n",
        "sns.histplot(targets_df['gaze_x'], kde=True)\n",
        "plt.title('Distribution of Gaze X Target')\n",
        "\n",
        "plt.subplot(2, 3, 6)\n",
        "sns.histplot(targets_df['gaze_y'], kde=True)\n",
        "plt.title('Distribution of Gaze Y Target')\n",
        "\n",
        "plt.tight_layout()\n",
        "plt.show()"
      ],
      "metadata": {
        "id": "5U-5j2Upoxvp"
      },
      "execution_count": null,
      "outputs": []
    },
    {
      "cell_type": "markdown",
      "source": [
        "##"
      ],
      "metadata": {
        "id": "-vYVVQjgtLDI"
      }
    },
    {
      "cell_type": "markdown",
      "metadata": {
        "id": "e7747042"
      },
      "source": [
        "## Prepare Data for Modeling\n",
        "\n",
        "### Subtask:\n",
        "Split the data into training and testing sets and scale the features and target variables."
      ]
    },
    {
      "cell_type": "code",
      "source": [
        "from sklearn.model_selection import train_test_split\n",
        "from sklearn.preprocessing import StandardScaler\n",
        "\n",
        "# Assuming features_array and target_variables_array are available\n",
        "\n",
        "# Split data into training and testing sets\n",
        "# We need to split features and targets together to maintain correspondence\n",
        "X = features_array\n",
        "y = target_variables_array\n",
        "\n",
        "# For simplicity, let's split the data once and use it for all three tasks (blinking, size, gaze)\n",
        "X_train, X_test, y_train, y_test = train_test_split(X, y, test_size=0.2, random_state=42)\n",
        "\n",
        "# Scale features\n",
        "scaler_X = StandardScaler()\n",
        "X_train_scaled = scaler_X.fit_transform(X_train)\n",
        "X_test_scaled = scaler_X.transform(X_test)\n",
        "\n",
        "# Scale numerical target variables (Pupil Size, Gaze X, Gaze Y)\n",
        "# Blinking status is binary, so it doesn't need scaling\n",
        "scaler_y_size = StandardScaler()\n",
        "y_train_size_scaled = scaler_y_size.fit_transform(y_train[:, 1].reshape(-1, 1))\n",
        "y_test_size_scaled = scaler_y_size.transform(y_test[:, 1].reshape(-1, 1))\n",
        "\n",
        "scaler_y_gaze_x = StandardScaler()\n",
        "y_train_gaze_x_scaled = scaler_y_gaze_x.fit_transform(y_train[:, 2].reshape(-1, 1))\n",
        "y_test_gaze_x_scaled = scaler_y_gaze_x.transform(y_test[:, 2].reshape(-1, 1))\n",
        "\n",
        "scaler_y_gaze_y = StandardScaler()\n",
        "y_train_gaze_y_scaled = scaler_y_gaze_y.fit_transform(y_train[:, 3].reshape(-1, 1))\n",
        "y_test_gaze_y_scaled = scaler_y_gaze_y.transform(y_test[:, 3].reshape(-1, 1))\n",
        "\n",
        "\n",
        "# Blinking target (already binary)\n",
        "y_train_blinking = y_train[:, 0]\n",
        "y_test_blinking = y_test[:, 0]\n",
        "\n",
        "# Reshape scaled numerical targets back to 1D arrays if needed for some models\n",
        "y_train_size_scaled = y_train_size_scaled.ravel()\n",
        "y_test_size_scaled = y_test_size_scaled.ravel()\n",
        "y_train_gaze_x_scaled = y_train_gaze_x_scaled.ravel()\n",
        "y_test_gaze_x_scaled = y_test_gaze_x_scaled.ravel()\n",
        "y_train_gaze_y_scaled = y_train_gaze_y_scaled.ravel()\n",
        "y_test_gaze_y_scaled = y_test_gaze_y_scaled.ravel()\n",
        "\n",
        "\n",
        "print(\"✅ Data splitting and scaling complete.\")\n",
        "print(\"Shape of X_train_scaled:\", X_train_scaled.shape)\n",
        "print(\"Shape of X_test_scaled:\", X_test_scaled.shape)\n",
        "print(\"Shape of y_train_blinking:\", y_train_blinking.shape)\n",
        "print(\"Shape of y_test_blinking:\", y_test_blinking.shape)\n",
        "print(\"Shape of y_train_size_scaled:\", y_train_size_scaled.shape)\n",
        "print(\"Shape of y_test_size_scaled:\", y_test_size_scaled.shape)\n",
        "print(\"Shape of y_train_gaze_x_scaled:\", y_train_gaze_x_scaled.shape)\n",
        "print(\"Shape of y_test_gaze_x_scaled:\", y_test_gaze_x_scaled.shape)\n",
        "print(\"Shape of y_train_gaze_y_scaled:\", y_train_gaze_y_scaled.shape)\n",
        "print(\"Shape of y_test_gaze_y_scaled:\", y_test_gaze_y_scaled.shape)"
      ],
      "metadata": {
        "id": "No8pa5XwpfBz"
      },
      "execution_count": null,
      "outputs": []
    },
    {
      "cell_type": "markdown",
      "source": [
        "##Training Models"
      ],
      "metadata": {
        "id": "RuNo8OMztQaV"
      }
    },
    {
      "cell_type": "code",
      "source": [
        "from sklearn.linear_model import LogisticRegression # For blinking classification\n",
        "from sklearn.ensemble import RandomForestRegressor # For pupil size and gaze direction regression\n",
        "from sklearn.metrics import accuracy_score, classification_report, mean_squared_error, r2_score\n",
        "\n",
        "# --- Train Blinking Classification Model ---\n",
        "print(\"Training Blinking Classification Model...\")\n",
        "blinking_model = LogisticRegression(max_iter=1000) # Increased max_iter for convergence\n",
        "blinking_model.fit(X_train_scaled, y_train_blinking)\n",
        "print(\"✅ Blinking Model Training Complete.\")\n",
        "\n",
        "# --- Train Pupil Size Regression Model ---\n",
        "print(\"\\nTraining Pupil Size Regression Model...\")\n",
        "pupil_size_model = RandomForestRegressor(n_estimators=100, random_state=42, n_jobs=-1)\n",
        "pupil_size_model.fit(X_train_scaled, y_train_size_scaled)\n",
        "print(\"✅ Pupil Size Model Training Complete.\")\n",
        "\n",
        "# --- Train Gaze Direction Regression Models ---\n",
        "print(\"\\nTraining Gaze Direction (X) Regression Model...\")\n",
        "gaze_x_model = RandomForestRegressor(n_estimators=100, random_state=42, n_jobs=-1)\n",
        "gaze_x_model.fit(X_train_scaled, y_train_gaze_x_scaled)\n",
        "print(\"✅ Gaze Direction (X) Model Training Complete.\")\n",
        "\n",
        "print(\"\\nTraining Gaze Direction (Y) Regression Model...\")\n",
        "gaze_y_model = RandomForestRegressor(n_estimators=100, random_state=42, n_jobs=-1)\n",
        "gaze_y_model.fit(X_train_scaled, y_train_gaze_y_scaled)\n",
        "print(\"✅ Gaze Direction (Y) Model Training Complete.\")"
      ],
      "metadata": {
        "id": "zh0hw0Y9ozw0"
      },
      "execution_count": null,
      "outputs": []
    },
    {
      "cell_type": "code",
      "source": [
        "import numpy as np\n",
        "\n",
        "# Assuming features_df and targets_df are available\n",
        "\n",
        "# Define thresholds based on feature distributions and summary statistics\n",
        "\n",
        "# 1. Pupil Area Thresholds:\n",
        "# Let's use the mean and standard deviation as a starting point to define a normal range.\n",
        "# You might consider values outside of mean +/- 2*std_dev as potentially abnormal.\n",
        "# Alternatively, based on visualizations, you might define fixed lower and upper bounds\n",
        "# that visually encompass the majority of typical pupil sizes.\n",
        "pupil_area_mean = features_df['pupil_area'].mean()\n",
        "pupil_area_std = features_df['pupil_area'].std()\n",
        "pupil_area_normal_lower_bound = pupil_area_mean - 2 * pupil_area_std\n",
        "pupil_area_normal_upper_bound = pupil_area_mean + 2 * pupil_area_std\n",
        "\n",
        "# Ensure lower bound is not negative\n",
        "if pupil_area_normal_lower_bound < 0:\n",
        "    pupil_area_normal_lower_bound = 0\n",
        "\n",
        "print(f\"Pupil Area Normal Range (Mean +/- 2*StdDev): {pupil_area_normal_lower_bound:.2f} to {pupil_area_normal_upper_bound:.2f}\")\n",
        "# Example of alternative fixed thresholds (commented out):\n",
        "# pupil_area_normal_lower_bound = 300 # Example value - adjust based on data\n",
        "# pupil_area_normal_upper_bound = 1800 # Example value - adjust based on data\n",
        "# print(f\"Pupil Area Normal Range (Fixed): {pupil_area_normal_lower_bound:.2f} to {pupil_area_normal_upper_bound:.2f}\")\n",
        "\n",
        "\n",
        "# 2. Eyelid Closure Threshold (for Blinking):\n",
        "# Based on the distribution, a higher value indicates more closure.\n",
        "# We used a percentile (e.g., 95th percentile) as a threshold for blinking.\n",
        "# This means the top 5% of closure values are considered blinks.\n",
        "# You might adjust the percentile (e.g., 90th, 98th) depending on how sensitive\n",
        "# you want the blinking detection to be.\n",
        "eyelid_closure_threshold_blink = np.percentile(features_df['eyelid_closure'], 95) # Example: top 5% considered blinks\n",
        "\n",
        "print(f\"Eyelid Closure Threshold for Blinking (95th percentile): {eyelid_closure_threshold_blink:.4f}\")\n",
        "# Example of alternative fixed threshold (commented out):\n",
        "# eyelid_closure_threshold_blink = 70 # Example value - adjust based on data\n",
        "# print(f\"Eyelid Closure Threshold for Blinking (Fixed): {eyelid_closure_threshold_blink:.4f}\")\n",
        "\n",
        "\n",
        "# 3. Gaze Direction Thresholds (Relative X and Y):\n",
        "# Assume gaze is normal when the pupil centroid is close to the iris centroid.\n",
        "# We defined a normal range as mean +/- 2*std_dev for both X and Y.\n",
        "# Alternatively, you could define a fixed rectangular or circular region\n",
        "# around the mean relative gaze position that represents normal gaze.\n",
        "gaze_x_mean = targets_df['gaze_x'].mean()\n",
        "gaze_y_mean = targets_df['gaze_y'].mean()\n",
        "gaze_x_std = targets_df['gaze_x'].std()\n",
        "gaze_y_std = targets_df['gaze_y'].std()\n",
        "\n",
        "# Let's define a normal range as mean +/- 2*std_dev for both X and Y\n",
        "gaze_x_normal_lower_bound = gaze_x_mean - 2 * gaze_x_std\n",
        "gaze_x_normal_upper_bound = gaze_x_mean + 2 * gaze_x_std\n",
        "gaze_y_normal_lower_bound = gaze_y_mean - 2 * gaze_y_std\n",
        "gaze_y_normal_upper_bound = gaze_y_mean + 2 * gaze_y_std\n",
        "\n",
        "\n",
        "print(f\"Gaze X Normal Range (Mean +/- 2*StdDev): {gaze_x_normal_lower_bound:.2f} to {gaze_x_normal_upper_bound:.2f}\")\n",
        "print(f\"Gaze Y Normal Range (Mean +/- 2*StdDev): {gaze_y_normal_lower_bound:.2f} to {gaze_y_normal_upper_bound:.2f}\")\n",
        "\n",
        "# Example of alternative fixed rectangular thresholds (commented out):\n",
        "# gaze_x_normal_lower_bound = -30 # Example value - adjust based on data\n",
        "# gaze_x_normal_upper_bound = 20 # Example value - adjust based on data\n",
        "# gaze_y_normal_lower_bound = -1400 # Example value - adjust based on data\n",
        "# gaze_y_normal_upper_bound = -700 # Example value - adjust based on data\n",
        "# print(f\"Gaze X Normal Range (Fixed): {gaze_x_normal_lower_bound:.2f} to {gaze_x_normal_upper_bound:.2f}\")\n",
        "# print(f\"Gaze Y Normal Range (Fixed): {gaze_y_normal_lower_bound:.2f} to {gaze_y_normal_upper_bound:.2f}\")\n",
        "\n",
        "\n",
        "print(\"\\n✅ Preliminary thresholds defined. Review and adjust these based on your specific criteria for 'normal' eye movements.\")\n",
        "\n",
        "# You can now use these defined thresholds to classify new data points as 'normal' or 'abnormal'\n",
        "# For example, to check if a new data point 'new_features' is within the normal pupil area range:\n",
        "# is_pupil_area_normal = (new_features[2] >= pupil_area_normal_lower_bound) and (new_features[2] <= pupil_area_normal_upper_bound)\n",
        "\n",
        "# To check for blinking:\n",
        "# is_blinking = new_features[3] > eyelid_closure_threshold_blink\n",
        "\n",
        "# To check if gaze is normal:\n",
        "# is_gaze_x_normal = (new_features[6] >= gaze_x_normal_lower_bound) and (new_features[6] <= gaze_x_normal_upper_bound)\n",
        "# is_gaze_y_normal = (new_features[7] >= gaze_y_normal_lower_bound) and (new_features[7] <= gaze_y_normal_upper_bound)\n",
        "\n",
        "# Note: The indices for new_features would depend on the order of features when you process new data."
      ],
      "metadata": {
        "id": "ldIix8Wfo6FO"
      },
      "execution_count": null,
      "outputs": []
    },
    {
      "cell_type": "markdown",
      "source": [
        "## Define \"Normal\" Thresholds\n",
        "\n",
        "### Subtask:\n",
        "Define numerical thresholds for key features to identify potentially \"normal\" vs. \"abnormal\" eye movements."
      ],
      "metadata": {
        "id": "17qIAHMZtetr"
      }
    },
    {
      "cell_type": "code",
      "source": [
        "import numpy as np\n",
        "\n",
        "# Assuming X_test_scaled, blinking_model, pupil_size_model, gaze_x_model, gaze_y_model,\n",
        "# scaler_y_size, scaler_y_gaze_x, scaler_y_gaze_y,\n",
        "# pupil_area_normal_lower_bound, pupil_area_normal_upper_bound,\n",
        "# eyelid_closure_threshold_blink,\n",
        "# gaze_x_normal_lower_bound, gaze_x_normal_upper_bound,\n",
        "# gaze_y_normal_lower_bound, gaze_y_normal_upper_bound\n",
        "# are available from preceding cells.\n",
        "\n",
        "print(\"✅ Demonstrating pipeline application on test data samples:\")\n",
        "\n",
        "# Select a few samples from the test set to demonstrate\n",
        "num_demo_samples = 10 # You can adjust this number\n",
        "if X_test_scaled.shape[0] < num_demo_samples:\n",
        "    num_demo_samples = X_test_scaled.shape[0]\n",
        "\n",
        "# Get the features for the demo samples\n",
        "demo_features_scaled = X_test_scaled[:num_demo_samples]\n",
        "# Also get the original features for comparison if needed (optional)\n",
        "# demo_features_original = X_test[:num_demo_samples] # Need X_test if not available\n",
        "\n",
        "# Make predictions using the trained models\n",
        "predicted_blinking_status = blinking_model.predict(demo_features_scaled)\n",
        "predicted_pupil_size_scaled = pupil_size_model.predict(demo_features_scaled)\n",
        "predicted_gaze_x_scaled = gaze_x_model.predict(demo_features_scaled)\n",
        "predicted_gaze_y_scaled = gaze_y_model.predict(demo_features_scaled)\n",
        "\n",
        "# Inverse transform scaled regression predictions to original scale\n",
        "predicted_pupil_size = scaler_y_size.inverse_transform(predicted_pupil_size_scaled.reshape(-1, 1)).ravel()\n",
        "predicted_gaze_x = scaler_y_gaze_x.inverse_transform(predicted_gaze_x_scaled.reshape(-1, 1)).ravel()\n",
        "predicted_gaze_y = scaler_y_gaze_y.inverse_transform(predicted_gaze_y_scaled.reshape(-1, 1)).ravel()\n",
        "\n",
        "\n",
        "# Apply defined \"normal\" thresholds to classify predictions\n",
        "print(\"\\n--- Classification Results for Demo Samples ---\")\n",
        "for i in range(num_demo_samples):\n",
        "    sample_blinking = predicted_blinking_status[i]\n",
        "    sample_pupil_size = predicted_pupil_size[i]\n",
        "    sample_gaze_x = predicted_gaze_x[i]\n",
        "    sample_gaze_y = predicted_gaze_y[i]\n",
        "\n",
        "    # Classify Blinking\n",
        "    blinking_classification = \"Blink (Abnormal based on threshold)\" if sample_blinking == 1 else \"No Blink (Normal based on threshold)\"\n",
        "\n",
        "    # Classify Pupil Size\n",
        "    if sample_pupil_size >= pupil_area_normal_lower_bound and sample_pupil_size <= pupil_area_normal_upper_bound:\n",
        "        pupil_size_classification = \"Normal Pupil Size\"\n",
        "    else:\n",
        "        pupil_size_classification = \"Abnormal Pupil Size (outside normal range)\"\n",
        "\n",
        "    # Classify Gaze Direction\n",
        "    if sample_gaze_x >= gaze_x_normal_lower_bound and sample_gaze_x <= gaze_x_normal_upper_bound and \\\n",
        "       sample_gaze_y >= gaze_y_normal_lower_bound and sample_gaze_y <= gaze_y_normal_upper_bound:\n",
        "        gaze_classification = \"Normal Gaze Direction\"\n",
        "    else:\n",
        "        gaze_classification = \"Abnormal Gaze Direction (outside normal range)\"\n",
        "\n",
        "    print(f\"\\nSample {i+1}:\")\n",
        "    print(f\"  Predicted Blinking: {sample_blinking} ({blinking_classification})\")\n",
        "    print(f\"  Predicted Pupil Size: {sample_pupil_size:.2f} ({pupil_size_classification})\")\n",
        "    print(f\"  Predicted Gaze (X, Y): ({sample_gaze_x:.2f}, {sample_gaze_y:.2f}) ({gaze_classification})\")\n",
        "\n",
        "    # Overall assessment for the sample (example logic - refine as needed)\n",
        "    if \"Abnormal\" in blinking_classification or \"Abnormal\" in pupil_size_classification or \"Abnormal\" in gaze_classification:\n",
        "        overall_assessment = \"POTENTIALLY ABNORMAL EYE MOVEMENT\"\n",
        "    else:\n",
        "        overall_assessment = \"Normal Eye Movement\"\n",
        "\n",
        "    print(f\"  Overall Assessment: {overall_assessment}\")"
      ],
      "metadata": {
        "id": "66ZMKHinpwH1"
      },
      "execution_count": null,
      "outputs": []
    },
    {
      "cell_type": "code",
      "source": [
        "import numpy as np\n",
        "\n",
        "# Assuming X_test_scaled, blinking_model, pupil_size_model, gaze_x_model, gaze_y_model,\n",
        "# scaler_y_size, scaler_y_gaze_x, scaler_y_gaze_y,\n",
        "# pupil_area_normal_lower_bound, pupil_area_normal_upper_bound,\n",
        "# eyelid_closure_threshold_blink,\n",
        "# gaze_x_normal_lower_bound, gaze_x_normal_upper_bound,\n",
        "# gaze_y_normal_lower_bound, gaze_y_normal_upper_bound\n",
        "# are available from preceding cells.\n",
        "\n",
        "print(\"✅ Analyzing the overall rate of abnormal detections in the test set:\")\n",
        "\n",
        "# Make predictions for the entire test set\n",
        "predicted_blinking_status_test = blinking_model.predict(X_test_scaled)\n",
        "predicted_pupil_size_scaled_test = pupil_size_model.predict(X_test_scaled)\n",
        "predicted_gaze_x_scaled_test = gaze_x_model.predict(X_test_scaled)\n",
        "predicted_gaze_y_scaled_test = gaze_y_model.predict(X_test_scaled)\n",
        "\n",
        "# Inverse transform scaled regression predictions to original scale\n",
        "predicted_pupil_size_test = scaler_y_size.inverse_transform(predicted_pupil_size_scaled_test.reshape(-1, 1)).ravel()\n",
        "predicted_gaze_x_test = scaler_y_gaze_x.inverse_transform(predicted_gaze_x_scaled_test.reshape(-1, 1)).ravel()\n",
        "predicted_gaze_y_test = scaler_y_gaze_y.inverse_transform(predicted_gaze_y_scaled_test.reshape(-1, 1)).ravel()\n",
        "\n",
        "# Initialize counter for abnormal detections\n",
        "abnormal_count = 0\n",
        "total_samples = X_test_scaled.shape[0]\n",
        "\n",
        "# Apply defined \"normal\" thresholds to classify each sample in the test set\n",
        "for i in range(total_samples):\n",
        "    sample_blinking = predicted_blinking_status_test[i]\n",
        "    sample_pupil_size = predicted_pupil_size_test[i]\n",
        "    sample_gaze_x = predicted_gaze_x_test[i]\n",
        "    sample_gaze_y = predicted_gaze_y_test[i]\n",
        "\n",
        "    # Check for abnormality in each feature based on thresholds\n",
        "    is_blinking_abnormal = sample_blinking == 1 # Blinking predicted as 1 is considered abnormal based on the threshold approach\n",
        "    is_pupil_size_abnormal = not (sample_pupil_size >= pupil_area_normal_lower_bound and sample_pupil_size <= pupil_area_normal_upper_bound)\n",
        "    is_gaze_x_abnormal = not (sample_gaze_x >= gaze_x_normal_lower_bound and sample_gaze_x <= gaze_x_normal_upper_bound)\n",
        "    is_gaze_y_abnormal = not (sample_gaze_y >= gaze_y_normal_lower_bound and sample_gaze_y <= gaze_y_normal_upper_bound)\n",
        "\n",
        "    # Determine overall abnormal status (if any feature is abnormal)\n",
        "    if is_blinking_abnormal or is_pupil_size_abnormal or is_gaze_x_abnormal or is_gaze_y_abnormal:\n",
        "        abnormal_count += 1\n",
        "\n",
        "# Calculate the rate of abnormal detections\n",
        "abnormal_rate = (abnormal_count / total_samples) * 100 if total_samples > 0 else 0\n",
        "\n",
        "print(f\"\\n--- Overall Abnormal Detection Rate in Test Set ---\")\n",
        "print(f\"Total samples in test set: {total_samples}\")\n",
        "print(f\"Number of samples classified as potentially abnormal: {abnormal_count}\")\n",
        "print(f\"Overall rate of potentially abnormal detections: {abnormal_rate:.2f}%\")\n",
        "\n",
        "print(\"\\nNote: This rate is based on the defined 'normal' thresholds and the models' predictions.\")"
      ],
      "metadata": {
        "id": "PrmroRThpzYK"
      },
      "execution_count": null,
      "outputs": []
    },
    {
      "cell_type": "markdown",
      "source": [
        "## Model Evaluation"
      ],
      "metadata": {
        "id": "sxtPWXrotlaE"
      }
    },
    {
      "cell_type": "code",
      "source": [
        "from sklearn.metrics import accuracy_score, classification_report, mean_squared_error, r2_score\n",
        "from sklearn.linear_model import LogisticRegression # For blinking classification\n",
        "from sklearn.ensemble import RandomForestRegressor # For pupil size and gaze direction regression\n",
        "from sklearn.preprocessing import StandardScaler # Import StandardScaler\n",
        "from sklearn.model_selection import train_test_split # Import train_test_split\n",
        "import numpy as np # Import numpy\n",
        "from sklearn.utils.validation import check_is_fitted # Import check_is_fitted\n",
        "from sklearn.exceptions import NotFittedError # Import NotFittedError\n",
        "\n",
        "\n",
        "# Check if data is prepared and models/scalers are trained\n",
        "# Using check_is_fitted for models for more specific checks\n",
        "try:\n",
        "    X_test_scaled # Check if scaled test features are available\n",
        "    y_test_blinking # Check if blinking test labels are available\n",
        "    y_test # Check if original test targets are available\n",
        "\n",
        "    # Check if each model is fitted\n",
        "    check_is_fitted(blinking_model)\n",
        "    check_is_fitted(pupil_size_model)\n",
        "    check_is_fitted(gaze_x_model)\n",
        "    check_is_fitted(gaze_y_model)\n",
        "\n",
        "    # Check if scalers are fitted (for inverse transform)\n",
        "    check_is_fitted(scaler_y_size)\n",
        "    check_is_fitted(scaler_y_gaze_x)\n",
        "    check_is_fitted(scaler_y_gaze_y)\n",
        "\n",
        "except NotFittedError as e:\n",
        "     print(f\"❌ Error: A model or scaler is not fitted. Please ensure the model training cells (like fe3e06db) have been run successfully. Details: {e}\")\n",
        "except NameError as e:\n",
        "     print(f\"❌ Error: Required variables (data or models/scalers) are not found. Please ensure the preceding data preparation and model training cells have been run successfully. Details: {e}\")\n",
        "except Exception as e:\n",
        "     print(f\"❌ An unexpected error occurred during the initial check: {e}\")\n",
        "\n",
        "\n",
        "# If checks pass, proceed with evaluation\n",
        "if 'X_test_scaled' in locals() and 'y_test_blinking' in locals() and 'y_test' in locals():\n",
        "    try:\n",
        "        # --- Evaluate Blinking Classification Model ---\n",
        "        print(\"\\nEvaluating Blinking Classification Model...\")\n",
        "        y_pred_blinking = blinking_model.predict(X_test_scaled)\n",
        "        print(\"✅ Blinking Model Evaluation:\")\n",
        "        print(\"Accuracy:\", accuracy_score(y_test_blinking, y_pred_blinking))\n",
        "        print(\"Classification Report:\\n\", classification_report(y_test_blinking, y_pred_blinking))\n",
        "\n",
        "        # --- Evaluate Pupil Size Regression Model ---\n",
        "        print(\"\\nEvaluating Pupil Size Regression Model...\")\n",
        "        y_pred_size_scaled = pupil_size_model.predict(X_test_scaled)\n",
        "\n",
        "        # Inverse transform the scaled predictions to get predictions in original scale\n",
        "        # Ensure y_test is available and has the correct structure\n",
        "        y_pred_size = scaler_y_size.inverse_transform(y_pred_size_scaled.reshape(-1, 1)).ravel()\n",
        "        # y_test_size = y_test[:, 1] # y_test is already available from the split\n",
        "\n",
        "        print(\"✅ Pupil Size Model Evaluation:\")\n",
        "        print(\"Mean Squared Error:\", mean_squared_error(y_test[:, 1], y_pred_size))\n",
        "        print(\"R2 Score:\", r2_score(y_test[:, 1], y_pred_size))\n",
        "\n",
        "        # --- Evaluate Gaze Direction Regression Models ---\n",
        "        print(\"\\nEvaluating Gaze Direction (X) Regression Model...\")\n",
        "        y_pred_gaze_x_scaled = gaze_x_model.predict(X_test_scaled)\n",
        "        y_pred_gaze_x = scaler_y_gaze_x.inverse_transform(y_pred_gaze_x_scaled.reshape(-1, 1)).ravel()\n",
        "        # y_test_gaze_x = y_test[:, 2] # y_test is already available from the split\n",
        "\n",
        "        print(\"✅ Gaze Direction (X) Model Evaluation:\")\n",
        "        print(\"Mean Squared Error:\", mean_squared_error(y_test[:, 2], y_pred_gaze_x))\n",
        "        print(\"R2 Score:\", r2_score(y_test[:, 2], y_pred_gaze_x))\n",
        "\n",
        "        print(\"\\nEvaluating Gaze Direction (Y) Regression Model...\")\n",
        "        y_pred_gaze_y_scaled = gaze_y_model.predict(X_test_scaled)\n",
        "        y_pred_gaze_y = scaler_y_gaze_y.inverse_transform(y_pred_gaze_y_scaled.reshape(-1, 1)).ravel()\n",
        "        # y_test_gaze_y = y_test[:, 3] # y_test is already available from the split\n",
        "\n",
        "        print(\"✅ Gaze Direction (Y) Model Evaluation:\")\n",
        "        print(\"Mean Squared Error:\", mean_squared_error(y_test[:, 3], y_pred_gaze_y))\n",
        "        print(\"R2 Score:\", r2_score(y_test[:, 3], y_pred_gaze_y)) # Corrected typo here\n",
        "\n",
        "    except NotFittedError as e:\n",
        "         print(f\"❌ Error during evaluation: A model or scaler was not fitted correctly before attempting prediction/transform. Details: {e}\")\n",
        "    except NameError as e:\n",
        "         print(f\"❌ Error during evaluation: Required variables (models or scalers) were not found. Details: {e}\")\n",
        "    except Exception as e:\n",
        "         print(f\"❌ An unexpected error occurred during evaluation: {e}\")\n",
        "else:\n",
        "    print(\"\\nEvaluation skipped due to missing data or models/scalers.\")"
      ],
      "metadata": {
        "id": "8rd_3A3Np19Z"
      },
      "execution_count": null,
      "outputs": []
    }
  ]
}
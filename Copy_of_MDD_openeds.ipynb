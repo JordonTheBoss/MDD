{
  "nbformat": 4,
  "nbformat_minor": 0,
  "metadata": {
    "colab": {
      "provenance": [],
      "include_colab_link": true
    },
    "kernelspec": {
      "name": "python3",
      "display_name": "Python 3"
    },
    "language_info": {
      "name": "python"
    }
  },
  "cells": [
    {
      "cell_type": "markdown",
      "metadata": {
        "id": "view-in-github",
        "colab_type": "text"
      },
      "source": [
        "<a href=\"https://colab.research.google.com/github/JordonTheBoss/MDD/blob/main/Copy_of_MDD_openeds.ipynb\" target=\"_parent\"><img src=\"https://colab.research.google.com/assets/colab-badge.svg\" alt=\"Open In Colab\"/></a>"
      ]
    },
    {
      "cell_type": "markdown",
      "source": [
        "OpenEDS - Feature Extraction:  gaze direction, blinking, and size for preictal stage"
      ],
      "metadata": {
        "id": "zn4Qw_zkDR7x"
      }
    },
    {
      "cell_type": "code",
      "source": [
        "!pip install -q kaggle\n",
        "\n",
        "from google.colab import files\n",
        "files.upload()"
      ],
      "metadata": {
        "colab": {
          "base_uri": "https://localhost:8080/",
          "height": 129
        },
        "id": "dD2drteSWiH8",
        "outputId": "f93e6b9c-aef2-46e1-a9cc-829e17f50371"
      },
      "execution_count": null,
      "outputs": [
        {
          "output_type": "display_data",
          "data": {
            "text/plain": [
              "<IPython.core.display.HTML object>"
            ],
            "text/html": [
              "\n",
              "     <input type=\"file\" id=\"files-a1396c0d-909d-4e4b-9ca4-a6bf206fd4ca\" name=\"files[]\" multiple disabled\n",
              "        style=\"border:none\" />\n",
              "     <output id=\"result-a1396c0d-909d-4e4b-9ca4-a6bf206fd4ca\">\n",
              "      Upload widget is only available when the cell has been executed in the\n",
              "      current browser session. Please rerun this cell to enable.\n",
              "      </output>\n",
              "      <script>// Copyright 2017 Google LLC\n",
              "//\n",
              "// Licensed under the Apache License, Version 2.0 (the \"License\");\n",
              "// you may not use this file except in compliance with the License.\n",
              "// You may obtain a copy of the License at\n",
              "//\n",
              "//      http://www.apache.org/licenses/LICENSE-2.0\n",
              "//\n",
              "// Unless required by applicable law or agreed to in writing, software\n",
              "// distributed under the License is distributed on an \"AS IS\" BASIS,\n",
              "// WITHOUT WARRANTIES OR CONDITIONS OF ANY KIND, either express or implied.\n",
              "// See the License for the specific language governing permissions and\n",
              "// limitations under the License.\n",
              "\n",
              "/**\n",
              " * @fileoverview Helpers for google.colab Python module.\n",
              " */\n",
              "(function(scope) {\n",
              "function span(text, styleAttributes = {}) {\n",
              "  const element = document.createElement('span');\n",
              "  element.textContent = text;\n",
              "  for (const key of Object.keys(styleAttributes)) {\n",
              "    element.style[key] = styleAttributes[key];\n",
              "  }\n",
              "  return element;\n",
              "}\n",
              "\n",
              "// Max number of bytes which will be uploaded at a time.\n",
              "const MAX_PAYLOAD_SIZE = 100 * 1024;\n",
              "\n",
              "function _uploadFiles(inputId, outputId) {\n",
              "  const steps = uploadFilesStep(inputId, outputId);\n",
              "  const outputElement = document.getElementById(outputId);\n",
              "  // Cache steps on the outputElement to make it available for the next call\n",
              "  // to uploadFilesContinue from Python.\n",
              "  outputElement.steps = steps;\n",
              "\n",
              "  return _uploadFilesContinue(outputId);\n",
              "}\n",
              "\n",
              "// This is roughly an async generator (not supported in the browser yet),\n",
              "// where there are multiple asynchronous steps and the Python side is going\n",
              "// to poll for completion of each step.\n",
              "// This uses a Promise to block the python side on completion of each step,\n",
              "// then passes the result of the previous step as the input to the next step.\n",
              "function _uploadFilesContinue(outputId) {\n",
              "  const outputElement = document.getElementById(outputId);\n",
              "  const steps = outputElement.steps;\n",
              "\n",
              "  const next = steps.next(outputElement.lastPromiseValue);\n",
              "  return Promise.resolve(next.value.promise).then((value) => {\n",
              "    // Cache the last promise value to make it available to the next\n",
              "    // step of the generator.\n",
              "    outputElement.lastPromiseValue = value;\n",
              "    return next.value.response;\n",
              "  });\n",
              "}\n",
              "\n",
              "/**\n",
              " * Generator function which is called between each async step of the upload\n",
              " * process.\n",
              " * @param {string} inputId Element ID of the input file picker element.\n",
              " * @param {string} outputId Element ID of the output display.\n",
              " * @return {!Iterable<!Object>} Iterable of next steps.\n",
              " */\n",
              "function* uploadFilesStep(inputId, outputId) {\n",
              "  const inputElement = document.getElementById(inputId);\n",
              "  inputElement.disabled = false;\n",
              "\n",
              "  const outputElement = document.getElementById(outputId);\n",
              "  outputElement.innerHTML = '';\n",
              "\n",
              "  const pickedPromise = new Promise((resolve) => {\n",
              "    inputElement.addEventListener('change', (e) => {\n",
              "      resolve(e.target.files);\n",
              "    });\n",
              "  });\n",
              "\n",
              "  const cancel = document.createElement('button');\n",
              "  inputElement.parentElement.appendChild(cancel);\n",
              "  cancel.textContent = 'Cancel upload';\n",
              "  const cancelPromise = new Promise((resolve) => {\n",
              "    cancel.onclick = () => {\n",
              "      resolve(null);\n",
              "    };\n",
              "  });\n",
              "\n",
              "  // Wait for the user to pick the files.\n",
              "  const files = yield {\n",
              "    promise: Promise.race([pickedPromise, cancelPromise]),\n",
              "    response: {\n",
              "      action: 'starting',\n",
              "    }\n",
              "  };\n",
              "\n",
              "  cancel.remove();\n",
              "\n",
              "  // Disable the input element since further picks are not allowed.\n",
              "  inputElement.disabled = true;\n",
              "\n",
              "  if (!files) {\n",
              "    return {\n",
              "      response: {\n",
              "        action: 'complete',\n",
              "      }\n",
              "    };\n",
              "  }\n",
              "\n",
              "  for (const file of files) {\n",
              "    const li = document.createElement('li');\n",
              "    li.append(span(file.name, {fontWeight: 'bold'}));\n",
              "    li.append(span(\n",
              "        `(${file.type || 'n/a'}) - ${file.size} bytes, ` +\n",
              "        `last modified: ${\n",
              "            file.lastModifiedDate ? file.lastModifiedDate.toLocaleDateString() :\n",
              "                                    'n/a'} - `));\n",
              "    const percent = span('0% done');\n",
              "    li.appendChild(percent);\n",
              "\n",
              "    outputElement.appendChild(li);\n",
              "\n",
              "    const fileDataPromise = new Promise((resolve) => {\n",
              "      const reader = new FileReader();\n",
              "      reader.onload = (e) => {\n",
              "        resolve(e.target.result);\n",
              "      };\n",
              "      reader.readAsArrayBuffer(file);\n",
              "    });\n",
              "    // Wait for the data to be ready.\n",
              "    let fileData = yield {\n",
              "      promise: fileDataPromise,\n",
              "      response: {\n",
              "        action: 'continue',\n",
              "      }\n",
              "    };\n",
              "\n",
              "    // Use a chunked sending to avoid message size limits. See b/62115660.\n",
              "    let position = 0;\n",
              "    do {\n",
              "      const length = Math.min(fileData.byteLength - position, MAX_PAYLOAD_SIZE);\n",
              "      const chunk = new Uint8Array(fileData, position, length);\n",
              "      position += length;\n",
              "\n",
              "      const base64 = btoa(String.fromCharCode.apply(null, chunk));\n",
              "      yield {\n",
              "        response: {\n",
              "          action: 'append',\n",
              "          file: file.name,\n",
              "          data: base64,\n",
              "        },\n",
              "      };\n",
              "\n",
              "      let percentDone = fileData.byteLength === 0 ?\n",
              "          100 :\n",
              "          Math.round((position / fileData.byteLength) * 100);\n",
              "      percent.textContent = `${percentDone}% done`;\n",
              "\n",
              "    } while (position < fileData.byteLength);\n",
              "  }\n",
              "\n",
              "  // All done.\n",
              "  yield {\n",
              "    response: {\n",
              "      action: 'complete',\n",
              "    }\n",
              "  };\n",
              "}\n",
              "\n",
              "scope.google = scope.google || {};\n",
              "scope.google.colab = scope.google.colab || {};\n",
              "scope.google.colab._files = {\n",
              "  _uploadFiles,\n",
              "  _uploadFilesContinue,\n",
              "};\n",
              "})(self);\n",
              "</script> "
            ]
          },
          "metadata": {}
        },
        {
          "output_type": "stream",
          "name": "stdout",
          "text": [
            "Saving kaggle.json to kaggle.json\n"
          ]
        },
        {
          "output_type": "execute_result",
          "data": {
            "text/plain": [
              "{'kaggle.json': b'{\"username\":\"jordoggon\",\"key\":\"ca899e946bb5089dabc1e6e17d45770e\"}'}"
            ]
          },
          "metadata": {},
          "execution_count": 5
        }
      ]
    },
    {
      "cell_type": "code",
      "source": [
        "!mkdir ~/.kaggle\n",
        "!cp kaggle.json ~/.kaggle/\n",
        "!chmod 600 ~/.kaggle/kaggle.json"
      ],
      "metadata": {
        "id": "I4jmFPpTWiR2"
      },
      "execution_count": null,
      "outputs": []
    },
    {
      "cell_type": "code",
      "source": [
        "import kagglehub\n",
        "\n",
        "# Download latest version\n",
        "path = kagglehub.dataset_download(\"soumicksarker/openeds-dataset\")\n",
        "\n",
        "print(\"Path to dataset files:\", path)"
      ],
      "metadata": {
        "colab": {
          "base_uri": "https://localhost:8080/"
        },
        "id": "BeLywTRmWfYs",
        "outputId": "2dd4ce54-5889-4cc6-fbb4-1ae2074b69a4"
      },
      "execution_count": null,
      "outputs": [
        {
          "metadata": {
            "tags": null
          },
          "name": "stdout",
          "output_type": "stream",
          "text": [
            "Download already complete (8606347163 bytes).\n",
            "Extracting files...\n"
          ]
        }
      ]
    },
    {
      "cell_type": "code",
      "metadata": {
        "colab": {
          "base_uri": "https://localhost:8080/"
        },
        "id": "wqEv3LLCvddM",
        "outputId": "81b432fc-2b10-490a-962f-ece89d7fbb8d"
      },
      "source": [
        "import os\n",
        "import numpy as np\n",
        "import cv2\n",
        "from tqdm import tqdm\n",
        "from PIL import Image\n",
        "from sklearn.model_selection import train_test_split\n",
        "from sklearn.preprocessing import StandardScaler\n",
        "from sklearn.svm import SVC\n",
        "from sklearn.metrics import accuracy_score, classification_report\n",
        "\n",
        "# The correct base path appears to be one level up from the previous attempt\n",
        "base_path = \"/root/.cache/kagglehub/datasets/soumicksarker/openeds-dataset/versions/2\"\n",
        "images_dir = os.path.join(base_path, \"openEDS\", \"openEDS\", \"train\", \"images\")\n",
        "masks_dir = os.path.join(base_path, \"openEDS\", \"openEDS\", \"train\", \"masks\")\n",
        "labels_dir = os.path.join(base_path, \"openEDS\", \"openEDS\", \"train\", \"labels\")\n",
        "\n",
        "# Load all files\n",
        "image_files = sorted(os.listdir(images_dir))\n",
        "mask_files = sorted(os.listdir(masks_dir))\n",
        "\n",
        "print(f\"Attempting to process {len(image_files)} images and {len(mask_files)} masks.\")"
      ],
      "execution_count": null,
      "outputs": [
        {
          "output_type": "stream",
          "name": "stdout",
          "text": [
            "Attempting to process 27431 images and 27431 masks.\n"
          ]
        }
      ]
    },
    {
      "cell_type": "code",
      "source": [
        "import os\n",
        "\n",
        "base_path = \"/root/.cache/kagglehub/datasets/soumicksarker/openeds-dataset/versions/2\"\n",
        "for folder in os.listdir(base_path):\n",
        "    print(folder)\n"
      ],
      "metadata": {
        "colab": {
          "base_uri": "https://localhost:8080/"
        },
        "id": "BSCd5gYIYbl5",
        "outputId": "0f98b097-052b-4d6f-c499-11b871e8fb27"
      },
      "execution_count": null,
      "outputs": [
        {
          "output_type": "stream",
          "name": "stdout",
          "text": [
            "openEDS\n",
            "openEDS_events\n",
            "bbox\n"
          ]
        }
      ]
    },
    {
      "cell_type": "code",
      "metadata": {
        "colab": {
          "base_uri": "https://localhost:8080/"
        },
        "id": "1443f026",
        "outputId": "a8a82496-499c-433b-a52c-67b472de5d97"
      },
      "source": [
        "openeds_path = os.path.join(base_path, \"openEDS\")\n",
        "print(os.listdir(openeds_path))"
      ],
      "execution_count": null,
      "outputs": [
        {
          "output_type": "stream",
          "name": "stdout",
          "text": [
            "['openEDS']\n"
          ]
        }
      ]
    },
    {
      "cell_type": "code",
      "source": [
        "train_path = os.path.join(base_path, \"openEDS\", \"openEDS\", \"train\")\n",
        "print(os.listdir(train_path))"
      ],
      "metadata": {
        "colab": {
          "base_uri": "https://localhost:8080/"
        },
        "id": "d2T8swiyY38t",
        "outputId": "fa2ffd74-62f2-444a-9230-b41de6bd5c84"
      },
      "execution_count": null,
      "outputs": [
        {
          "output_type": "stream",
          "name": "stdout",
          "text": [
            "['masks', 'labels', 'images']\n"
          ]
        }
      ]
    },
    {
      "cell_type": "code",
      "source": [
        "!pip install tqdm opencv-python numpy pillow scikit-learn\n"
      ],
      "metadata": {
        "colab": {
          "base_uri": "https://localhost:8080/"
        },
        "id": "0iwZ3FTPY4Dt",
        "outputId": "73596745-cce2-4472-a5c1-4e4c9b96e773"
      },
      "execution_count": null,
      "outputs": [
        {
          "output_type": "stream",
          "name": "stdout",
          "text": [
            "Requirement already satisfied: tqdm in /usr/local/lib/python3.12/dist-packages (4.67.1)\n",
            "Requirement already satisfied: opencv-python in /usr/local/lib/python3.12/dist-packages (4.12.0.88)\n",
            "Requirement already satisfied: numpy in /usr/local/lib/python3.12/dist-packages (2.0.2)\n",
            "Requirement already satisfied: pillow in /usr/local/lib/python3.12/dist-packages (11.3.0)\n",
            "Requirement already satisfied: scikit-learn in /usr/local/lib/python3.12/dist-packages (1.6.1)\n",
            "Requirement already satisfied: scipy>=1.6.0 in /usr/local/lib/python3.12/dist-packages (from scikit-learn) (1.16.3)\n",
            "Requirement already satisfied: joblib>=1.2.0 in /usr/local/lib/python3.12/dist-packages (from scikit-learn) (1.5.2)\n",
            "Requirement already satisfied: threadpoolctl>=3.1.0 in /usr/local/lib/python3.12/dist-packages (from scikit-learn) (3.6.0)\n"
          ]
        }
      ]
    },
    {
      "cell_type": "code",
      "source": [
        "import os\n",
        "import numpy as np\n",
        "import cv2\n",
        "from tqdm import tqdm\n",
        "from PIL import Image\n",
        "from sklearn.model_selection import train_test_split\n",
        "from sklearn.preprocessing import StandardScaler\n",
        "from sklearn.svm import SVC\n",
        "from sklearn.metrics import accuracy_score, classification_report\n"
      ],
      "metadata": {
        "id": "kPnRY5JZY4OZ"
      },
      "execution_count": null,
      "outputs": []
    },
    {
      "cell_type": "code",
      "source": [
        "base_path = \"/root/.cache/kagglehub/datasets/soumicksarker/openeds-dataset/versions/2/openEDS/openEDS/train\"\n",
        "images_dir = os.path.join(base_path, \"images\")\n",
        "masks_dir = os.path.join(base_path, \"masks\")\n",
        "labels_dir = os.path.join(base_path, \"labels\")\n",
        "\n",
        "print(\"✅ Found folders:\")\n",
        "print(\"Images:\", len(os.listdir(images_dir)))\n",
        "print(\"Masks:\", len(os.listdir(masks_dir)))\n",
        "print(\"Labels:\", len(os.listdir(labels_dir)))"
      ],
      "metadata": {
        "colab": {
          "base_uri": "https://localhost:8080/"
        },
        "id": "B7WrCOjcaPvy",
        "outputId": "6fe633dc-70b0-4100-f435-ee6e5ca0c9c1"
      },
      "execution_count": null,
      "outputs": [
        {
          "output_type": "stream",
          "name": "stdout",
          "text": [
            "✅ Found folders:\n",
            "Images: 27431\n",
            "Masks: 27431\n",
            "Labels: 27431\n"
          ]
        }
      ]
    },
    {
      "cell_type": "markdown",
      "source": [
        "# Testing sample subset for training"
      ],
      "metadata": {
        "id": "rV8VsNexiN_W"
      }
    },
    {
      "cell_type": "code",
      "source": [
        "#Subset loading (for training)\n",
        "num_samples = 1000  # adjust if you have more GPU memory\n",
        "image_files = sorted(os.listdir(images_dir))[:num_samples]\n",
        "mask_files = sorted(os.listdir(masks_dir))[:num_samples]\n"
      ],
      "metadata": {
        "id": "tTGBnoKsaZyw"
      },
      "execution_count": null,
      "outputs": []
    },
    {
      "cell_type": "code",
      "source": [
        "features = []\n",
        "\n",
        "for i, mask_name in enumerate(tqdm(mask_files, desc=\"Extracting features\")):\n",
        "    mask_path = os.path.join(masks_dir, mask_name)\n",
        "    mask = cv2.imread(mask_path, cv2.IMREAD_GRAYSCALE)\n",
        "    if mask is None:\n",
        "        continue\n",
        "\n",
        "    # Resize for consistency\n",
        "    mask = cv2.resize(mask, (128, 128))\n",
        "    mask = mask / 255.0\n",
        "\n",
        "    # Calculate pupil features\n",
        "    pupil_pixels = np.argwhere(mask > 0)\n",
        "    if pupil_pixels.size == 0:\n",
        "        features.append([0, 0, 0])\n",
        "        continue\n",
        "\n",
        "    y_center, x_center = pupil_pixels.mean(axis=0)\n",
        "    pupil_area = len(pupil_pixels)\n",
        "    features.append([x_center, y_center, pupil_area])\n",
        "\n",
        "features = np.array(features)\n",
        "print(\"✅ Features shape:\", features.shape)"
      ],
      "metadata": {
        "colab": {
          "base_uri": "https://localhost:8080/"
        },
        "id": "zw-CWE9GadNG",
        "outputId": "fe1e0315-e4af-46dd-cb02-8cbb83e64a53"
      },
      "execution_count": null,
      "outputs": [
        {
          "output_type": "stream",
          "name": "stderr",
          "text": [
            "Extracting features: 100%|██████████| 1000/1000 [00:04<00:00, 205.36it/s]"
          ]
        },
        {
          "output_type": "stream",
          "name": "stdout",
          "text": [
            "✅ Features shape: (1000, 3)\n"
          ]
        },
        {
          "output_type": "stream",
          "name": "stderr",
          "text": [
            "\n"
          ]
        }
      ]
    },
    {
      "cell_type": "code",
      "source": [
        "# Generate dummy binary labels (you can later replace with true label meanings)\n",
        "threshold = np.median(features[:, 2])\n",
        "labels = (features[:, 2] > threshold).astype(int)\n",
        "\n",
        "# Split into train/test\n",
        "X_train, X_test, y_train, y_test = train_test_split(features, labels, test_size=0.2, random_state=42)\n",
        "\n",
        "# Normalize\n",
        "scaler = StandardScaler()\n",
        "X_train_scaled = scaler.fit_transform(X_train)\n",
        "X_test_scaled = scaler.transform(X_test)\n",
        "\n",
        "# Train lightweight SVM\n",
        "model = SVC(kernel='rbf')\n",
        "model.fit(X_train_scaled, y_train)\n",
        "\n",
        "# Evaluate\n",
        "y_pred = model.predict(X_test_scaled)\n",
        "print(\"✅ Accuracy:\", accuracy_score(y_test, y_pred))\n",
        "print(\"\\nClassification Report:\\n\", classification_report(y_test, y_pred))"
      ],
      "metadata": {
        "colab": {
          "base_uri": "https://localhost:8080/"
        },
        "id": "0Djt-9ZVanCs",
        "outputId": "41b45cf9-d0d0-409a-9d16-d7df1aa2df85"
      },
      "execution_count": null,
      "outputs": [
        {
          "output_type": "stream",
          "name": "stdout",
          "text": [
            "✅ Accuracy: 0.985\n",
            "\n",
            "Classification Report:\n",
            "               precision    recall  f1-score   support\n",
            "\n",
            "           0       0.99      0.98      0.98        97\n",
            "           1       0.98      0.99      0.99       103\n",
            "\n",
            "    accuracy                           0.98       200\n",
            "   macro avg       0.99      0.98      0.98       200\n",
            "weighted avg       0.99      0.98      0.98       200\n",
            "\n"
          ]
        }
      ]
    },
    {
      "cell_type": "code",
      "source": [
        "import matplotlib.pyplot as plt\n",
        "\n",
        "plt.scatter(features[:, 0], features[:, 1], c=labels, cmap='coolwarm', alpha=0.6)\n",
        "plt.title(\"Pupil Center vs Label (open/closed simulation) - Full Dataset\")\n",
        "plt.xlabel(\"X center\")\n",
        "plt.ylabel(\"Y center\")\n",
        "plt.show()"
      ],
      "metadata": {
        "colab": {
          "base_uri": "https://localhost:8080/",
          "height": 457
        },
        "id": "TYS4qF3yaq6E",
        "outputId": "7efc2685-3874-469e-dc6c-d02955ca0a47"
      },
      "execution_count": null,
      "outputs": [
        {
          "output_type": "display_data",
          "data": {
            "text/plain": [
              "<Figure size 640x480 with 1 Axes>"
            ],
            "image/png": "[encoded data removed]"
          },
          "metadata": {}
        }
      ]
    },
    {
      "cell_type": "markdown",
      "source": [
        "In the scatter plot, the blue and red data points represent the two different classes that the model is trying to distinguish. Based on the code, these classes are determined by whether the pupil area is above or below the calculated median threshold.\n",
        "\n",
        "Blue points: Represent images where the pupil area is below the median threshold, which in this simulated scenario corresponds to one class (e.g., potentially \"closed\" or smaller pupils).\n",
        "Red points: Represent images where the pupil area is above the median threshold, corresponding to the other class (e.g., potentially \"open\" or larger pupils).\n",
        "The plot shows how these two classes are distributed based on the pupil's X and Y center coordinates."
      ],
      "metadata": {
        "id": "t8isdgPJuup9"
      }
    },
    {
      "cell_type": "markdown",
      "metadata": {
        "id": "c4281427"
      },
      "source": [
        "# Task\n",
        "Process the entire dataset located in the \"source_folder/base_path\" directory, which contains \"images\", \"labels\", and \"masks\" subfolders. Incorporate the label data from the \"labels\" folder into the analysis. Extract additional relevant features from the images and masks. Train a more complex model than a simple SVM using the processed data and extracted features. Evaluate the model's performance using appropriate metrics and visualize the results. Summarize the findings."
      ]
    },
    {
      "cell_type": "markdown",
      "metadata": {
        "id": "04361dbf"
      },
      "source": [
        "## Process more data\n",
        "\n",
        "### Subtask:\n",
        "Modify the code to process a larger subset of images or the entire dataset if your resources allow.\n"
      ]
    },
    {
      "cell_type": "markdown",
      "metadata": {
        "id": "e54a609e"
      },
      "source": [
        "**Reasoning**:\n",
        "I need to modify the `num_samples` variable to process a larger portion of the dataset. The current value is 1000, and I will increase it to a larger number to include more images.\n",
        "\n"
      ]
    },
    {
      "cell_type": "code",
      "metadata": {
        "colab": {
          "base_uri": "https://localhost:8080/"
        },
        "id": "bfce07d6",
        "outputId": "578af87f-a352-4533-ee58-1100f49d0dbd"
      },
      "source": [
        "import os\n",
        "\n",
        "labels_dir = \"/root/.cache/kagglehub/datasets/soumicksarker/openeds-dataset/versions/2/openEDS/openEDS/train/labels\"\n",
        "\n",
        "if os.path.exists(labels_dir):\n",
        "    print(f\"✅ Labels directory found at: {labels_dir}\")\n",
        "    # List a few files in the directory to confirm content\n",
        "    try:\n",
        "        label_files_in_dir = sorted(os.listdir(labels_dir))\n",
        "        print(f\"Sample files in labels directory: {label_files_in_dir[:10]}\")\n",
        "        print(f\"Total files in labels directory: {len(label_files_in_dir)}\")\n",
        "    except Exception as e:\n",
        "        print(f\"Error listing files in {labels_dir}: {e}\")\n",
        "else:\n",
        "    print(f\"❌ Labels directory not found at: {labels_dir}\")"
      ],
      "execution_count": null,
      "outputs": [
        {
          "output_type": "stream",
          "name": "stdout",
          "text": [
            "✅ Labels directory found at: /root/.cache/kagglehub/datasets/soumicksarker/openeds-dataset/versions/2/openEDS/openEDS/train/labels\n",
            "Sample files in labels directory: ['000000.npy', '000001.npy', '000002.npy', '000003.npy', '000004.npy', '000005.npy', '000006.npy', '000007.npy', '000008.npy', '000009.npy']\n",
            "Total files in labels directory: 27431\n"
          ]
        }
      ]
    },
    {
      "cell_type": "markdown",
      "metadata": {
        "id": "2cdc7559"
      },
      "source": [
        "### Explore Label Data\n",
        "Let's start by listing a few files in the `labels` directory and reading a sample label file to understand its structure."
      ]
    },
    {
      "cell_type": "code",
      "metadata": {
        "colab": {
          "base_uri": "https://localhost:8080/"
        },
        "id": "0594e790",
        "outputId": "4befb3d0-afbf-46d5-bf68-6a187583a6e6"
      },
      "source": [
        "import os\n",
        "import numpy as np # Import numpy to load .npy files\n",
        "\n",
        "# List a few label files\n",
        "labels_dir = \"/root/.cache/kagglehub/datasets/soumicksarker/openeds-dataset/versions/2/openEDS/openEDS/train/labels\"\n",
        "label_files = sorted(os.listdir(labels_dir))\n",
        "print(\"Sample label files:\", label_files[:10])\n",
        "\n",
        "# Read a sample label file (assuming they are .npy files based on the listing)\n",
        "if label_files:\n",
        "    sample_label_path = os.path.join(labels_dir, label_files[0])\n",
        "    try:\n",
        "        # Use np.load to read the .npy file\n",
        "        sample_label_content = np.load(sample_label_path)\n",
        "        print(f\"\\nContent of a sample label file ({label_files[0]}):\\n{sample_label_content}\")\n",
        "        print(f\"\\nShape of the sample label data: {sample_label_content.shape}\")\n",
        "        print(f\"\\nData type of the sample label data: {sample_label_content.dtype}\")\n",
        "\n",
        "    except Exception as e:\n",
        "        print(f\"Could not read sample label file {label_files[0]} using np.load: {e}\")"
      ],
      "execution_count": null,
      "outputs": [
        {
          "output_type": "stream",
          "name": "stdout",
          "text": [
            "Sample label files: ['000000.npy', '000001.npy', '000002.npy', '000003.npy', '000004.npy', '000005.npy', '000006.npy', '000007.npy', '000008.npy', '000009.npy']\n",
            "\n",
            "Content of a sample label file (000000.npy):\n",
            "[[0 0 0 ... 0 0 0]\n",
            " [0 0 0 ... 0 0 0]\n",
            " [0 0 0 ... 0 0 0]\n",
            " ...\n",
            " [0 0 0 ... 0 0 0]\n",
            " [0 0 0 ... 0 0 0]\n",
            " [0 0 0 ... 0 0 0]]\n",
            "\n",
            "Shape of the sample label data: (400, 640)\n",
            "\n",
            "Data type of the sample label data: uint8\n"
          ]
        }
      ]
    },
    {
      "cell_type": "markdown",
      "metadata": {
        "id": "39be3a99"
      },
      "source": [
        "### Incorporate Label Data and Extract More Features\n",
        "Based on the structure of the label data, you'll modify the processing loop. Here's a conceptual example of how you might incorporate label data and add a placeholder for extracting more features. You'll need to adapt this based on the actual label format and the features you want to extract."
      ]
    },
    {
      "cell_type": "code",
      "metadata": {
        "colab": {
          "base_uri": "https://localhost:8080/"
        },
        "id": "612a6181",
        "outputId": "140c47bf-60c7-46d6-a007-f622b4649a48"
      },
      "source": [
        "import os\n",
        "import numpy as np\n",
        "import cv2\n",
        "from tqdm import tqdm\n",
        "\n",
        "features_and_labels = []\n",
        "\n",
        "# Assuming image_files and mask_files are already loaded with full dataset paths\n",
        "base_path = \"/root/.cache/kagglehub/datasets/soumicksarker/openeds-dataset/versions/2/openEDS/openEDS/train\"\n",
        "images_dir = os.path.join(base_path, \"images\")\n",
        "masks_dir = os.path.join(base_path, \"masks\")\n",
        "labels_dir = os.path.join(base_path, \"labels\")\n",
        "image_files = sorted(os.listdir(images_dir))\n",
        "mask_files = sorted(os.listdir(masks_dir))\n",
        "label_files = sorted(os.listdir(labels_dir)) # Assuming label files match image/mask file names\n",
        "\n",
        "for i in tqdm(range(len(image_files)), desc=\"Processing images\"):\n",
        "    img_name = image_files[i]\n",
        "    mask_name = mask_files[i]\n",
        "    label_name = label_files[i] # Assuming file names match\n",
        "\n",
        "    img_path = os.path.join(images_dir, img_name)\n",
        "    mask_path = os.path.join(masks_dir, mask_name)\n",
        "    label_path = os.path.join(labels_dir, label_name)\n",
        "\n",
        "    img = cv2.imread(img_path)\n",
        "    mask = cv2.imread(mask_path, cv2.IMREAD_GRAYSCALE)\n",
        "\n",
        "    # Load the label data\n",
        "    try:\n",
        "        label_data = np.load(label_path)\n",
        "    except Exception as e:\n",
        "        print(f\"Warning: Could not load label file {label_name}: {e}. Skipping.\")\n",
        "        continue # Skip if label data cannot be loaded\n",
        "\n",
        "\n",
        "    if img is None or mask is None:\n",
        "        print(f\"Warning: Could not read image or mask for {img_name}. Skipping.\")\n",
        "        continue\n",
        "\n",
        "    # --- Preprocessing (Add any necessary steps here) ---\n",
        "    # Example: Resize image and mask\n",
        "    img_resized = cv2.resize(img, (128, 128))\n",
        "    mask_resized = cv2.resize(mask, (128, 128))\n",
        "    mask_normalized = mask_resized / 255.0 # Normalizing mask\n",
        "\n",
        "    # Also resize the label data to match the resized image/mask dimensions\n",
        "    label_resized = cv2.resize(label_data, (128, 128), interpolation=cv2.INTER_NEAREST) # Use nearest neighbor for label masks\n",
        "\n",
        "\n",
        "    # --- Feature Extraction ---\n",
        "    # Basic pupil features (from previous code)\n",
        "    pupil_pixels = np.argwhere(mask_normalized > 0)\n",
        "    if pupil_pixels.size == 0:\n",
        "        pupil_features = [0, 0, 0]\n",
        "    else:\n",
        "        y_center, x_center = pupil_pixels.mean(axis=0)\n",
        "        pupil_area = len(pupil_pixels)\n",
        "        pupil_features = [x_center, y_center, pupil_area]\n",
        "\n",
        "    # --- Add more feature extraction here ---\n",
        "    # You will need to implement functions or code to calculate additional features\n",
        "    # based on your specific needs and the label data\n",
        "    # Example: Calculate eye aspect ratio (EAR) - Requires facial landmark detection, which is more complex\n",
        "    # Example: Extract features based on the label data, e.g., number of pixels for a specific label value\n",
        "    additional_features = [] # Placeholder for additional features\n",
        "\n",
        "    # Combine all features\n",
        "    all_features = pupil_features + additional_features\n",
        "\n",
        "    # --- Incorporate Label Data ---\n",
        "    # Now that label_data is loaded, you can use it.\n",
        "    # The structure of label_data (400x640 uint8 array, resized to 128x128) suggests it might be a segmentation mask\n",
        "    # You need to determine how to represent the label information as a feature or target variable.\n",
        "    # Example: If the labels represent different regions, you could count pixels for each region.\n",
        "    # Example: If the labels indicate blinking (e.g., 0 for open, 1 for closed), you could use a single value.\n",
        "    # For now, let's just include a simplified representation of the label data.\n",
        "    # This part needs to be adapted based on the actual meaning of the label values.\n",
        "\n",
        "    # Simple example: Use the mean value of the resized label mask as a feature/label\n",
        "    # This is likely NOT the intended use, but demonstrates incorporating the data.\n",
        "    simplified_label_feature = [np.mean(label_resized)] # Replace with meaningful label extraction\n",
        "\n",
        "    # Combine features and simplified label representation\n",
        "    features_and_labels.append(all_features + simplified_label_feature)\n",
        "\n",
        "# Convert the list to a numpy array or pandas DataFrame\n",
        "# You'll need to determine the column names based on your features and labels\n",
        "# features_and_labels_df = pd.DataFrame(features_and_labels, columns=['x_center', 'y_center', 'pupil_area', 'mean_label_value'])\n",
        "features_and_labels_array = np.array(features_and_labels)\n",
        "\n",
        "\n",
        "print(\"✅ Finished processing. Shape of combined features and labels:\", features_and_labels_array.shape)"
      ],
      "execution_count": null,
      "outputs": [
        {
          "output_type": "stream",
          "name": "stderr",
          "text": [
            "Processing images: 100%|██████████| 27431/27431 [05:52<00:00, 77.72it/s]\n"
          ]
        },
        {
          "output_type": "stream",
          "name": "stdout",
          "text": [
            "✅ Finished processing. Shape of combined features and labels: (27431, 4)\n"
          ]
        }
      ]
    },
    {
      "cell_type": "markdown",
      "metadata": {
        "id": "cc9ae0ff"
      },
      "source": [
        "### Visualize Sample Label Mask\n",
        "Let's visualize a sample label mask to see what the pixel values represent."
      ]
    },
    {
      "cell_type": "code",
      "metadata": {
        "colab": {
          "base_uri": "https://localhost:8080/",
          "height": 453
        },
        "id": "d77300fa",
        "outputId": "15152825-0ac3-484b-9e22-9b8ba1a12cac"
      },
      "source": [
        "import matplotlib.pyplot as plt\n",
        "import numpy as np\n",
        "import os\n",
        "\n",
        "# Assuming label_files and labels_dir are already defined from previous cells\n",
        "labels_dir = \"/root/.cache/kagglehub/datasets/soumicksarker/openeds-dataset/versions/2/openEDS/openEDS/train/labels\"\n",
        "label_files = sorted(os.listdir(labels_dir))\n",
        "\n",
        "if label_files:\n",
        "    sample_label_path = os.path.join(labels_dir, label_files[0])\n",
        "    try:\n",
        "        sample_label_data = np.load(sample_label_path)\n",
        "\n",
        "        plt.figure(figsize=(8, 6))\n",
        "        plt.imshow(sample_label_data, cmap='gray') # Use grayscale colormap for uint8 data\n",
        "        plt.title(f\"Sample Label Mask: {label_files[0]}\")\n",
        "        plt.colorbar(label=\"Pixel Value\")\n",
        "        plt.show()\n",
        "\n",
        "        print(f\"Unique values in sample label mask: {np.unique(sample_label_data)}\")\n",
        "\n",
        "    except Exception as e:\n",
        "        print(f\"Could not load or visualize sample label file {label_files[0]}: {e}\")\n",
        "else:\n",
        "    print(\"No label files found to visualize.\")"
      ],
      "execution_count": null,
      "outputs": [
        {
          "output_type": "display_data",
          "data": {
            "text/plain": [
              "<Figure size 800x600 with 2 Axes>"
            ],
            "image/png": "[encoded data removed]"
          },
          "metadata": {}
        },
        {
          "output_type": "stream",
          "name": "stdout",
          "text": [
            "Unique values in sample label mask: [0 1 2 3]\n"
          ]
        }
      ]
    },
    {
      "cell_type": "markdown",
      "metadata": {
        "id": "3b7998be"
      },
      "source": [
        "# Task\n",
        "Refine feature extraction based on the OpenEDS label meanings (0: Background, 1: Pupil, 2: Iris, 3: Eyelid) to extract features related to gaze direction, blinking, and pupil size, define target variables for these aspects, implement the refined feature extraction and target variable creation, verify the extracted features and target variables, prepare the data for modeling, train a relevant model, evaluate the model, and then continue with the rest of the updated plan including defining \"normal\" thresholds, testing with prototype data, and summarizing findings."
      ]
    },
    {
      "cell_type": "markdown",
      "metadata": {
        "id": "6b15fbd3"
      },
      "source": [
        "## Refine feature extraction based on label meanings\n",
        "\n",
        "### Subtask:\n",
        "Modify the feature extraction process to utilize the identified regions (Pupil, Iris, Eyelid) from the label masks.\n"
      ]
    },
    {
      "cell_type": "markdown",
      "metadata": {
        "id": "fd002b67"
      },
      "source": [
        "## Define target variables\n",
        "\n",
        "### Subtask:\n",
        "Define how to derive the target variables from the label data for blinking, pupil size, and gaze direction."
      ]
    },
    {
      "cell_type": "markdown",
      "metadata": {
        "id": "6f569560"
      },
      "source": [
        "**Reasoning**:\n",
        "Define how to derive the target variables for blinking, pupil size, and gaze direction based on the OpenEDS label meanings and the extracted features."
      ]
    },
    {
      "cell_type": "code",
      "metadata": {
        "id": "f43ad017"
      },
      "source": [
        "import numpy as np\n",
        "\n",
        "# Define how to derive target variables\n",
        "\n",
        "# 1. Blinking:\n",
        "# A simple approach for blinking (binary: 0 for open, 1 for closed)\n",
        "# can be based on the eyelid closure feature. A high eyelid closure value\n",
        "# indicates the eyelid is significantly covering the pupil/iris, suggesting a blink.\n",
        "# We can set a threshold on the eyelid_closure_feature.\n",
        "# Let's assume the eyelid closure feature is the 4th column (index 3) in our features_array.\n",
        "# We need to determine an appropriate threshold based on the distribution of this feature.\n",
        "# For now, let's use a placeholder for the threshold.\n",
        "\n",
        "# 2. Pupil Size:\n",
        "# The pupil size can be directly derived from the pupil_area feature (number of pixels\n",
        "# with label 1). This is already calculated and is the 3rd column (index 2)\n",
        "# in our features_array. We will use this directly as the target variable for pupil size.\n",
        "\n",
        "# 3. Gaze Direction:\n",
        "# Gaze direction can be estimated from the relative position of the pupil centroid\n",
        "# (label 1) within the iris region (label 2).\n",
        "# The pupil centroid features are at indices 0 and 1 of features_array.\n",
        "# The iris centroid features are at indices 4 and 5 of features_array.\n",
        "# We can calculate the difference between the pupil centroid and the iris centroid\n",
        "# to get a relative position.\n",
        "# Relative X position = Pupil X center - Iris X center\n",
        "# Relative Y position = Pupil Y center - Iris Y center\n",
        "# These two values can serve as numerical target variables for gaze direction.\n",
        "\n",
        "# We will create a new array to hold these target variables.\n",
        "# This array will have columns for blinking (binary), pupil size (numerical),\n",
        "# and gaze direction (numerical X, numerical Y).\n",
        "\n",
        "# Placeholder for target variables\n",
        "target_variables = []\n",
        "\n",
        "# Assuming the order of features in features_array is:\n",
        "# [pupil_x_center, pupil_y_center, pupil_area, eyelid_closure, iris_x_center, iris_y_center, iris_area]\n",
        "# Indices:              0                 1           2               3               4               5           6\n",
        "\n",
        "# Determine a threshold for blinking (this will need to be refined based on data distribution)\n",
        "# Ensure features_array is defined and accessible from the previous step where features were extracted.\n",
        "# If features_array is not defined, this code block needs to be merged with the feature extraction step.\n",
        "# Assuming features_array is a numpy array from the previous successful execution.\n",
        "\n",
        "# Check if features_array is defined and not empty\n",
        "if 'features_array' in locals() and features_array.shape[0] > 0:\n",
        "    blinking_threshold = np.percentile(features_array[:, 3], 90) # Example: top 10% of closure values are considered blinks\n",
        "\n",
        "    for features in features_array:\n",
        "        # Blinking target (binary)\n",
        "        blinking_status = 1 if features[3] > blinking_threshold else 0 # 1 for closed (blink), 0 for open\n",
        "\n",
        "        # Pupil Size target (numerical)\n",
        "        pupil_size = features[2] # Directly use pupil area\n",
        "\n",
        "        # Gaze Direction targets (numerical X, numerical Y)\n",
        "        pupil_x, pupil_y = features[0], features[1]\n",
        "        iris_x, iris_y = features[4], features[5]\n",
        "\n",
        "        # Calculate relative position of pupil centroid within iris\n",
        "        # Handle cases where iris or pupil might not be detected (centroid is 0,0)\n",
        "        # If iris area is 0, relative position is not meaningful, set to 0,0 or a special value\n",
        "        if features[6] > 0 and features[2] > 0: # Check if both iris and pupil areas are positive\n",
        "            relative_gaze_x = pupil_x - iris_x\n",
        "            relative_gaze_y = pupil_y - iris_y\n",
        "        else:\n",
        "            relative_gaze_x = 0\n",
        "            relative_gaze_y = 0 # Or np.nan if you prefer to handle missing values later\n",
        "\n",
        "\n",
        "        target_variables.append([blinking_status, pupil_size, relative_gaze_x, relative_gaze_y])\n",
        "\n",
        "    target_variables_array = np.array(target_variables)\n",
        "\n",
        "    print(\"✅ Finished defining target variables. Shape:\", target_variables_array.shape)\n",
        "    print(\"Sample target variables (blinking, pupil_size, gaze_x, gaze_y):\")\n",
        "    print(target_variables_array[:5])\n",
        "else:\n",
        "    print(\"❌ features_array is not defined or is empty. Cannot define target variables.\")"
      ],
      "execution_count": null,
      "outputs": []
    },
    {
      "cell_type": "markdown",
      "metadata": {
        "id": "5920b117"
      },
      "source": [
        "**Reasoning**:\n",
        "Modify the existing processing loop to incorporate the label mask data to extract features for the pupil, iris, and eyelid regions as described in the instructions.\n",
        "\n"
      ]
    },
    {
      "cell_type": "code",
      "metadata": {
        "colab": {
          "base_uri": "https://localhost:8080/"
        },
        "id": "195534e6",
        "outputId": "b43743e1-b329-4d47-c0fb-c0f4ab95aa3f"
      },
      "source": [
        "import os\n",
        "import numpy as np\n",
        "import cv2\n",
        "from tqdm import tqdm\n",
        "\n",
        "features_and_labels = []\n",
        "\n",
        "# Assuming image_files and mask_files are already loaded with full dataset paths\n",
        "base_path = \"/root/.cache/kagglehub/datasets/soumicksarker/openeds-dataset/versions/2/openEDS/openEDS/train\"\n",
        "images_dir = os.path.join(base_path, \"images\")\n",
        "masks_dir = os.path.join(base_path, \"masks\")\n",
        "labels_dir = os.path.join(base_path, \"labels\")\n",
        "image_files = sorted(os.listdir(images_dir))\n",
        "mask_files = sorted(os.listdir(masks_dir))\n",
        "label_files = sorted(os.listdir(labels_dir)) # Assuming label files match image/mask file names\n",
        "\n",
        "# Define the target size for resizing\n",
        "target_size = (128, 128)\n",
        "\n",
        "for i in tqdm(range(len(image_files)), desc=\"Processing images\"):\n",
        "    img_name = image_files[i]\n",
        "    mask_name = mask_files[i]\n",
        "    label_name = label_files[i] # Assuming file names match\n",
        "\n",
        "    img_path = os.path.join(images_dir, img_name)\n",
        "    mask_path = os.path.join(masks_dir, mask_name)\n",
        "    label_path = os.path.join(labels_dir, label_name)\n",
        "\n",
        "    img = cv2.imread(img_path)\n",
        "    mask = cv2.imread(mask_path, cv2.IMREAD_GRAYSCALE)\n",
        "\n",
        "    # Load the label data\n",
        "    try:\n",
        "        label_data = np.load(label_path)\n",
        "    except Exception as e:\n",
        "        # print(f\"Warning: Could not load label file {label_name}: {e}. Skipping.\")\n",
        "        continue # Skip if label data cannot be loaded\n",
        "\n",
        "\n",
        "    if img is None or mask is None:\n",
        "        # print(f\"Warning: Could not read image or mask for {img_name}. Skipping.\")\n",
        "        continue\n",
        "\n",
        "    # --- Preprocessing (Add any necessary steps here) ---\n",
        "    # Resize image, mask, and label data for consistency\n",
        "    img_resized = cv2.resize(img, target_size)\n",
        "    mask_resized = cv2.resize(mask, target_size)\n",
        "    mask_normalized = mask_resized / 255.0 # Normalizing mask\n",
        "\n",
        "    # Also resize the label data to match the resized image/mask dimensions\n",
        "    # Use nearest neighbor for label masks to preserve distinct region values\n",
        "    label_resized = cv2.resize(label_data, target_size, interpolation=cv2.INTER_NEAREST)\n",
        "\n",
        "    # --- Feature Extraction ---\n",
        "    # Features from Pupil (label value 1)\n",
        "    pupil_pixels = np.argwhere(label_resized == 1)\n",
        "    if pupil_pixels.size == 0:\n",
        "        pupil_features = [0, 0, 0] # x_center, y_center, pupil_area\n",
        "    else:\n",
        "        y_center, x_center = pupil_pixels.mean(axis=0)\n",
        "        pupil_area = len(pupil_pixels)\n",
        "        pupil_features = [x_center, y_center, pupil_area]\n",
        "\n",
        "    # Features from Eyelid (label value 3) - Quantify eyelid closure\n",
        "    eyelid_pixels = np.argwhere(label_resized == 3)\n",
        "    if eyelid_pixels.size == 0 or pupil_pixels.size == 0:\n",
        "        eyelid_features = [0] # Simple feature: proportion of eyelid pixels near pupil\n",
        "    else:\n",
        "        # Simple approach: count eyelid pixels in a bounding box around the pupil\n",
        "        # This is a basic example, more sophisticated methods could be used\n",
        "        min_y, min_x = pupil_pixels.min(axis=0)\n",
        "        max_y, max_x = pupil_pixels.max(axis=0)\n",
        "        eyelid_near_pupil_count = np.sum(\n",
        "            (eyelid_pixels[:, 0] >= min_y) & (eyelid_pixels[:, 0] <= max_y) &\n",
        "            (eyelid_pixels[:, 1] >= min_x) & (eyelid_pixels[:, 1] <= max_x)\n",
        "        )\n",
        "        # Normalize by pupil area or total eyelid area for a proportion\n",
        "        eyelid_closure_feature = eyelid_near_pupil_count / (pupil_area + 1e-6) # Add small epsilon to avoid division by zero\n",
        "        eyelid_features = [eyelid_closure_feature]\n",
        "\n",
        "    # Features from Iris (label value 2)\n",
        "    iris_pixels = np.argwhere(label_resized == 2)\n",
        "    if iris_pixels.size == 0:\n",
        "        iris_features = [0, 0, 0] # iris_x_center, iris_y_center, iris_area\n",
        "    else:\n",
        "        iris_y_center, iris_x_center = iris_pixels.mean(axis=0)\n",
        "        iris_area = len(iris_pixels)\n",
        "        iris_features = [iris_x_center, iris_y_center, iris_area]\n",
        "\n",
        "\n",
        "    # Combine all features\n",
        "    all_features = pupil_features + eyelid_features + iris_features\n",
        "\n",
        "\n",
        "    # --- Incorporate Label Data for Target Variables (will refine later) ---\n",
        "    # For now, we'll just store the features. Target variables will be defined later\n",
        "    # based on the meaning of labels for gaze, blinking, etc.\n",
        "    features_and_labels.append(all_features)\n",
        "\n",
        "# Convert the list to a numpy array\n",
        "features_array = np.array(features_and_labels)\n",
        "\n",
        "\n",
        "print(\"✅ Finished processing. Shape of extracted features:\", features_array.shape)"
      ],
      "execution_count": null,
      "outputs": [
        {
          "output_type": "stream",
          "name": "stderr",
          "text": [
            "Processing images: 100%|██████████| 27431/27431 [06:02<00:00, 75.72it/s]"
          ]
        },
        {
          "output_type": "stream",
          "name": "stdout",
          "text": [
            "✅ Finished processing. Shape of extracted features: (27431, 7)\n"
          ]
        },
        {
          "output_type": "stream",
          "name": "stderr",
          "text": [
            "\n"
          ]
        }
      ]
    },
    {
      "cell_type": "markdown",
      "metadata": {
        "id": "cd754182"
      },
      "source": [
        "## Verify Extracted Features and Target Variables\n",
        "\n",
        "### Subtask:\n",
        "Display summary statistics and visualize the distribution of the extracted features and target variables."
      ]
    },
    {
      "cell_type": "markdown",
      "metadata": {
        "id": "c11b099e"
      },
      "source": [
        "**Reasoning**:\n",
        "Verify the extracted features and target variables by displaying summary statistics and visualizations to ensure they are correct and understand their distribution."
      ]
    },
    {
      "cell_type": "code",
      "metadata": {
        "colab": {
          "base_uri": "https://localhost:8080/",
          "height": 1000
        },
        "id": "5281c6e7",
        "outputId": "3b194c93-e9d6-4b0a-decd-354e90b368ae"
      },
      "source": [
        "import pandas as pd\n",
        "import matplotlib.pyplot as plt\n",
        "import seaborn as sns\n",
        "\n",
        "# Assuming features_array and target_variables_array are available from previous steps\n",
        "\n",
        "# Convert to pandas DataFrames for easier handling and visualization\n",
        "# Define column names based on the order of features and target variables\n",
        "feature_column_names = ['pupil_x_center', 'pupil_y_center', 'pupil_area',\n",
        "                        'eyelid_closure', 'iris_x_center', 'iris_y_center', 'iris_area']\n",
        "target_column_names = ['blinking_status', 'pupil_size', 'gaze_x', 'gaze_y']\n",
        "\n",
        "features_df = pd.DataFrame(features_array, columns=feature_column_names)\n",
        "targets_df = pd.DataFrame(target_variables_array, columns=target_column_names)\n",
        "\n",
        "print(\"✅ Summary statistics for extracted features:\")\n",
        "display(features_df.describe())\n",
        "\n",
        "print(\"\\n✅ Summary statistics for target variables:\")\n",
        "display(targets_df.describe())\n",
        "\n",
        "# Visualize distributions of key features and target variables\n",
        "plt.figure(figsize=(15, 10))\n",
        "\n",
        "plt.subplot(2, 3, 1)\n",
        "sns.histplot(features_df['pupil_area'], kde=True)\n",
        "plt.title('Distribution of Pupil Area')\n",
        "\n",
        "plt.subplot(2, 3, 2)\n",
        "sns.histplot(features_df['eyelid_closure'], kde=True)\n",
        "plt.title('Distribution of Eyelid Closure Feature')\n",
        "\n",
        "plt.subplot(2, 3, 3)\n",
        "sns.histplot(targets_df['blinking_status'])\n",
        "plt.title('Distribution of Blinking Status')\n",
        "\n",
        "plt.subplot(2, 3, 4)\n",
        "sns.histplot(targets_df['pupil_size'], kde=True)\n",
        "plt.title('Distribution of Pupil Size Target')\n",
        "\n",
        "plt.subplot(2, 3, 5)\n",
        "sns.histplot(targets_df['gaze_x'], kde=True)\n",
        "plt.title('Distribution of Gaze X Target')\n",
        "\n",
        "plt.subplot(2, 3, 6)\n",
        "sns.histplot(targets_df['gaze_y'], kde=True)\n",
        "plt.title('Distribution of Gaze Y Target')\n",
        "\n",
        "plt.tight_layout()\n",
        "plt.show()"
      ],
      "execution_count": null,
      "outputs": [
        {
          "output_type": "stream",
          "name": "stdout",
          "text": [
            "✅ Summary statistics for extracted features:\n"
          ]
        },
        {
          "output_type": "display_data",
          "data": {
            "text/plain": [
              "       pupil_x_center  pupil_y_center    pupil_area  eyelid_closure  \\\n",
              "count    27431.000000    27431.000000  27431.000000    27431.000000   \n",
              "mean        65.747519       82.382154   1127.502461        0.120651   \n",
              "std         11.651290       14.620860    456.496608        0.066188   \n",
              "min          0.000000        0.000000      0.000000        0.000000   \n",
              "25%         59.962353       75.494309    811.000000        0.078431   \n",
              "50%         66.662275       83.754655   1088.000000        0.104857   \n",
              "75%         73.106919       91.478434   1388.000000        0.149316   \n",
              "max         93.916221      121.295082   3408.000000        0.691729   \n",
              "\n",
              "       iris_x_center  iris_y_center     iris_area  \n",
              "count   27431.000000   27431.000000  27431.000000  \n",
              "mean       64.918590      74.643412   1131.223251  \n",
              "std        11.014747      16.217333    267.817551  \n",
              "min         0.000000       0.000000      0.000000  \n",
              "25%        58.981508      65.641453   1000.000000  \n",
              "50%        65.538340      75.705139   1150.000000  \n",
              "75%        71.989993      85.066200   1317.000000  \n",
              "max        89.714286     126.833333   1763.000000  "
            ],
            "text/html": [
              "\n",
              "  <div id=\"df-027b1f96-5d62-4c9e-b0f4-3d5eae8a92e7\" class=\"colab-df-container\">\n",
              "    <div>\n",
              "<style scoped>\n",
              "    .dataframe tbody tr th:only-of-type {\n",
              "        vertical-align: middle;\n",
              "    }\n",
              "\n",
              "    .dataframe tbody tr th {\n",
              "        vertical-align: top;\n",
              "    }\n",
              "\n",
              "    .dataframe thead th {\n",
              "        text-align: right;\n",
              "    }\n",
              "</style>\n",
              "<table border=\"1\" class=\"dataframe\">\n",
              "  <thead>\n",
              "    <tr style=\"text-align: right;\">\n",
              "      <th></th>\n",
              "      <th>pupil_x_center</th>\n",
              "      <th>pupil_y_center</th>\n",
              "      <th>pupil_area</th>\n",
              "      <th>eyelid_closure</th>\n",
              "      <th>iris_x_center</th>\n",
              "      <th>iris_y_center</th>\n",
              "      <th>iris_area</th>\n",
              "    </tr>\n",
              "  </thead>\n",
              "  <tbody>\n",
              "    <tr>\n",
              "      <th>count</th>\n",
              "      <td>27431.000000</td>\n",
              "      <td>27431.000000</td>\n",
              "      <td>27431.000000</td>\n",
              "      <td>27431.000000</td>\n",
              "      <td>27431.000000</td>\n",
              "      <td>27431.000000</td>\n",
              "      <td>27431.000000</td>\n",
              "    </tr>\n",
              "    <tr>\n",
              "      <th>mean</th>\n",
              "      <td>65.747519</td>\n",
              "      <td>82.382154</td>\n",
              "      <td>1127.502461</td>\n",
              "      <td>0.120651</td>\n",
              "      <td>64.918590</td>\n",
              "      <td>74.643412</td>\n",
              "      <td>1131.223251</td>\n",
              "    </tr>\n",
              "    <tr>\n",
              "      <th>std</th>\n",
              "      <td>11.651290</td>\n",
              "      <td>14.620860</td>\n",
              "      <td>456.496608</td>\n",
              "      <td>0.066188</td>\n",
              "      <td>11.014747</td>\n",
              "      <td>16.217333</td>\n",
              "      <td>267.817551</td>\n",
              "    </tr>\n",
              "    <tr>\n",
              "      <th>min</th>\n",
              "      <td>0.000000</td>\n",
              "      <td>0.000000</td>\n",
              "      <td>0.000000</td>\n",
              "      <td>0.000000</td>\n",
              "      <td>0.000000</td>\n",
              "      <td>0.000000</td>\n",
              "      <td>0.000000</td>\n",
              "    </tr>\n",
              "    <tr>\n",
              "      <th>25%</th>\n",
              "      <td>59.962353</td>\n",
              "      <td>75.494309</td>\n",
              "      <td>811.000000</td>\n",
              "      <td>0.078431</td>\n",
              "      <td>58.981508</td>\n",
              "      <td>65.641453</td>\n",
              "      <td>1000.000000</td>\n",
              "    </tr>\n",
              "    <tr>\n",
              "      <th>50%</th>\n",
              "      <td>66.662275</td>\n",
              "      <td>83.754655</td>\n",
              "      <td>1088.000000</td>\n",
              "      <td>0.104857</td>\n",
              "      <td>65.538340</td>\n",
              "      <td>75.705139</td>\n",
              "      <td>1150.000000</td>\n",
              "    </tr>\n",
              "    <tr>\n",
              "      <th>75%</th>\n",
              "      <td>73.106919</td>\n",
              "      <td>91.478434</td>\n",
              "      <td>1388.000000</td>\n",
              "      <td>0.149316</td>\n",
              "      <td>71.989993</td>\n",
              "      <td>85.066200</td>\n",
              "      <td>1317.000000</td>\n",
              "    </tr>\n",
              "    <tr>\n",
              "      <th>max</th>\n",
              "      <td>93.916221</td>\n",
              "      <td>121.295082</td>\n",
              "      <td>3408.000000</td>\n",
              "      <td>0.691729</td>\n",
              "      <td>89.714286</td>\n",
              "      <td>126.833333</td>\n",
              "      <td>1763.000000</td>\n",
              "    </tr>\n",
              "  </tbody>\n",
              "</table>\n",
              "</div>\n",
              "    <div class=\"colab-df-buttons\">\n",
              "\n",
              "  <div class=\"colab-df-container\">\n",
              "    <button class=\"colab-df-convert\" onclick=\"convertToInteractive('df-027b1f96-5d62-4c9e-b0f4-3d5eae8a92e7')\"\n",
              "            title=\"Convert this dataframe to an interactive table.\"\n",
              "            style=\"display:none;\">\n",
              "\n",
              "  <svg xmlns=\"http://www.w3.org/2000/svg\" height=\"24px\" viewBox=\"0 -960 960 960\">\n",
              "    <path d=\"M120-120v-720h720v720H120Zm60-500h600v-160H180v160Zm220 220h160v-160H400v160Zm0 220h160v-160H400v160ZM180-400h160v-160H180v160Zm440 0h160v-160H620v160ZM180-180h160v-160H180v160Zm440 0h160v-160H620v160Z\"/>\n",
              "  </svg>\n",
              "    </button>\n",
              "\n",
              "  <style>\n",
              "    .colab-df-container {\n",
              "      display:flex;\n",
              "      gap: 12px;\n",
              "    }\n",
              "\n",
              "    .colab-df-convert {\n",
              "      background-color: #E8F0FE;\n",
              "      border: none;\n",
              "      border-radius: 50%;\n",
              "      cursor: pointer;\n",
              "      display: none;\n",
              "      fill: #1967D2;\n",
              "      height: 32px;\n",
              "      padding: 0 0 0 0;\n",
              "      width: 32px;\n",
              "    }\n",
              "\n",
              "    .colab-df-convert:hover {\n",
              "      background-color: #E2EBFA;\n",
              "      box-shadow: 0px 1px 2px rgba(60, 64, 67, 0.3), 0px 1px 3px 1px rgba(60, 64, 67, 0.15);\n",
              "      fill: #174EA6;\n",
              "    }\n",
              "\n",
              "    .colab-df-buttons div {\n",
              "      margin-bottom: 4px;\n",
              "    }\n",
              "\n",
              "    [theme=dark] .colab-df-convert {\n",
              "      background-color: #3B4455;\n",
              "      fill: #D2E3FC;\n",
              "    }\n",
              "\n",
              "    [theme=dark] .colab-df-convert:hover {\n",
              "      background-color: #434B5C;\n",
              "      box-shadow: 0px 1px 3px 1px rgba(0, 0, 0, 0.15);\n",
              "      filter: drop-shadow(0px 1px 2px rgba(0, 0, 0, 0.3));\n",
              "      fill: #FFFFFF;\n",
              "    }\n",
              "  </style>\n",
              "\n",
              "    <script>\n",
              "      const buttonEl =\n",
              "        document.querySelector('#df-027b1f96-5d62-4c9e-b0f4-3d5eae8a92e7 button.colab-df-convert');\n",
              "      buttonEl.style.display =\n",
              "        google.colab.kernel.accessAllowed ? 'block' : 'none';\n",
              "\n",
              "      async function convertToInteractive(key) {\n",
              "        const element = document.querySelector('#df-027b1f96-5d62-4c9e-b0f4-3d5eae8a92e7');\n",
              "        const dataTable =\n",
              "          await google.colab.kernel.invokeFunction('convertToInteractive',\n",
              "                                                    [key], {});\n",
              "        if (!dataTable) return;\n",
              "\n",
              "        const docLinkHtml = 'Like what you see? Visit the ' +\n",
              "          '<a target=\"_blank\" href=https://colab.research.google.com/notebooks/data_table.ipynb>data table notebook</a>'\n",
              "          + ' to learn more about interactive tables.';\n",
              "        element.innerHTML = '';\n",
              "        dataTable['output_type'] = 'display_data';\n",
              "        await google.colab.output.renderOutput(dataTable, element);\n",
              "        const docLink = document.createElement('div');\n",
              "        docLink.innerHTML = docLinkHtml;\n",
              "        element.appendChild(docLink);\n",
              "      }\n",
              "    </script>\n",
              "  </div>\n",
              "\n",
              "\n",
              "    <div id=\"df-e14d8ddc-44bf-4e23-9dfd-31e35de9780b\">\n",
              "      <button class=\"colab-df-quickchart\" onclick=\"quickchart('df-e14d8ddc-44bf-4e23-9dfd-31e35de9780b')\"\n",
              "                title=\"Suggest charts\"\n",
              "                style=\"display:none;\">\n",
              "\n",
              "<svg xmlns=\"http://www.w3.org/2000/svg\" height=\"24px\"viewBox=\"0 0 24 24\"\n",
              "     width=\"24px\">\n",
              "    <g>\n",
              "        <path d=\"M19 3H5c-1.1 0-2 .9-2 2v14c0 1.1.9 2 2 2h14c1.1 0 2-.9 2-2V5c0-1.1-.9-2-2-2zM9 17H7v-7h2v7zm4 0h-2V7h2v10zm4 0h-2v-4h2v4z\"/>\n",
              "    </g>\n",
              "</svg>\n",
              "      </button>\n",
              "\n",
              "<style>\n",
              "  .colab-df-quickchart {\n",
              "      --bg-color: #E8F0FE;\n",
              "      --fill-color: #1967D2;\n",
              "      --hover-bg-color: #E2EBFA;\n",
              "      --hover-fill-color: #174EA6;\n",
              "      --disabled-fill-color: #AAA;\n",
              "      --disabled-bg-color: #DDD;\n",
              "  }\n",
              "\n",
              "  [theme=dark] .colab-df-quickchart {\n",
              "      --bg-color: #3B4455;\n",
              "      --fill-color: #D2E3FC;\n",
              "      --hover-bg-color: #434B5C;\n",
              "      --hover-fill-color: #FFFFFF;\n",
              "      --disabled-bg-color: #3B4455;\n",
              "      --disabled-fill-color: #666;\n",
              "  }\n",
              "\n",
              "  .colab-df-quickchart {\n",
              "    background-color: var(--bg-color);\n",
              "    border: none;\n",
              "    border-radius: 50%;\n",
              "    cursor: pointer;\n",
              "    display: none;\n",
              "    fill: var(--fill-color);\n",
              "    height: 32px;\n",
              "    padding: 0;\n",
              "    width: 32px;\n",
              "  }\n",
              "\n",
              "  .colab-df-quickchart:hover {\n",
              "    background-color: var(--hover-bg-color);\n",
              "    box-shadow: 0 1px 2px rgba(60, 64, 67, 0.3), 0 1px 3px 1px rgba(60, 64, 67, 0.15);\n",
              "    fill: var(--button-hover-fill-color);\n",
              "  }\n",
              "\n",
              "  .colab-df-quickchart-complete:disabled,\n",
              "  .colab-df-quickchart-complete:disabled:hover {\n",
              "    background-color: var(--disabled-bg-color);\n",
              "    fill: var(--disabled-fill-color);\n",
              "    box-shadow: none;\n",
              "  }\n",
              "\n",
              "  .colab-df-spinner {\n",
              "    border: 2px solid var(--fill-color);\n",
              "    border-color: transparent;\n",
              "    border-bottom-color: var(--fill-color);\n",
              "    animation:\n",
              "      spin 1s steps(1) infinite;\n",
              "  }\n",
              "\n",
              "  @keyframes spin {\n",
              "    0% {\n",
              "      border-color: transparent;\n",
              "      border-bottom-color: var(--fill-color);\n",
              "      border-left-color: var(--fill-color);\n",
              "    }\n",
              "    20% {\n",
              "      border-color: transparent;\n",
              "      border-left-color: var(--fill-color);\n",
              "      border-top-color: var(--fill-color);\n",
              "    }\n",
              "    30% {\n",
              "      border-color: transparent;\n",
              "      border-left-color: var(--fill-color);\n",
              "      border-top-color: var(--fill-color);\n",
              "      border-right-color: var(--fill-color);\n",
              "    }\n",
              "    40% {\n",
              "      border-color: transparent;\n",
              "      border-right-color: var(--fill-color);\n",
              "      border-top-color: var(--fill-color);\n",
              "    }\n",
              "    60% {\n",
              "      border-color: transparent;\n",
              "      border-right-color: var(--fill-color);\n",
              "    }\n",
              "    80% {\n",
              "      border-color: transparent;\n",
              "      border-right-color: var(--fill-color);\n",
              "      border-bottom-color: var(--fill-color);\n",
              "    }\n",
              "    90% {\n",
              "      border-color: transparent;\n",
              "      border-bottom-color: var(--fill-color);\n",
              "    }\n",
              "  }\n",
              "</style>\n",
              "\n",
              "      <script>\n",
              "        async function quickchart(key) {\n",
              "          const quickchartButtonEl =\n",
              "            document.querySelector('#' + key + ' button');\n",
              "          quickchartButtonEl.disabled = true;  // To prevent multiple clicks.\n",
              "          quickchartButtonEl.classList.add('colab-df-spinner');\n",
              "          try {\n",
              "            const charts = await google.colab.kernel.invokeFunction(\n",
              "                'suggestCharts', [key], {});\n",
              "          } catch (error) {\n",
              "            console.error('Error during call to suggestCharts:', error);\n",
              "          }\n",
              "          quickchartButtonEl.classList.remove('colab-df-spinner');\n",
              "          quickchartButtonEl.classList.add('colab-df-quickchart-complete');\n",
              "        }\n",
              "        (() => {\n",
              "          let quickchartButtonEl =\n",
              "            document.querySelector('#df-e14d8ddc-44bf-4e23-9dfd-31e35de9780b button');\n",
              "          quickchartButtonEl.style.display =\n",
              "            google.colab.kernel.accessAllowed ? 'block' : 'none';\n",
              "        })();\n",
              "      </script>\n",
              "    </div>\n",
              "\n",
              "    </div>\n",
              "  </div>\n"
            ],
            "application/vnd.google.colaboratory.intrinsic+json": {
              "type": "dataframe",
              "summary": "{\n  \"name\": \"plt\",\n  \"rows\": 8,\n  \"fields\": [\n    {\n      \"column\": \"pupil_x_center\",\n      \"properties\": {\n        \"dtype\": \"number\",\n        \"std\": 9679.633991608991,\n        \"min\": 0.0,\n        \"max\": 27431.0,\n        \"num_unique_values\": 8,\n        \"samples\": [\n          65.74751931394489,\n          66.6622746185853,\n          27431.0\n        ],\n        \"semantic_type\": \"\",\n        \"description\": \"\"\n      }\n    },\n    {\n      \"column\": \"pupil_y_center\",\n      \"properties\": {\n        \"dtype\": \"number\",\n        \"std\": 9674.717631878048,\n        \"min\": 0.0,\n        \"max\": 27431.0,\n        \"num_unique_values\": 8,\n        \"samples\": [\n          82.38215419271509,\n          83.75465498357065,\n          27431.0\n        ],\n        \"semantic_type\": \"\",\n        \"description\": \"\"\n      }\n    },\n    {\n      \"column\": \"pupil_area\",\n      \"properties\": {\n        \"dtype\": \"number\",\n        \"std\": 9334.432271109015,\n        \"min\": 0.0,\n        \"max\": 27431.0,\n        \"num_unique_values\": 8,\n        \"samples\": [\n          1127.5024607196237,\n          1088.0,\n          27431.0\n        ],\n        \"semantic_type\": \"\",\n        \"description\": \"\"\n      }\n    },\n    {\n      \"column\": \"eyelid_closure\",\n      \"properties\": {\n        \"dtype\": \"number\",\n        \"std\": 9698.261886368296,\n        \"min\": 0.0,\n        \"max\": 27431.0,\n        \"num_unique_values\": 8,\n        \"samples\": [\n          0.12065061598743475,\n          0.10485651202554469,\n          27431.0\n        ],\n        \"semantic_type\": \"\",\n        \"description\": \"\"\n      }\n    },\n    {\n      \"column\": \"iris_x_center\",\n      \"properties\": {\n        \"dtype\": \"number\",\n        \"std\": 9680.080075125003,\n        \"min\": 0.0,\n        \"max\": 27431.0,\n        \"num_unique_values\": 8,\n        \"samples\": [\n          64.91859022762398,\n          65.53833992094862,\n          27431.0\n        ],\n        \"semantic_type\": \"\",\n        \"description\": \"\"\n      }\n    },\n    {\n      \"column\": \"iris_y_center\",\n      \"properties\": {\n        \"dtype\": \"number\",\n        \"std\": 9675.973637103361,\n        \"min\": 0.0,\n        \"max\": 27431.0,\n        \"num_unique_values\": 8,\n        \"samples\": [\n          74.6434122793238,\n          75.70513900589722,\n          27431.0\n        ],\n        \"semantic_type\": \"\",\n        \"description\": \"\"\n      }\n    },\n    {\n      \"column\": \"iris_area\",\n      \"properties\": {\n        \"dtype\": \"number\",\n        \"std\": 9380.568927731001,\n        \"min\": 0.0,\n        \"max\": 27431.0,\n        \"num_unique_values\": 8,\n        \"samples\": [\n          1131.2232510663118,\n          1150.0,\n          27431.0\n        ],\n        \"semantic_type\": \"\",\n        \"description\": \"\"\n      }\n    }\n  ]\n}"
            }
          },
          "metadata": {}
        },
        {
          "output_type": "stream",
          "name": "stdout",
          "text": [
            "\n",
            "✅ Summary statistics for target variables:\n"
          ]
        },
        {
          "output_type": "display_data",
          "data": {
            "text/plain": [
              "       blinking_status    pupil_size        gaze_x        gaze_y\n",
              "count     27431.000000  27431.000000  27431.000000  27431.000000\n",
              "mean          0.099996   1127.502461      0.818311      7.710971\n",
              "std           0.300001    456.496608     11.699062      4.743960\n",
              "min           0.000000      0.000000    -30.386561    -14.180567\n",
              "25%           0.000000    811.000000     -7.879014      4.364208\n",
              "50%           0.000000   1088.000000      0.436348      7.743270\n",
              "75%           0.000000   1388.000000     10.557018     10.699039\n",
              "max           1.000000   3408.000000     51.679193     27.294611"
            ],
            "text/html": [
              "\n",
              "  <div id=\"df-7156ade7-1d3b-4b4f-9212-fceefbaf73e2\" class=\"colab-df-container\">\n",
              "    <div>\n",
              "<style scoped>\n",
              "    .dataframe tbody tr th:only-of-type {\n",
              "        vertical-align: middle;\n",
              "    }\n",
              "\n",
              "    .dataframe tbody tr th {\n",
              "        vertical-align: top;\n",
              "    }\n",
              "\n",
              "    .dataframe thead th {\n",
              "        text-align: right;\n",
              "    }\n",
              "</style>\n",
              "<table border=\"1\" class=\"dataframe\">\n",
              "  <thead>\n",
              "    <tr style=\"text-align: right;\">\n",
              "      <th></th>\n",
              "      <th>blinking_status</th>\n",
              "      <th>pupil_size</th>\n",
              "      <th>gaze_x</th>\n",
              "      <th>gaze_y</th>\n",
              "    </tr>\n",
              "  </thead>\n",
              "  <tbody>\n",
              "    <tr>\n",
              "      <th>count</th>\n",
              "      <td>27431.000000</td>\n",
              "      <td>27431.000000</td>\n",
              "      <td>27431.000000</td>\n",
              "      <td>27431.000000</td>\n",
              "    </tr>\n",
              "    <tr>\n",
              "      <th>mean</th>\n",
              "      <td>0.099996</td>\n",
              "      <td>1127.502461</td>\n",
              "      <td>0.818311</td>\n",
              "      <td>7.710971</td>\n",
              "    </tr>\n",
              "    <tr>\n",
              "      <th>std</th>\n",
              "      <td>0.300001</td>\n",
              "      <td>456.496608</td>\n",
              "      <td>11.699062</td>\n",
              "      <td>4.743960</td>\n",
              "    </tr>\n",
              "    <tr>\n",
              "      <th>min</th>\n",
              "      <td>0.000000</td>\n",
              "      <td>0.000000</td>\n",
              "      <td>-30.386561</td>\n",
              "      <td>-14.180567</td>\n",
              "    </tr>\n",
              "    <tr>\n",
              "      <th>25%</th>\n",
              "      <td>0.000000</td>\n",
              "      <td>811.000000</td>\n",
              "      <td>-7.879014</td>\n",
              "      <td>4.364208</td>\n",
              "    </tr>\n",
              "    <tr>\n",
              "      <th>50%</th>\n",
              "      <td>0.000000</td>\n",
              "      <td>1088.000000</td>\n",
              "      <td>0.436348</td>\n",
              "      <td>7.743270</td>\n",
              "    </tr>\n",
              "    <tr>\n",
              "      <th>75%</th>\n",
              "      <td>0.000000</td>\n",
              "      <td>1388.000000</td>\n",
              "      <td>10.557018</td>\n",
              "      <td>10.699039</td>\n",
              "    </tr>\n",
              "    <tr>\n",
              "      <th>max</th>\n",
              "      <td>1.000000</td>\n",
              "      <td>3408.000000</td>\n",
              "      <td>51.679193</td>\n",
              "      <td>27.294611</td>\n",
              "    </tr>\n",
              "  </tbody>\n",
              "</table>\n",
              "</div>\n",
              "    <div class=\"colab-df-buttons\">\n",
              "\n",
              "  <div class=\"colab-df-container\">\n",
              "    <button class=\"colab-df-convert\" onclick=\"convertToInteractive('df-7156ade7-1d3b-4b4f-9212-fceefbaf73e2')\"\n",
              "            title=\"Convert this dataframe to an interactive table.\"\n",
              "            style=\"display:none;\">\n",
              "\n",
              "  <svg xmlns=\"http://www.w3.org/2000/svg\" height=\"24px\" viewBox=\"0 -960 960 960\">\n",
              "    <path d=\"M120-120v-720h720v720H120Zm60-500h600v-160H180v160Zm220 220h160v-160H400v160Zm0 220h160v-160H400v160ZM180-400h160v-160H180v160Zm440 0h160v-160H620v160ZM180-180h160v-160H180v160Zm440 0h160v-160H620v160Z\"/>\n",
              "  </svg>\n",
              "    </button>\n",
              "\n",
              "  <style>\n",
              "    .colab-df-container {\n",
              "      display:flex;\n",
              "      gap: 12px;\n",
              "    }\n",
              "\n",
              "    .colab-df-convert {\n",
              "      background-color: #E8F0FE;\n",
              "      border: none;\n",
              "      border-radius: 50%;\n",
              "      cursor: pointer;\n",
              "      display: none;\n",
              "      fill: #1967D2;\n",
              "      height: 32px;\n",
              "      padding: 0 0 0 0;\n",
              "      width: 32px;\n",
              "    }\n",
              "\n",
              "    .colab-df-convert:hover {\n",
              "      background-color: #E2EBFA;\n",
              "      box-shadow: 0px 1px 2px rgba(60, 64, 67, 0.3), 0px 1px 3px 1px rgba(60, 64, 67, 0.15);\n",
              "      fill: #174EA6;\n",
              "    }\n",
              "\n",
              "    .colab-df-buttons div {\n",
              "      margin-bottom: 4px;\n",
              "    }\n",
              "\n",
              "    [theme=dark] .colab-df-convert {\n",
              "      background-color: #3B4455;\n",
              "      fill: #D2E3FC;\n",
              "    }\n",
              "\n",
              "    [theme=dark] .colab-df-convert:hover {\n",
              "      background-color: #434B5C;\n",
              "      box-shadow: 0px 1px 3px 1px rgba(0, 0, 0, 0.15);\n",
              "      filter: drop-shadow(0px 1px 2px rgba(0, 0, 0, 0.3));\n",
              "      fill: #FFFFFF;\n",
              "    }\n",
              "  </style>\n",
              "\n",
              "    <script>\n",
              "      const buttonEl =\n",
              "        document.querySelector('#df-7156ade7-1d3b-4b4f-9212-fceefbaf73e2 button.colab-df-convert');\n",
              "      buttonEl.style.display =\n",
              "        google.colab.kernel.accessAllowed ? 'block' : 'none';\n",
              "\n",
              "      async function convertToInteractive(key) {\n",
              "        const element = document.querySelector('#df-7156ade7-1d3b-4b4f-9212-fceefbaf73e2');\n",
              "        const dataTable =\n",
              "          await google.colab.kernel.invokeFunction('convertToInteractive',\n",
              "                                                    [key], {});\n",
              "        if (!dataTable) return;\n",
              "\n",
              "        const docLinkHtml = 'Like what you see? Visit the ' +\n",
              "          '<a target=\"_blank\" href=https://colab.research.google.com/notebooks/data_table.ipynb>data table notebook</a>'\n",
              "          + ' to learn more about interactive tables.';\n",
              "        element.innerHTML = '';\n",
              "        dataTable['output_type'] = 'display_data';\n",
              "        await google.colab.output.renderOutput(dataTable, element);\n",
              "        const docLink = document.createElement('div');\n",
              "        docLink.innerHTML = docLinkHtml;\n",
              "        element.appendChild(docLink);\n",
              "      }\n",
              "    </script>\n",
              "  </div>\n",
              "\n",
              "\n",
              "    <div id=\"df-193f4292-46fc-4c88-95f8-b38c2f89d3b6\">\n",
              "      <button class=\"colab-df-quickchart\" onclick=\"quickchart('df-193f4292-46fc-4c88-95f8-b38c2f89d3b6')\"\n",
              "                title=\"Suggest charts\"\n",
              "                style=\"display:none;\">\n",
              "\n",
              "<svg xmlns=\"http://www.w3.org/2000/svg\" height=\"24px\"viewBox=\"0 0 24 24\"\n",
              "     width=\"24px\">\n",
              "    <g>\n",
              "        <path d=\"M19 3H5c-1.1 0-2 .9-2 2v14c0 1.1.9 2 2 2h14c1.1 0 2-.9 2-2V5c0-1.1-.9-2-2-2zM9 17H7v-7h2v7zm4 0h-2V7h2v10zm4 0h-2v-4h2v4z\"/>\n",
              "    </g>\n",
              "</svg>\n",
              "      </button>\n",
              "\n",
              "<style>\n",
              "  .colab-df-quickchart {\n",
              "      --bg-color: #E8F0FE;\n",
              "      --fill-color: #1967D2;\n",
              "      --hover-bg-color: #E2EBFA;\n",
              "      --hover-fill-color: #174EA6;\n",
              "      --disabled-fill-color: #AAA;\n",
              "      --disabled-bg-color: #DDD;\n",
              "  }\n",
              "\n",
              "  [theme=dark] .colab-df-quickchart {\n",
              "      --bg-color: #3B4455;\n",
              "      --fill-color: #D2E3FC;\n",
              "      --hover-bg-color: #434B5C;\n",
              "      --hover-fill-color: #FFFFFF;\n",
              "      --disabled-bg-color: #3B4455;\n",
              "      --disabled-fill-color: #666;\n",
              "  }\n",
              "\n",
              "  .colab-df-quickchart {\n",
              "    background-color: var(--bg-color);\n",
              "    border: none;\n",
              "    border-radius: 50%;\n",
              "    cursor: pointer;\n",
              "    display: none;\n",
              "    fill: var(--fill-color);\n",
              "    height: 32px;\n",
              "    padding: 0;\n",
              "    width: 32px;\n",
              "  }\n",
              "\n",
              "  .colab-df-quickchart:hover {\n",
              "    background-color: var(--hover-bg-color);\n",
              "    box-shadow: 0 1px 2px rgba(60, 64, 67, 0.3), 0 1px 3px 1px rgba(60, 64, 67, 0.15);\n",
              "    fill: var(--button-hover-fill-color);\n",
              "  }\n",
              "\n",
              "  .colab-df-quickchart-complete:disabled,\n",
              "  .colab-df-quickchart-complete:disabled:hover {\n",
              "    background-color: var(--disabled-bg-color);\n",
              "    fill: var(--disabled-fill-color);\n",
              "    box-shadow: none;\n",
              "  }\n",
              "\n",
              "  .colab-df-spinner {\n",
              "    border: 2px solid var(--fill-color);\n",
              "    border-color: transparent;\n",
              "    border-bottom-color: var(--fill-color);\n",
              "    animation:\n",
              "      spin 1s steps(1) infinite;\n",
              "  }\n",
              "\n",
              "  @keyframes spin {\n",
              "    0% {\n",
              "      border-color: transparent;\n",
              "      border-bottom-color: var(--fill-color);\n",
              "      border-left-color: var(--fill-color);\n",
              "    }\n",
              "    20% {\n",
              "      border-color: transparent;\n",
              "      border-left-color: var(--fill-color);\n",
              "      border-top-color: var(--fill-color);\n",
              "    }\n",
              "    30% {\n",
              "      border-color: transparent;\n",
              "      border-left-color: var(--fill-color);\n",
              "      border-top-color: var(--fill-color);\n",
              "      border-right-color: var(--fill-color);\n",
              "    }\n",
              "    40% {\n",
              "      border-color: transparent;\n",
              "      border-right-color: var(--fill-color);\n",
              "      border-top-color: var(--fill-color);\n",
              "    }\n",
              "    60% {\n",
              "      border-color: transparent;\n",
              "      border-right-color: var(--fill-color);\n",
              "    }\n",
              "    80% {\n",
              "      border-color: transparent;\n",
              "      border-right-color: var(--fill-color);\n",
              "      border-bottom-color: var(--fill-color);\n",
              "    }\n",
              "    90% {\n",
              "      border-color: transparent;\n",
              "      border-bottom-color: var(--fill-color);\n",
              "    }\n",
              "  }\n",
              "</style>\n",
              "\n",
              "      <script>\n",
              "        async function quickchart(key) {\n",
              "          const quickchartButtonEl =\n",
              "            document.querySelector('#' + key + ' button');\n",
              "          quickchartButtonEl.disabled = true;  // To prevent multiple clicks.\n",
              "          quickchartButtonEl.classList.add('colab-df-spinner');\n",
              "          try {\n",
              "            const charts = await google.colab.kernel.invokeFunction(\n",
              "                'suggestCharts', [key], {});\n",
              "          } catch (error) {\n",
              "            console.error('Error during call to suggestCharts:', error);\n",
              "          }\n",
              "          quickchartButtonEl.classList.remove('colab-df-spinner');\n",
              "          quickchartButtonEl.classList.add('colab-df-quickchart-complete');\n",
              "        }\n",
              "        (() => {\n",
              "          let quickchartButtonEl =\n",
              "            document.querySelector('#df-193f4292-46fc-4c88-95f8-b38c2f89d3b6 button');\n",
              "          quickchartButtonEl.style.display =\n",
              "            google.colab.kernel.accessAllowed ? 'block' : 'none';\n",
              "        })();\n",
              "      </script>\n",
              "    </div>\n",
              "\n",
              "    </div>\n",
              "  </div>\n"
            ],
            "application/vnd.google.colaboratory.intrinsic+json": {
              "type": "dataframe",
              "summary": "{\n  \"name\": \"plt\",\n  \"rows\": 8,\n  \"fields\": [\n    {\n      \"column\": \"blinking_status\",\n      \"properties\": {\n        \"dtype\": \"number\",\n        \"std\": 9698.252352878797,\n        \"min\": 0.0,\n        \"max\": 27431.0,\n        \"num_unique_values\": 5,\n        \"samples\": [\n          0.09999635448944624,\n          1.0,\n          0.3000006075843846\n        ],\n        \"semantic_type\": \"\",\n        \"description\": \"\"\n      }\n    },\n    {\n      \"column\": \"pupil_size\",\n      \"properties\": {\n        \"dtype\": \"number\",\n        \"std\": 9334.432271109015,\n        \"min\": 0.0,\n        \"max\": 27431.0,\n        \"num_unique_values\": 8,\n        \"samples\": [\n          1127.5024607196237,\n          1088.0,\n          27431.0\n        ],\n        \"semantic_type\": \"\",\n        \"description\": \"\"\n      }\n    },\n    {\n      \"column\": \"gaze_x\",\n      \"properties\": {\n        \"dtype\": \"number\",\n        \"std\": 9696.48542945911,\n        \"min\": -30.386561318247864,\n        \"max\": 27431.0,\n        \"num_unique_values\": 8,\n        \"samples\": [\n          0.8183106780713586,\n          0.43634756251579176,\n          27431.0\n        ],\n        \"semantic_type\": \"\",\n        \"description\": \"\"\n      }\n    },\n    {\n      \"column\": \"gaze_y\",\n      \"properties\": {\n        \"dtype\": \"number\",\n        \"std\": 9695.886261998563,\n        \"min\": -14.180566801619435,\n        \"max\": 27431.0,\n        \"num_unique_values\": 8,\n        \"samples\": [\n          7.710971276355217,\n          7.743269988653381,\n          27431.0\n        ],\n        \"semantic_type\": \"\",\n        \"description\": \"\"\n      }\n    }\n  ]\n}"
            }
          },
          "metadata": {}
        },
        {
          "output_type": "display_data",
          "data": {
            "text/plain": [
              "<Figure size 1500x1000 with 6 Axes>"
            ],
            "image/png": "[encoded data removed]"
          },
          "metadata": {}
        }
      ]
    },
    {
      "cell_type": "markdown",
      "metadata": {
        "id": "d621bcc1"
      },
      "source": [
        "## Define \"Normal\" Thresholds\n",
        "\n",
        "### Subtask:\n",
        "Define numerical thresholds for key features to identify potentially \"normal\" vs. \"abnormal\" eye movements."
      ]
    },
    {
      "cell_type": "markdown",
      "metadata": {
        "id": "122daf32"
      },
      "source": [
        "**Reasoning**:\n",
        "Define threshold values for pupil area, eyelid closure, and gaze coordinates based on their observed distributions to establish criteria for \"normal\" eye movements."
      ]
    },
    {
      "cell_type": "code",
      "metadata": {
        "colab": {
          "base_uri": "https://localhost:8080/"
        },
        "id": "e347e4dd",
        "outputId": "090e1911-61a2-40b0-93e7-bce300f997ca"
      },
      "source": [
        "import numpy as np\n",
        "\n",
        "# Assuming features_df and targets_df are available\n",
        "\n",
        "# Define thresholds based on feature distributions and summary statistics\n",
        "\n",
        "# 1. Pupil Area Thresholds:\n",
        "# Let's use the mean and standard deviation as a starting point to define a normal range.\n",
        "# You might consider values outside of mean +/- 2*std_dev as potentially abnormal.\n",
        "pupil_area_mean = features_df['pupil_area'].mean()\n",
        "pupil_area_std = features_df['pupil_area'].std()\n",
        "pupil_area_normal_lower_bound = pupil_area_mean - 2 * pupil_area_std\n",
        "pupil_area_normal_upper_bound = pupil_area_mean + 2 * pupil_area_std\n",
        "\n",
        "# Ensure lower bound is not negative\n",
        "if pupil_area_normal_lower_bound < 0:\n",
        "    pupil_area_normal_lower_bound = 0\n",
        "\n",
        "print(f\"Pupil Area Normal Range (Mean +/- 2*StdDev): {pupil_area_normal_lower_bound:.2f} to {pupil_area_normal_upper_bound:.2f}\")\n",
        "\n",
        "# 2. Eyelid Closure Threshold (for Blinking):\n",
        "# Based on the distribution, a higher value indicates more closure.\n",
        "# We can use a percentile (e.g., 95th percentile) as a threshold for blinking.\n",
        "eyelid_closure_threshold_blink = np.percentile(features_df['eyelid_closure'], 95) # Example: top 5% considered blinks\n",
        "\n",
        "print(f\"Eyelid Closure Threshold for Blinking (95th percentile): {eyelid_closure_threshold_blink:.4f}\")\n",
        "\n",
        "\n",
        "# 3. Gaze Direction Thresholds (Relative X and Y):\n",
        "# Assume gaze is normal when the pupil centroid is close to the iris centroid.\n",
        "# We can define a radius or a rectangular region around the mean relative gaze position.\n",
        "gaze_x_mean = targets_df['gaze_x'].mean()\n",
        "gaze_y_mean = targets_df['gaze_y'].mean()\n",
        "gaze_x_std = targets_df['gaze_x'].std()\n",
        "gaze_y_std = targets_df['gaze_y'].std()\n",
        "\n",
        "# Let's define a normal range as mean +/- 2*std_dev for both X and Y\n",
        "gaze_x_normal_lower_bound = gaze_x_mean - 2 * gaze_x_std\n",
        "gaze_x_normal_upper_bound = gaze_x_mean + 2 * gaze_x_std\n",
        "gaze_y_normal_lower_bound = gaze_y_mean - 2 * gaze_y_std\n",
        "gaze_y_normal_upper_bound = gaze_y_mean + 2 * gaze_y_std\n",
        "\n",
        "\n",
        "print(f\"Gaze X Normal Range (Mean +/- 2*StdDev): {gaze_x_normal_lower_bound:.2f} to {gaze_x_normal_upper_bound:.2f}\")\n",
        "print(f\"Gaze Y Normal Range (Mean +/- 2*StdDev): {gaze_y_normal_lower_bound:.2f} to {gaze_y_normal_upper_bound:.2f}\")\n",
        "\n",
        "\n",
        "print(\"\\n✅ Preliminary thresholds defined. Review and adjust these based on your specific criteria for 'normal' eye movements.\")\n",
        "\n",
        "# You can now use these defined thresholds to classify new data points as 'normal' or 'abnormal'\n",
        "# For example, to check if a new data point 'new_features' is within the normal pupil area range:\n",
        "# is_pupil_area_normal = (new_features[2] >= pupil_area_normal_lower_bound) and (new_features[2] <= pupil_area_normal_upper_bound)\n",
        "\n",
        "# To check for blinking:\n",
        "# is_blinking = new_features[3] > eyelid_closure_threshold_blink\n",
        "\n",
        "# To check if gaze is normal:\n",
        "# is_gaze_x_normal = (new_features[6] >= gaze_x_normal_lower_bound) and (new_features[6] <= gaze_x_normal_upper_bound)\n",
        "# is_gaze_y_normal = (new_features[7] >= gaze_y_normal_lower_bound) and (new_features[7] <= gaze_y_normal_upper_bound)\n",
        "\n",
        "# Note: The indices for new_features would depend on the order of features when you process new data."
      ],
      "execution_count": null,
      "outputs": [
        {
          "output_type": "stream",
          "name": "stdout",
          "text": [
            "Pupil Area Normal Range (Mean +/- 2*StdDev): 214.51 to 2040.50\n",
            "Eyelid Closure Threshold for Blinking (95th percentile): 0.2446\n",
            "Gaze X Normal Range (Mean +/- 2*StdDev): -22.58 to 24.22\n",
            "Gaze Y Normal Range (Mean +/- 2*StdDev): -1.78 to 17.20\n",
            "\n",
            "✅ Preliminary thresholds defined. Review and adjust these based on your specific criteria for 'normal' eye movements.\n"
          ]
        }
      ]
    },
    {
      "cell_type": "markdown",
      "metadata": {
        "id": "4fb9accd"
      },
      "source": [
        "## Visualize Feature Distributions to Identify Thresholds\n",
        "\n",
        "### Subtask:\n",
        "Visualize the distribution of key extracted features to inform the selection of \"normal\" thresholds."
      ]
    },
    {
      "cell_type": "markdown",
      "metadata": {
        "id": "055adea3"
      },
      "source": [
        "**Reasoning**:\n",
        "Visualize the distributions of key features (pupil area, eyelid closure, gaze X, gaze Y) to understand their typical range and identify potential threshold values for defining \"normal\" eye movements."
      ]
    },
    {
      "cell_type": "code",
      "metadata": {
        "colab": {
          "base_uri": "https://localhost:8080/",
          "height": 587
        },
        "id": "186dbef1",
        "outputId": "7bb0d9ae-4224-40e6-9724-2c832e0b10e5"
      },
      "source": [
        "import matplotlib.pyplot as plt\n",
        "import seaborn as sns\n",
        "import pandas as pd\n",
        "\n",
        "# Assuming features_df and targets_df are available from the verification step (cell 5281c6e7)\n",
        "# If not, recreate them from features_array and target_variables_array\n",
        "if 'features_df' not in locals() or 'targets_df' not in locals():\n",
        "    feature_column_names = ['pupil_x_center', 'pupil_y_center', 'pupil_area',\n",
        "                            'eyelid_closure', 'iris_x_center', 'iris_y_center', 'iris_area']\n",
        "    target_column_names = ['blinking_status', 'pupil_size', 'gaze_x', 'gaze_y']\n",
        "    features_df = pd.DataFrame(features_array, columns=feature_column_names)\n",
        "    targets_df = pd.DataFrame(target_variables_array, columns=target_column_names)\n",
        "\n",
        "\n",
        "print(\"✅ Visualizing feature distributions...\")\n",
        "\n",
        "plt.figure(figsize=(15, 5))\n",
        "\n",
        "plt.subplot(1, 3, 1)\n",
        "sns.histplot(features_df['pupil_area'], kde=True)\n",
        "plt.title('Distribution of Pupil Area')\n",
        "plt.xlabel(\"Pupil Area (pixels)\")\n",
        "plt.ylabel(\"Frequency\")\n",
        "\n",
        "plt.subplot(1, 3, 2)\n",
        "sns.histplot(features_df['eyelid_closure'], kde=True)\n",
        "plt.title('Distribution of Eyelid Closure Feature')\n",
        "plt.xlabel(\"Eyelid Closure (proportion)\")\n",
        "plt.ylabel(\"Frequency\")\n",
        "\n",
        "plt.subplot(1, 3, 3)\n",
        "sns.histplot(targets_df['gaze_x'], kde=True) # Correctly access gaze_x from targets_df\n",
        "plt.title('Distribution of Gaze X (Relative)')\n",
        "plt.xlabel(\"Gaze X (Relative Position)\")\n",
        "plt.ylabel(\"Frequency\")\n",
        "\n",
        "\n",
        "plt.tight_layout()\n",
        "plt.show()\n",
        "\n",
        "plt.figure(figsize=(8, 5))\n",
        "sns.histplot(targets_df['gaze_y'], kde=True) # Correctly access gaze_y from targets_df\n",
        "plt.title('Distribution of Gaze Y (Relative)')\n",
        "plt.xlabel(\"Gaze Y (Relative Position)\")\n",
        "plt.ylabel(\"Frequency\")\n",
        "plt.ylabel(\"Frequency\")\n",
        "plt.show()"
      ],
      "execution_count": null,
      "outputs": [
        {
          "output_type": "stream",
          "name": "stdout",
          "text": [
            "✅ Visualizing feature distributions...\n"
          ]
        },
        {
          "output_type": "display_data",
          "data": {
            "text/plain": [
              "<Figure size 1500x500 with 3 Axes>"
            ],
            "image/png": "[encoded data removed]"
          },
          "metadata": {}
        },
        {
          "output_type": "display_data",
          "data": {
            "text/plain": [
              "<Figure size 800x500 with 1 Axes>"
            ],
            "image/png": "[encoded data removed]"
          },
          "metadata": {}
        }
      ]
    },
    {
      "cell_type": "markdown",
      "metadata": {
        "id": "eeb06050"
      },
      "source": [
        "## Evaluate the Model\n",
        "\n",
        "### Subtask:\n",
        "Evaluate the performance of the trained models using appropriate metrics."
      ]
    },
    {
      "cell_type": "markdown",
      "metadata": {
        "id": "0426bbed"
      },
      "source": [
        "**Reasoning**:\n",
        "Evaluate the performance of the trained classification and regression models using appropriate metrics (accuracy, classification report, MSE, R2) to understand how well they perform on unseen data."
      ]
    },
    {
      "cell_type": "code",
      "metadata": {
        "colab": {
          "base_uri": "https://localhost:8080/"
        },
        "id": "3236c343",
        "outputId": "17a90b69-17ea-4a06-a817-d91e71e3eee5"
      },
      "source": [
        "# --- Evaluate Blinking Classification Model ---\n",
        "print(\"Evaluating Blinking Classification Model...\")\n",
        "y_pred_blinking = blinking_model.predict(X_test_scaled)\n",
        "print(\"✅ Blinking Model Evaluation:\")\n",
        "print(\"Accuracy:\", accuracy_score(y_test_blinking, y_pred_blinking))\n",
        "print(\"Classification Report:\\n\", classification_report(y_test_blinking, y_pred_blinking))\n",
        "\n",
        "# --- Evaluate Pupil Size Regression Model ---\n",
        "print(\"\\nEvaluating Pupil Size Regression Model...\")\n",
        "y_pred_size_scaled = pupil_size_model.predict(X_test_scaled)\n",
        "\n",
        "# Inverse transform the scaled predictions to get predictions in original scale\n",
        "y_pred_size = scaler_y_size.inverse_transform(y_pred_size_scaled.reshape(-1, 1)).ravel()\n",
        "y_test_size = y_test[:, 1] # Get original unscaled test targets for evaluation\n",
        "\n",
        "print(\"✅ Pupil Size Model Evaluation:\")\n",
        "print(\"Mean Squared Error:\", mean_squared_error(y_test_size, y_pred_size))\n",
        "print(\"R2 Score:\", r2_score(y_test_size, y_pred_size))\n",
        "\n",
        "# --- Evaluate Gaze Direction Regression Models ---\n",
        "print(\"\\nEvaluating Gaze Direction (X) Regression Model...\")\n",
        "y_pred_gaze_x_scaled = gaze_x_model.predict(X_test_scaled)\n",
        "y_pred_gaze_x = scaler_y_gaze_x.inverse_transform(y_pred_gaze_x_scaled.reshape(-1, 1)).ravel()\n",
        "y_test_gaze_x = y_test[:, 2]\n",
        "\n",
        "print(\"✅ Gaze Direction (X) Model Evaluation:\")\n",
        "print(\"Mean Squared Error:\", mean_squared_error(y_test_gaze_x, y_pred_gaze_x))\n",
        "print(\"R2 Score:\", r2_score(y_test_gaze_x, y_pred_gaze_x))\n",
        "\n",
        "print(\"\\nEvaluating Gaze Direction (Y) Regression Model...\")\n",
        "y_pred_gaze_y_scaled = gaze_y_model.predict(X_test_scaled)\n",
        "y_pred_gaze_y = scaler_y_gaze_y.inverse_transform(y_pred_gaze_y_scaled.reshape(-1, 1)).ravel()\n",
        "y_test_gaze_y = y_test[:, 3]\n",
        "\n",
        "print(\"✅ Gaze Direction (Y) Model Evaluation:\")\n",
        "print(\"Mean Squared Error:\", mean_squared_error(y_test_gaze_y, y_pred_gaze_y))\n",
        "print(\"R2 Score:\", r2_score(y_test_gaze_y, y_pred_gaze_y))"
      ],
      "execution_count": null,
      "outputs": [
        {
          "output_type": "stream",
          "name": "stdout",
          "text": [
            "Evaluating Blinking Classification Model...\n",
            "✅ Blinking Model Evaluation:\n",
            "Accuracy: 0.9987242573355203\n",
            "Classification Report:\n",
            "               precision    recall  f1-score   support\n",
            "\n",
            "         0.0       1.00      1.00      1.00      4934\n",
            "         1.0       1.00      0.99      0.99       553\n",
            "\n",
            "    accuracy                           1.00      5487\n",
            "   macro avg       1.00      0.99      1.00      5487\n",
            "weighted avg       1.00      1.00      1.00      5487\n",
            "\n",
            "\n",
            "Evaluating Pupil Size Regression Model...\n",
            "✅ Pupil Size Model Evaluation:\n",
            "Mean Squared Error: 0.23596965554948635\n",
            "R2 Score: 0.999998886024577\n",
            "\n",
            "Evaluating Gaze Direction (X) Regression Model...\n",
            "✅ Gaze Direction (X) Model Evaluation:\n",
            "Mean Squared Error: 0.25317736536872704\n",
            "R2 Score: 0.9981473327671574\n",
            "\n",
            "Evaluating Gaze Direction (Y) Regression Model...\n",
            "✅ Gaze Direction (Y) Model Evaluation:\n",
            "Mean Squared Error: 0.3177455504581871\n",
            "R2 Score: 0.9862275001217314\n"
          ]
        }
      ]
    },
    {
      "cell_type": "markdown",
      "metadata": {
        "id": "e7747042"
      },
      "source": [
        "## Prepare Data for Modeling\n",
        "\n",
        "### Subtask:\n",
        "Split the data into training and testing sets and scale the features and target variables."
      ]
    },
    {
      "cell_type": "markdown",
      "metadata": {
        "id": "46ed6137"
      },
      "source": [
        "**Reasoning**:\n",
        "Split the extracted features and target variables into training and testing sets and scale them to prepare the data for training a machine learning model."
      ]
    },
    {
      "cell_type": "code",
      "metadata": {
        "colab": {
          "base_uri": "https://localhost:8080/"
        },
        "id": "27642121",
        "outputId": "2a6758f2-b0d8-4cf3-8279-8885a01e9b34"
      },
      "source": [
        "from sklearn.model_selection import train_test_split\n",
        "from sklearn.preprocessing import StandardScaler\n",
        "\n",
        "# Assuming features_array and target_variables_array are available\n",
        "\n",
        "# Split data into training and testing sets\n",
        "# We need to split features and targets together to maintain correspondence\n",
        "X = features_array\n",
        "y = target_variables_array\n",
        "\n",
        "# For simplicity, let's split the data once and use it for all three tasks (blinking, size, gaze)\n",
        "X_train, X_test, y_train, y_test = train_test_split(X, y, test_size=0.2, random_state=42)\n",
        "\n",
        "# Scale features\n",
        "scaler_X = StandardScaler()\n",
        "X_train_scaled = scaler_X.fit_transform(X_train)\n",
        "X_test_scaled = scaler_X.transform(X_test)\n",
        "\n",
        "# Scale numerical target variables (Pupil Size, Gaze X, Gaze Y)\n",
        "# Blinking status is binary, so it doesn't need scaling\n",
        "scaler_y_size = StandardScaler()\n",
        "y_train_size_scaled = scaler_y_size.fit_transform(y_train[:, 1].reshape(-1, 1))\n",
        "y_test_size_scaled = scaler_y_size.transform(y_test[:, 1].reshape(-1, 1))\n",
        "\n",
        "scaler_y_gaze_x = StandardScaler()\n",
        "y_train_gaze_x_scaled = scaler_y_gaze_x.fit_transform(y_train[:, 2].reshape(-1, 1))\n",
        "y_test_gaze_x_scaled = scaler_y_gaze_x.transform(y_test[:, 2].reshape(-1, 1))\n",
        "\n",
        "scaler_y_gaze_y = StandardScaler()\n",
        "y_train_gaze_y_scaled = scaler_y_gaze_y.fit_transform(y_train[:, 3].reshape(-1, 1))\n",
        "y_test_gaze_y_scaled = scaler_y_gaze_y.transform(y_test[:, 3].reshape(-1, 1))\n",
        "\n",
        "\n",
        "# Blinking target (already binary)\n",
        "y_train_blinking = y_train[:, 0]\n",
        "y_test_blinking = y_test[:, 0]\n",
        "\n",
        "# Reshape scaled numerical targets back to 1D arrays if needed for some models\n",
        "y_train_size_scaled = y_train_size_scaled.ravel()\n",
        "y_test_size_scaled = y_test_size_scaled.ravel()\n",
        "y_train_gaze_x_scaled = y_train_gaze_x_scaled.ravel()\n",
        "y_test_gaze_x_scaled = y_test_gaze_x_scaled.ravel()\n",
        "y_train_gaze_y_scaled = y_train_gaze_y_scaled.ravel()\n",
        "y_test_gaze_y_scaled = y_test_gaze_y_scaled.ravel()\n",
        "\n",
        "\n",
        "print(\"✅ Data splitting and scaling complete.\")\n",
        "print(\"Shape of X_train_scaled:\", X_train_scaled.shape)\n",
        "print(\"Shape of X_test_scaled:\", X_test_scaled.shape)\n",
        "print(\"Shape of y_train_blinking:\", y_train_blinking.shape)\n",
        "print(\"Shape of y_test_blinking:\", y_test_blinking.shape)\n",
        "print(\"Shape of y_train_size_scaled:\", y_train_size_scaled.shape)\n",
        "print(\"Shape of y_test_size_scaled:\", y_test_size_scaled.shape)\n",
        "print(\"Shape of y_train_gaze_x_scaled:\", y_train_gaze_x_scaled.shape)\n",
        "print(\"Shape of y_test_gaze_x_scaled:\", y_test_gaze_x_scaled.shape)\n",
        "print(\"Shape of y_train_gaze_y_scaled:\", y_train_gaze_y_scaled.shape)\n",
        "print(\"Shape of y_test_gaze_y_scaled:\", y_test_gaze_y_scaled.shape)"
      ],
      "execution_count": null,
      "outputs": [
        {
          "output_type": "stream",
          "name": "stdout",
          "text": [
            "✅ Data splitting and scaling complete.\n",
            "Shape of X_train_scaled: (21944, 7)\n",
            "Shape of X_test_scaled: (5487, 7)\n",
            "Shape of y_train_blinking: (21944,)\n",
            "Shape of y_test_blinking: (5487,)\n",
            "Shape of y_train_size_scaled: (21944,)\n",
            "Shape of y_test_size_scaled: (5487,)\n",
            "Shape of y_train_gaze_x_scaled: (21944,)\n",
            "Shape of y_test_gaze_x_scaled: (5487,)\n",
            "Shape of y_train_gaze_y_scaled: (21944,)\n",
            "Shape of y_test_gaze_y_scaled: (5487,)\n"
          ]
        }
      ]
    },
    {
      "cell_type": "markdown",
      "metadata": {
        "id": "35ba2bfa"
      },
      "source": [
        "## Train Relevant Models\n",
        "\n",
        "### Subtask:\n",
        "Train models for blinking (classification), pupil size (regression), and gaze direction (regression)."
      ]
    },
    {
      "cell_type": "markdown",
      "metadata": {
        "id": "944855f6"
      },
      "source": [
        "**Reasoning**:\n",
        "Train appropriate machine learning models for each of the defined tasks (blinking, pupil size, and gaze direction) using the prepared training data."
      ]
    },
    {
      "cell_type": "code",
      "metadata": {
        "colab": {
          "base_uri": "https://localhost:8080/"
        },
        "id": "fe3e06db",
        "outputId": "e947f783-5b88-4686-8efa-79753a42ee70"
      },
      "source": [
        "from sklearn.linear_model import LogisticRegression # For blinking classification\n",
        "from sklearn.ensemble import RandomForestRegressor # For pupil size and gaze direction regression\n",
        "from sklearn.metrics import accuracy_score, classification_report, mean_squared_error, r2_score\n",
        "\n",
        "# --- Train Blinking Classification Model ---\n",
        "print(\"Training Blinking Classification Model...\")\n",
        "blinking_model = LogisticRegression(max_iter=1000) # Increased max_iter for convergence\n",
        "blinking_model.fit(X_train_scaled, y_train_blinking)\n",
        "print(\"✅ Blinking Model Training Complete.\")\n",
        "\n",
        "# --- Train Pupil Size Regression Model ---\n",
        "print(\"\\nTraining Pupil Size Regression Model...\")\n",
        "pupil_size_model = RandomForestRegressor(n_estimators=100, random_state=42, n_jobs=-1)\n",
        "pupil_size_model.fit(X_train_scaled, y_train_size_scaled)\n",
        "print(\"✅ Pupil Size Model Training Complete.\")\n",
        "\n",
        "# --- Train Gaze Direction Regression Models ---\n",
        "print(\"\\nTraining Gaze Direction (X) Regression Model...\")\n",
        "gaze_x_model = RandomForestRegressor(n_estimators=100, random_state=42, n_jobs=-1)\n",
        "gaze_x_model.fit(X_train_scaled, y_train_gaze_x_scaled)\n",
        "print(\"✅ Gaze Direction (X) Model Training Complete.\")\n",
        "\n",
        "print(\"\\nTraining Gaze Direction (Y) Regression Model...\")\n",
        "gaze_y_model = RandomForestRegressor(n_estimators=100, random_state=42, n_jobs=-1)\n",
        "gaze_y_model.fit(X_train_scaled, y_train_gaze_y_scaled)\n",
        "print(\"✅ Gaze Direction (Y) Model Training Complete.\")"
      ],
      "execution_count": null,
      "outputs": [
        {
          "output_type": "stream",
          "name": "stdout",
          "text": [
            "Training Blinking Classification Model...\n",
            "✅ Blinking Model Training Complete.\n",
            "\n",
            "Training Pupil Size Regression Model...\n",
            "✅ Pupil Size Model Training Complete.\n",
            "\n",
            "Training Gaze Direction (X) Regression Model...\n",
            "✅ Gaze Direction (X) Model Training Complete.\n",
            "\n",
            "Training Gaze Direction (Y) Regression Model...\n",
            "✅ Gaze Direction (Y) Model Training Complete.\n"
          ]
        }
      ]
    },
    {
      "cell_type": "markdown",
      "metadata": {
        "id": "04ab9c19"
      },
      "source": [
        "## Define target variables\n",
        "\n",
        "### Subtask:\n",
        "Define how to derive the target variables from the label data for blinking, pupil size, and gaze direction."
      ]
    },
    {
      "cell_type": "markdown",
      "metadata": {
        "id": "72e94c57"
      },
      "source": [
        "**Reasoning**:\n",
        "Define how to derive the target variables for blinking, pupil size, and gaze direction based on the OpenEDS label meanings and the extracted features."
      ]
    },
    {
      "cell_type": "code",
      "metadata": {
        "colab": {
          "base_uri": "https://localhost:8080/"
        },
        "id": "9b07fa1c",
        "outputId": "4fbd0015-34f3-4be5-b95d-f2859a1dec5b"
      },
      "source": [
        "import numpy as np\n",
        "\n",
        "# Define how to derive target variables\n",
        "\n",
        "# 1. Blinking:\n",
        "# A simple approach for blinking (binary: 0 for open, 1 for closed)\n",
        "# can be based on the eyelid closure feature. A high eyelid closure value\n",
        "# indicates the eyelid is significantly covering the pupil/iris, suggesting a blink.\n",
        "# We can set a threshold on the eyelid_closure_feature.\n",
        "# Let's assume the eyelid closure feature is the 4th column (index 3) in our features_array.\n",
        "# We need to determine an appropriate threshold based on the distribution of this feature.\n",
        "# For now, let's use a placeholder for the threshold.\n",
        "\n",
        "# 2. Pupil Size:\n",
        "# The pupil size can be directly derived from the pupil_area feature (number of pixels\n",
        "# with label 1). This is already calculated and is the 3rd column (index 2)\n",
        "# in our features_array. We will use this directly as the target variable for pupil size.\n",
        "\n",
        "# 3. Gaze Direction:\n",
        "# Gaze direction can be estimated from the relative position of the pupil centroid\n",
        "# (label 1) within the iris region (label 2).\n",
        "# The pupil centroid features are at indices 0 and 1 of features_array.\n",
        "# The iris centroid features are at indices 4 and 5 of features_array.\n",
        "# We can calculate the difference between the pupil centroid and the iris centroid\n",
        "# to get a relative position.\n",
        "# Relative X position = Pupil X center - Iris X center\n",
        "# Relative Y position = Pupil Y center - Iris Y center\n",
        "# These two values can serve as numerical target variables for gaze direction.\n",
        "\n",
        "# We will create a new array to hold these target variables.\n",
        "# This array will have columns for blinking (binary), pupil size (numerical),\n",
        "# and gaze direction (numerical X, numerical Y).\n",
        "\n",
        "# Placeholder for target variables\n",
        "target_variables = []\n",
        "\n",
        "# Assuming the order of features in features_array is:\n",
        "# [pupil_x_center, pupil_y_center, pupil_area, eyelid_closure, iris_x_center, iris_y_center, iris_area]\n",
        "# Indices:              0                 1           2               3               4               5           6\n",
        "\n",
        "# Determine a threshold for blinking (this will need to be refined based on data distribution)\n",
        "# Ensure features_array is defined and accessible from the previous step where features were extracted.\n",
        "# If features_array is not defined, this code block needs to be merged with the feature extraction step.\n",
        "# Assuming features_array is a numpy array from the previous successful execution.\n",
        "\n",
        "# Check if features_array is defined and not empty\n",
        "if 'features_array' in locals() and features_array.shape[0] > 0:\n",
        "    blinking_threshold = np.percentile(features_array[:, 3], 90) # Example: top 10% of closure values are considered blinks\n",
        "\n",
        "    for features in features_array:\n",
        "        # Blinking target (binary)\n",
        "        blinking_status = 1 if features[3] > blinking_threshold else 0 # 1 for closed (blink), 0 for open\n",
        "\n",
        "        # Pupil Size target (numerical)\n",
        "        pupil_size = features[2] # Directly use pupil area\n",
        "\n",
        "        # Gaze Direction targets (numerical X, numerical Y)\n",
        "        pupil_x, pupil_y = features[0], features[1]\n",
        "        iris_x, iris_y = features[4], features[5]\n",
        "\n",
        "        # Calculate relative position of pupil centroid within iris\n",
        "        # Handle cases where iris or pupil might not be detected (centroid is 0,0)\n",
        "        # If iris area is 0, relative position is not meaningful, set to 0,0 or a special value\n",
        "        if features[6] > 0 and features[2] > 0: # Check if both iris and pupil areas are positive\n",
        "            relative_gaze_x = pupil_x - iris_x\n",
        "            relative_gaze_y = pupil_y - iris_y\n",
        "        else:\n",
        "            relative_gaze_x = 0\n",
        "            relative_gaze_y = 0 # Or np.nan if you prefer to handle missing values later\n",
        "\n",
        "\n",
        "        target_variables.append([blinking_status, pupil_size, relative_gaze_x, relative_gaze_y])\n",
        "\n",
        "    target_variables_array = np.array(target_variables)\n",
        "\n",
        "    print(\"✅ Finished defining target variables. Shape:\", target_variables_array.shape)\n",
        "    print(\"Sample target variables (blinking, pupil_size, gaze_x, gaze_y):\")\n",
        "    print(target_variables_array[:5])\n",
        "else:\n",
        "    print(\"❌ features_array is not defined or is empty. Cannot define target variables.\")"
      ],
      "execution_count": null,
      "outputs": [
        {
          "output_type": "stream",
          "name": "stdout",
          "text": [
            "✅ Finished defining target variables. Shape: (27431, 4)\n",
            "Sample target variables (blinking, pupil_size, gaze_x, gaze_y):\n",
            "[[ 0.00000000e+00  1.12000000e+03 -2.38573900e+01  7.60105975e+00]\n",
            " [ 0.00000000e+00  8.60000000e+02  4.25597304e+00  7.42083707e-01]\n",
            " [ 0.00000000e+00  1.39300000e+03 -1.94156575e+01  9.43256223e+00]\n",
            " [ 0.00000000e+00  1.05300000e+03 -2.92847828e+00  7.54404347e+00]\n",
            " [ 0.00000000e+00  1.20700000e+03  1.67532233e+01  2.98680777e+00]]\n"
          ]
        }
      ]
    },
    {
      "cell_type": "markdown",
      "metadata": {
        "id": "0bd6726a"
      },
      "source": [
        "## Summary of Notebook Activities\n",
        "\n",
        "This notebook details the process of analyzing the OpenEDS dataset with the goal of extracting eye-tracking features and training models for predicting blinking, pupil size, and gaze direction, which can potentially be used for identifying abnormal eye movements related to conditions like photosensitive epilepsy.\n",
        "\n",
        "Here's a breakdown of the key steps performed:\n",
        "\n",
        "1.  **Dataset Download:** The OpenEDS dataset was downloaded from Kaggle using the `kagglehub` library.\n",
        "2.  **Data Loading and Exploration:** The notebook explored the directory structure of the downloaded dataset and loaded image, mask, and label files. Initial processing was done on a subset and then expanded to the full dataset. The structure and content of the label files (NumPy arrays) were investigated, confirming they are segmentation masks with specific values representing different eye regions (Background, Pupil, Iris, Eyelid).\n",
        "3.  **Feature Extraction:** Features were extracted from the images and label masks. These included:\n",
        "    *   Pupil features (x\\_center, y\\_center, area) derived from the pupil region (label 1).\n",
        "    *   Eyelid closure feature based on the overlap of the eyelid region (label 3) with the pupil/iris.\n",
        "    *   Iris features (x\\_center, y\\_center, area) derived from the iris region (label 2).\n",
        "4.  **Target Variable Definition:** Target variables for three tasks were defined based on the extracted features and label meanings:\n",
        "    *   Blinking status (binary), derived from the eyelid closure feature using a percentile threshold.\n",
        "    *   Pupil size (numerical), directly using the pupil area feature.\n",
        "    *   Gaze direction (numerical X and Y coordinates), calculated as the relative position of the pupil centroid within the iris centroid.\n",
        "5.  **Data Preparation for Modeling:** The extracted features and defined target variables were split into training and testing sets. Features and numerical target variables were scaled using `StandardScaler`.\n",
        "6.  **Model Training:** Machine learning models were trained for each task:\n",
        "    *   A Logistic Regression model for blinking classification.\n",
        "    *   Random Forest Regressor models for pupil size and gaze direction (X and Y) regression.\n",
        "7.  **Model Evaluation:** The trained models were evaluated on the test set using appropriate metrics:\n",
        "    *   Accuracy and Classification Report for blinking.\n",
        "    *   Mean Squared Error (MSE) and R2 Score for pupil size and gaze direction.\n",
        "    The models showed high performance on the test data.\n",
        "8.  **Threshold Definition:** Preliminary \"normal\" thresholds for pupil area, eyelid closure, and gaze direction were defined based on the statistical distributions of these features in the dataset.\n",
        "9.  **Working with New Data (Explained):** The process for applying this developed pipeline to new, unseen data from a smart glasses prototype was explained, emphasizing consistent preprocessing, feature extraction, and using the trained scaler and models for prediction and interpretation with the defined thresholds.\n",
        "\n",
        "This notebook provides a foundational analysis of the OpenEDS dataset for eye-tracking feature extraction and modeling, with a focus on applications related to identifying abnormal eye movements."
      ]
    },
    {
      "cell_type": "markdown",
      "metadata": {
        "id": "004a3805"
      },
      "source": [
        "## Define target variables\n",
        "\n",
        "### Subtask:\n",
        "Define how to derive the target variables from the label data for blinking, pupil size, and gaze direction.\n"
      ]
    },
    {
      "cell_type": "markdown",
      "metadata": {
        "id": "6710dd3d"
      },
      "source": [
        "**Reasoning**:\n",
        "Define how to derive the target variables for blinking, pupil size, and gaze direction based on the OpenEDS label meanings and the extracted features.\n",
        "\n"
      ]
    },
    {
      "cell_type": "code",
      "metadata": {
        "id": "e6ad9373"
      },
      "source": [
        "# Define how to derive target variables\n",
        "\n",
        "# 1. Blinking:\n",
        "# A simple approach for blinking (binary: 0 for open, 1 for closed)\n",
        "# can be based on the eyelid closure feature. A high eyelid closure value\n",
        "# indicates the eyelid is significantly covering the pupil/iris, suggesting a blink.\n",
        "# We can set a threshold on the eyelid_closure_feature.\n",
        "# Let's assume the eyelid closure feature is the 4th column (index 3) in our features_array.\n",
        "# We need to determine an appropriate threshold based on the distribution of this feature.\n",
        "# For now, let's use a placeholder for the threshold.\n",
        "\n",
        "# 2. Pupil Size:\n",
        "# The pupil size can be directly derived from the pupil_area feature (number of pixels\n",
        "# with label 1). This is already calculated and is the 3rd column (index 2)\n",
        "# in our features_array. We will use this directly as the target variable for pupil size.\n",
        "\n",
        "# 3. Gaze Direction:\n",
        "# Gaze direction can be estimated from the relative position of the pupil centroid\n",
        "# (label 1) within the iris region (label 2).\n",
        "# The pupil centroid features are at indices 0 and 1 of features_array.\n",
        "# The iris centroid features are at indices 4 and 5 of features_array.\n",
        "# We can calculate the difference between the pupil centroid and the iris centroid\n",
        "# to get a relative position.\n",
        "# Relative X position = Pupil X center - Iris X center\n",
        "# Relative Y position = Pupil Y center - Iris Y center\n",
        "# These two values can serve as numerical target variables for gaze direction.\n",
        "\n",
        "# We will create a new array to hold these target variables.\n",
        "# This array will have columns for blinking (binary), pupil size (numerical),\n",
        "# and gaze direction (numerical X, numerical Y).\n",
        "\n",
        "# Placeholder for target variables\n",
        "target_variables = []\n",
        "\n",
        "# Assuming the order of features in features_array is:\n",
        "# [pupil_x_center, pupil_y_center, pupil_area, eyelid_closure, iris_x_center, iris_y_center, iris_area]\n",
        "# Indices:              0                 1           2               3               4               5           6\n",
        "\n",
        "# Determine a threshold for blinking (this will need to be refined based on data distribution)\n",
        "blinking_threshold = np.percentile(features_array[:, 3], 90) # Example: top 10% of closure values are considered blinks\n",
        "\n",
        "for features in features_array:\n",
        "    # Blinking target (binary)\n",
        "    blinking_status = 1 if features[3] > blinking_threshold else 0 # 1 for closed (blink), 0 for open\n",
        "\n",
        "    # Pupil Size target (numerical)\n",
        "    pupil_size = features[2] # Directly use pupil area\n",
        "\n",
        "    # Gaze Direction targets (numerical X, numerical Y)\n",
        "    pupil_x, pupil_y = features[0], features[1]\n",
        "    iris_x, iris_y = features[4], features[5]\n",
        "\n",
        "    # Calculate relative position of pupil centroid within iris\n",
        "    # Handle cases where iris or pupil might not be detected (centroid is 0,0)\n",
        "    # If iris area is 0, relative position is not meaningful, set to 0,0 or a special value\n",
        "    if features[6] > 0 and features[2] > 0: # Check if both iris and pupil areas are positive\n",
        "        relative_gaze_x = pupil_x - iris_x\n",
        "        relative_gaze_y = pupil_y - iris_y\n",
        "    else:\n",
        "        relative_gaze_x = 0\n",
        "        relative_gaze_y = 0 # Or np.nan if you prefer to handle missing values later\n",
        "\n",
        "\n",
        "    target_variables.append([blinking_status, pupil_size, relative_gaze_x, relative_gaze_y])\n",
        "\n",
        "target_variables_array = np.array(target_variables)\n",
        "\n",
        "print(\"✅ Finished defining target variables. Shape:\", target_variables_array.shape)\n",
        "print(\"Sample target variables (blinking, pupil_size, gaze_x, gaze_y):\")\n",
        "print(target_variables_array[:5])"
      ],
      "execution_count": null,
      "outputs": []
    },
    {
      "cell_type": "markdown",
      "metadata": {
        "id": "b85296a4"
      },
      "source": [
        "### Process New Data - Preprocessing and Feature Extraction Snippet\n",
        "\n",
        "This code snippet demonstrates how to preprocess a single new image and its corresponding mask/label (if available) and extract features using the same methods applied to the OpenEDS dataset."
      ]
    },
    {
      "cell_type": "code",
      "metadata": {
        "colab": {
          "base_uri": "https://localhost:8080/"
        },
        "id": "0ae595cb",
        "outputId": "514d75f5-f4b4-4ff4-86e7-b20aef5dd17f"
      },
      "source": [
        "import os\n",
        "import numpy as np\n",
        "import cv2\n",
        "from tqdm import tqdm # Although not needed for a single image, useful if processing batches\n",
        "\n",
        "# --- Define paths for a single new data point ---\n",
        "# Replace with the actual path to your new image, mask, and label files\n",
        "new_image_path = \"/path/to/your/prototype/data/image.jpg\"\n",
        "new_mask_path = \"/path/to/your/prototype/data/mask.png\" # If you have masks\n",
        "new_label_path = \"/path/to/your/prototype/data/label.npy\" # If you have labels (e.g., ground truth)\n",
        "\n",
        "# Define the target size for resizing (must be the same as used for OpenEDS)\n",
        "target_size = (128, 128)\n",
        "\n",
        "# --- Load New Data ---\n",
        "new_img = cv2.imread(new_image_path)\n",
        "# Load mask and label if available and necessary for feature extraction/analysis\n",
        "new_mask = cv2.imread(new_mask_path, cv2.IMREAD_GRAYSCALE) if os.path.exists(new_mask_path) else None\n",
        "new_label_data = np.load(new_label_path) if os.path.exists(new_label_path) else None\n",
        "\n",
        "\n",
        "if new_img is None:\n",
        "    print(f\"Error: Could not read new image from {new_image_path}. Cannot proceed.\")\n",
        "else:\n",
        "    # --- Apply Preprocessing (Same as used for OpenEDS) ---\n",
        "    img_resized = cv2.resize(new_img, target_size)\n",
        "\n",
        "    if new_mask is not None:\n",
        "        mask_resized = cv2.resize(new_mask, target_size)\n",
        "        mask_normalized = mask_resized / 255.0\n",
        "    else:\n",
        "        mask_resized = None\n",
        "        mask_normalized = None\n",
        "        print(\"Warning: Mask not found for new image. Proceeding without mask-based preprocessing.\")\n",
        "\n",
        "    if new_label_data is not None:\n",
        "        # Use nearest neighbor for label masks to preserve distinct region values\n",
        "        label_resized = cv2.resize(new_label_data, target_size, interpolation=cv2.INTER_NEAREST)\n",
        "    else:\n",
        "        label_resized = None\n",
        "        print(\"Warning: Label data not found for new image. Proceeding without label-based processing.\")\n",
        "\n",
        "\n",
        "    # --- Feature Extraction (Same logic as used for OpenEDS) ---\n",
        "    # You need to replicate the feature extraction logic here.\n",
        "    # This will depend on which features you chose to extract from OpenEDS.\n",
        "    # Example (assuming you extract pupil features from the mask):\n",
        "    extracted_features = []\n",
        "\n",
        "    if mask_normalized is not None:\n",
        "        # Features from Pupil (assuming mask > 0 indicates pupil)\n",
        "        pupil_pixels = np.argwhere(mask_normalized > 0)\n",
        "        if pupil_pixels.size == 0:\n",
        "            pupil_features = [0, 0, 0] # x_center, y_center, pupil_area\n",
        "        else:\n",
        "            y_center, x_center = pupil_pixels.mean(axis=0)\n",
        "            pupil_area = len(pupil_pixels)\n",
        "            pupil_features = [x_center, y_center, pupil_area]\n",
        "        extracted_features.extend(pupil_features)\n",
        "\n",
        "    # Add logic here to extract other features (eyelid, iris, etc.)\n",
        "    # based on your implementation for OpenEDS, using label_resized if needed.\n",
        "\n",
        "    print(\"\\n✅ Preprocessing and feature extraction complete for new data.\")\n",
        "    # The 'extracted_features' list now contains the features for this new data point.\n",
        "    print(\"Extracted features:\", extracted_features)\n",
        "\n",
        "    # --- Next Steps: Scaling and Prediction ---\n",
        "    # Convert extracted_features to a numpy array and reshape for scaling\n",
        "    # new_features_array = np.array(extracted_features).reshape(1, -1)\n",
        "\n",
        "    # Scale the new features using the scaler fitted on OpenEDS training data\n",
        "    # Make sure 'scaler_X' is available in your environment (from previous training step)\n",
        "    # if 'scaler_X' in locals():\n",
        "    #     new_features_scaled = scaler_X.transform(new_features_array)\n",
        "    #     print(\"Scaled features:\", new_features_scaled)\n",
        "    #\n",
        "    #     # Make predictions using the trained models (blinking_model, pupil_size_model, gaze_x_model, gaze_y_model)\n",
        "    #     # Make sure your trained models are available in your environment\n",
        "    #     # if 'blinking_model' in locals():\n",
        "    #     #     predicted_blinking = blinking_model.predict(new_features_scaled)\n",
        "    #     #     print(\"Predicted Blinking Status:\", predicted_blinking)\n",
        "    #     # # ... predict for other models ...\n",
        "    #\n",
        "    # else:\n",
        "    #     print(\"❌ scaler_X not found. Cannot scale new features or make predictions.\")"
      ],
      "execution_count": null,
      "outputs": [
        {
          "output_type": "stream",
          "name": "stdout",
          "text": [
            "Error: Could not read new image from /path/to/your/prototype/data/image.jpg. Cannot proceed.\n"
          ]
        }
      ]
    }
  ]
}